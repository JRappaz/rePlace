{
 "cells": [
  {
   "cell_type": "code",
   "execution_count": 44,
   "metadata": {
    "collapsed": true
   },
   "outputs": [],
   "source": [
    "import pandas as pd\n",
    "import numpy as np\n",
    "import pickle\n",
    "\n",
    "import torch\n",
    "import torch.nn as nn\n",
    "import torch.optim as optim\n",
    "from torch import Tensor, LongTensor, FloatTensor\n",
    "from torch.autograd import Variable\n",
    "\n",
    "from tqdm import tqdm, tqdm_notebook\n",
    "tqdm.pandas()\n",
    "\n",
    "from sklearn.linear_model import LinearRegression\n",
    "from itertools import combinations\n",
    "import matplotlib.pyplot as plt"
   ]
  },
  {
   "cell_type": "code",
   "execution_count": 2,
   "metadata": {
    "scrolled": true
   },
   "outputs": [
    {
     "data": {
      "text/html": [
       "<div>\n",
       "<style>\n",
       "    .dataframe thead tr:only-child th {\n",
       "        text-align: right;\n",
       "    }\n",
       "\n",
       "    .dataframe thead th {\n",
       "        text-align: left;\n",
       "    }\n",
       "\n",
       "    .dataframe tbody tr th {\n",
       "        vertical-align: top;\n",
       "    }\n",
       "</style>\n",
       "<table border=\"1\" class=\"dataframe\">\n",
       "  <thead>\n",
       "    <tr style=\"text-align: right;\">\n",
       "      <th></th>\n",
       "      <th>ts</th>\n",
       "      <th>user</th>\n",
       "      <th>x_coordinate</th>\n",
       "      <th>y_coordinate</th>\n",
       "      <th>color</th>\n",
       "      <th>pixel</th>\n",
       "      <th>local_agreement</th>\n",
       "      <th>previous_agreement</th>\n",
       "      <th>previous_user</th>\n",
       "    </tr>\n",
       "  </thead>\n",
       "  <tbody>\n",
       "    <tr>\n",
       "      <th>13216722</th>\n",
       "      <td>1490918688000</td>\n",
       "      <td>2puPLvQ6X2zTSpfBkHXhxlIVo40=</td>\n",
       "      <td>505</td>\n",
       "      <td>510</td>\n",
       "      <td>1</td>\n",
       "      <td>511015</td>\n",
       "      <td>0.000</td>\n",
       "      <td>0.000000</td>\n",
       "      <td>None</td>\n",
       "    </tr>\n",
       "    <tr>\n",
       "      <th>15577615</th>\n",
       "      <td>1490918728000</td>\n",
       "      <td>2puPLvQ6X2zTSpfBkHXhxlIVo40=</td>\n",
       "      <td>490</td>\n",
       "      <td>504</td>\n",
       "      <td>1</td>\n",
       "      <td>504994</td>\n",
       "      <td>0.000</td>\n",
       "      <td>0.000000</td>\n",
       "      <td>None</td>\n",
       "    </tr>\n",
       "    <tr>\n",
       "      <th>5985698</th>\n",
       "      <td>1490918781000</td>\n",
       "      <td>2puPLvQ6X2zTSpfBkHXhxlIVo40=</td>\n",
       "      <td>518</td>\n",
       "      <td>498</td>\n",
       "      <td>0</td>\n",
       "      <td>499016</td>\n",
       "      <td>0.000</td>\n",
       "      <td>0.000000</td>\n",
       "      <td>None</td>\n",
       "    </tr>\n",
       "    <tr>\n",
       "      <th>16342824</th>\n",
       "      <td>1490919337000</td>\n",
       "      <td>GP2B74SRyrZ3HIflSFoAzM+jS3U=</td>\n",
       "      <td>474</td>\n",
       "      <td>495</td>\n",
       "      <td>11</td>\n",
       "      <td>495969</td>\n",
       "      <td>0.000</td>\n",
       "      <td>0.000000</td>\n",
       "      <td>None</td>\n",
       "    </tr>\n",
       "    <tr>\n",
       "      <th>5693574</th>\n",
       "      <td>1490919349000</td>\n",
       "      <td>GP2B74SRyrZ3HIflSFoAzM+jS3U=</td>\n",
       "      <td>477</td>\n",
       "      <td>495</td>\n",
       "      <td>11</td>\n",
       "      <td>495972</td>\n",
       "      <td>0.000</td>\n",
       "      <td>0.000000</td>\n",
       "      <td>None</td>\n",
       "    </tr>\n",
       "    <tr>\n",
       "      <th>9251462</th>\n",
       "      <td>1490919361000</td>\n",
       "      <td>GP2B74SRyrZ3HIflSFoAzM+jS3U=</td>\n",
       "      <td>472</td>\n",
       "      <td>496</td>\n",
       "      <td>11</td>\n",
       "      <td>496968</td>\n",
       "      <td>0.000</td>\n",
       "      <td>0.000000</td>\n",
       "      <td>None</td>\n",
       "    </tr>\n",
       "    <tr>\n",
       "      <th>2145079</th>\n",
       "      <td>1490919379000</td>\n",
       "      <td>GP2B74SRyrZ3HIflSFoAzM+jS3U=</td>\n",
       "      <td>473</td>\n",
       "      <td>497</td>\n",
       "      <td>11</td>\n",
       "      <td>497970</td>\n",
       "      <td>1.000</td>\n",
       "      <td>0.000000</td>\n",
       "      <td>None</td>\n",
       "    </tr>\n",
       "    <tr>\n",
       "      <th>966759</th>\n",
       "      <td>1490919398000</td>\n",
       "      <td>GP2B74SRyrZ3HIflSFoAzM+jS3U=</td>\n",
       "      <td>474</td>\n",
       "      <td>498</td>\n",
       "      <td>11</td>\n",
       "      <td>498972</td>\n",
       "      <td>1.000</td>\n",
       "      <td>1.000000</td>\n",
       "      <td>None</td>\n",
       "    </tr>\n",
       "    <tr>\n",
       "      <th>4497938</th>\n",
       "      <td>1490919410000</td>\n",
       "      <td>GP2B74SRyrZ3HIflSFoAzM+jS3U=</td>\n",
       "      <td>475</td>\n",
       "      <td>498</td>\n",
       "      <td>11</td>\n",
       "      <td>498973</td>\n",
       "      <td>1.000</td>\n",
       "      <td>1.000000</td>\n",
       "      <td>None</td>\n",
       "    </tr>\n",
       "    <tr>\n",
       "      <th>13970911</th>\n",
       "      <td>1490919426000</td>\n",
       "      <td>GP2B74SRyrZ3HIflSFoAzM+jS3U=</td>\n",
       "      <td>476</td>\n",
       "      <td>498</td>\n",
       "      <td>11</td>\n",
       "      <td>498974</td>\n",
       "      <td>1.000</td>\n",
       "      <td>1.000000</td>\n",
       "      <td>None</td>\n",
       "    </tr>\n",
       "    <tr>\n",
       "      <th>12804041</th>\n",
       "      <td>1490919465000</td>\n",
       "      <td>GP2B74SRyrZ3HIflSFoAzM+jS3U=</td>\n",
       "      <td>477</td>\n",
       "      <td>498</td>\n",
       "      <td>11</td>\n",
       "      <td>498975</td>\n",
       "      <td>1.000</td>\n",
       "      <td>1.000000</td>\n",
       "      <td>None</td>\n",
       "    </tr>\n",
       "    <tr>\n",
       "      <th>3316652</th>\n",
       "      <td>1490919480000</td>\n",
       "      <td>GP2B74SRyrZ3HIflSFoAzM+jS3U=</td>\n",
       "      <td>478</td>\n",
       "      <td>497</td>\n",
       "      <td>11</td>\n",
       "      <td>497975</td>\n",
       "      <td>1.000</td>\n",
       "      <td>1.000000</td>\n",
       "      <td>None</td>\n",
       "    </tr>\n",
       "    <tr>\n",
       "      <th>6868433</th>\n",
       "      <td>1490919494000</td>\n",
       "      <td>GP2B74SRyrZ3HIflSFoAzM+jS3U=</td>\n",
       "      <td>479</td>\n",
       "      <td>496</td>\n",
       "      <td>11</td>\n",
       "      <td>496975</td>\n",
       "      <td>1.000</td>\n",
       "      <td>1.000000</td>\n",
       "      <td>None</td>\n",
       "    </tr>\n",
       "    <tr>\n",
       "      <th>3523627</th>\n",
       "      <td>1490919557000</td>\n",
       "      <td>2puPLvQ6X2zTSpfBkHXhxlIVo40=</td>\n",
       "      <td>544</td>\n",
       "      <td>529</td>\n",
       "      <td>15</td>\n",
       "      <td>530073</td>\n",
       "      <td>0.000</td>\n",
       "      <td>0.000000</td>\n",
       "      <td>None</td>\n",
       "    </tr>\n",
       "    <tr>\n",
       "      <th>3330332</th>\n",
       "      <td>1490919589000</td>\n",
       "      <td>GP2B74SRyrZ3HIflSFoAzM+jS3U=</td>\n",
       "      <td>444</td>\n",
       "      <td>497</td>\n",
       "      <td>11</td>\n",
       "      <td>497941</td>\n",
       "      <td>0.000</td>\n",
       "      <td>0.000000</td>\n",
       "      <td>None</td>\n",
       "    </tr>\n",
       "    <tr>\n",
       "      <th>13987344</th>\n",
       "      <td>1490919601000</td>\n",
       "      <td>GP2B74SRyrZ3HIflSFoAzM+jS3U=</td>\n",
       "      <td>444</td>\n",
       "      <td>498</td>\n",
       "      <td>11</td>\n",
       "      <td>498942</td>\n",
       "      <td>1.000</td>\n",
       "      <td>0.000000</td>\n",
       "      <td>None</td>\n",
       "    </tr>\n",
       "    <tr>\n",
       "      <th>8052294</th>\n",
       "      <td>1490919613000</td>\n",
       "      <td>GP2B74SRyrZ3HIflSFoAzM+jS3U=</td>\n",
       "      <td>444</td>\n",
       "      <td>499</td>\n",
       "      <td>11</td>\n",
       "      <td>499943</td>\n",
       "      <td>1.000</td>\n",
       "      <td>1.000000</td>\n",
       "      <td>None</td>\n",
       "    </tr>\n",
       "    <tr>\n",
       "      <th>4499222</th>\n",
       "      <td>1490919625000</td>\n",
       "      <td>GP2B74SRyrZ3HIflSFoAzM+jS3U=</td>\n",
       "      <td>445</td>\n",
       "      <td>498</td>\n",
       "      <td>11</td>\n",
       "      <td>498943</td>\n",
       "      <td>1.000</td>\n",
       "      <td>0.666667</td>\n",
       "      <td>None</td>\n",
       "    </tr>\n",
       "    <tr>\n",
       "      <th>12786946</th>\n",
       "      <td>1490919638000</td>\n",
       "      <td>GP2B74SRyrZ3HIflSFoAzM+jS3U=</td>\n",
       "      <td>444</td>\n",
       "      <td>496</td>\n",
       "      <td>11</td>\n",
       "      <td>496940</td>\n",
       "      <td>1.000</td>\n",
       "      <td>0.000000</td>\n",
       "      <td>None</td>\n",
       "    </tr>\n",
       "    <tr>\n",
       "      <th>4515798</th>\n",
       "      <td>1490919649000</td>\n",
       "      <td>GP2B74SRyrZ3HIflSFoAzM+jS3U=</td>\n",
       "      <td>444</td>\n",
       "      <td>500</td>\n",
       "      <td>11</td>\n",
       "      <td>500944</td>\n",
       "      <td>1.000</td>\n",
       "      <td>1.000000</td>\n",
       "      <td>None</td>\n",
       "    </tr>\n",
       "    <tr>\n",
       "      <th>8063475</th>\n",
       "      <td>1490919662000</td>\n",
       "      <td>GP2B74SRyrZ3HIflSFoAzM+jS3U=</td>\n",
       "      <td>446</td>\n",
       "      <td>498</td>\n",
       "      <td>11</td>\n",
       "      <td>498944</td>\n",
       "      <td>1.000</td>\n",
       "      <td>1.000000</td>\n",
       "      <td>None</td>\n",
       "    </tr>\n",
       "    <tr>\n",
       "      <th>16345935</th>\n",
       "      <td>1490919674000</td>\n",
       "      <td>GP2B74SRyrZ3HIflSFoAzM+jS3U=</td>\n",
       "      <td>447</td>\n",
       "      <td>498</td>\n",
       "      <td>11</td>\n",
       "      <td>498945</td>\n",
       "      <td>1.000</td>\n",
       "      <td>1.000000</td>\n",
       "      <td>None</td>\n",
       "    </tr>\n",
       "    <tr>\n",
       "      <th>6871959</th>\n",
       "      <td>1490919685000</td>\n",
       "      <td>GP2B74SRyrZ3HIflSFoAzM+jS3U=</td>\n",
       "      <td>447</td>\n",
       "      <td>496</td>\n",
       "      <td>11</td>\n",
       "      <td>496943</td>\n",
       "      <td>0.000</td>\n",
       "      <td>0.000000</td>\n",
       "      <td>None</td>\n",
       "    </tr>\n",
       "    <tr>\n",
       "      <th>5688462</th>\n",
       "      <td>1490919697000</td>\n",
       "      <td>GP2B74SRyrZ3HIflSFoAzM+jS3U=</td>\n",
       "      <td>447</td>\n",
       "      <td>497</td>\n",
       "      <td>11</td>\n",
       "      <td>497944</td>\n",
       "      <td>1.000</td>\n",
       "      <td>0.666667</td>\n",
       "      <td>None</td>\n",
       "    </tr>\n",
       "    <tr>\n",
       "      <th>11591473</th>\n",
       "      <td>1490919709000</td>\n",
       "      <td>GP2B74SRyrZ3HIflSFoAzM+jS3U=</td>\n",
       "      <td>447</td>\n",
       "      <td>499</td>\n",
       "      <td>11</td>\n",
       "      <td>499946</td>\n",
       "      <td>1.000</td>\n",
       "      <td>1.000000</td>\n",
       "      <td>None</td>\n",
       "    </tr>\n",
       "    <tr>\n",
       "      <th>16326676</th>\n",
       "      <td>1490919720000</td>\n",
       "      <td>GP2B74SRyrZ3HIflSFoAzM+jS3U=</td>\n",
       "      <td>447</td>\n",
       "      <td>500</td>\n",
       "      <td>11</td>\n",
       "      <td>500947</td>\n",
       "      <td>1.000</td>\n",
       "      <td>1.000000</td>\n",
       "      <td>None</td>\n",
       "    </tr>\n",
       "    <tr>\n",
       "      <th>959657</th>\n",
       "      <td>1490919734000</td>\n",
       "      <td>GP2B74SRyrZ3HIflSFoAzM+jS3U=</td>\n",
       "      <td>449</td>\n",
       "      <td>500</td>\n",
       "      <td>11</td>\n",
       "      <td>500949</td>\n",
       "      <td>0.000</td>\n",
       "      <td>0.000000</td>\n",
       "      <td>None</td>\n",
       "    </tr>\n",
       "    <tr>\n",
       "      <th>12802170</th>\n",
       "      <td>1490919749000</td>\n",
       "      <td>GP2B74SRyrZ3HIflSFoAzM+jS3U=</td>\n",
       "      <td>449</td>\n",
       "      <td>499</td>\n",
       "      <td>11</td>\n",
       "      <td>499948</td>\n",
       "      <td>1.000</td>\n",
       "      <td>0.000000</td>\n",
       "      <td>None</td>\n",
       "    </tr>\n",
       "    <tr>\n",
       "      <th>10437120</th>\n",
       "      <td>1490919761000</td>\n",
       "      <td>GP2B74SRyrZ3HIflSFoAzM+jS3U=</td>\n",
       "      <td>449</td>\n",
       "      <td>498</td>\n",
       "      <td>11</td>\n",
       "      <td>498947</td>\n",
       "      <td>1.000</td>\n",
       "      <td>1.000000</td>\n",
       "      <td>None</td>\n",
       "    </tr>\n",
       "    <tr>\n",
       "      <th>15143427</th>\n",
       "      <td>1490919776000</td>\n",
       "      <td>GP2B74SRyrZ3HIflSFoAzM+jS3U=</td>\n",
       "      <td>449</td>\n",
       "      <td>496</td>\n",
       "      <td>11</td>\n",
       "      <td>496945</td>\n",
       "      <td>0.000</td>\n",
       "      <td>0.000000</td>\n",
       "      <td>None</td>\n",
       "    </tr>\n",
       "    <tr>\n",
       "      <th>...</th>\n",
       "      <td>...</td>\n",
       "      <td>...</td>\n",
       "      <td>...</td>\n",
       "      <td>...</td>\n",
       "      <td>...</td>\n",
       "      <td>...</td>\n",
       "      <td>...</td>\n",
       "      <td>...</td>\n",
       "      <td>...</td>\n",
       "    </tr>\n",
       "    <tr>\n",
       "      <th>14325690</th>\n",
       "      <td>1491238720000</td>\n",
       "      <td>lgaE/V/9zREHrLMuFIswAvPxmew=</td>\n",
       "      <td>490</td>\n",
       "      <td>939</td>\n",
       "      <td>0</td>\n",
       "      <td>940429</td>\n",
       "      <td>1.000</td>\n",
       "      <td>0.444444</td>\n",
       "      <td>uXPBSOm7UWAq3tnatig0jWbgTbY=</td>\n",
       "    </tr>\n",
       "    <tr>\n",
       "      <th>1221925</th>\n",
       "      <td>1491238720000</td>\n",
       "      <td>AQmb3gPSEONE7ywYrgIrUD/6VOk=</td>\n",
       "      <td>535</td>\n",
       "      <td>514</td>\n",
       "      <td>0</td>\n",
       "      <td>515049</td>\n",
       "      <td>1.000</td>\n",
       "      <td>0.555556</td>\n",
       "      <td>3jymlWWJbQwYO7Q1ZsUAU/sHNHg=</td>\n",
       "    </tr>\n",
       "    <tr>\n",
       "      <th>5579922</th>\n",
       "      <td>1491238721000</td>\n",
       "      <td>JtncaxQYlYJe535JW7wH604O7sM=</td>\n",
       "      <td>930</td>\n",
       "      <td>150</td>\n",
       "      <td>8</td>\n",
       "      <td>151080</td>\n",
       "      <td>0.000</td>\n",
       "      <td>1.000000</td>\n",
       "      <td>OIrUCd4cPFitLXD6LOBurIZvP1A=</td>\n",
       "    </tr>\n",
       "    <tr>\n",
       "      <th>8730203</th>\n",
       "      <td>1491238723000</td>\n",
       "      <td>R6/JLa2UQy4SSXazJ81ldTrTA6k=</td>\n",
       "      <td>205</td>\n",
       "      <td>400</td>\n",
       "      <td>3</td>\n",
       "      <td>400605</td>\n",
       "      <td>0.875</td>\n",
       "      <td>0.444444</td>\n",
       "      <td>D75EIH8kwyJU9tP+x+8pLSbT/8M=</td>\n",
       "    </tr>\n",
       "    <tr>\n",
       "      <th>15042877</th>\n",
       "      <td>1491238723000</td>\n",
       "      <td>JkZxChxZxLrt7BCs/3v3KqH1KyA=</td>\n",
       "      <td>714</td>\n",
       "      <td>594</td>\n",
       "      <td>8</td>\n",
       "      <td>595308</td>\n",
       "      <td>0.250</td>\n",
       "      <td>0.000000</td>\n",
       "      <td>5hzUeHiupRWE+TNYkdNqr3Ua6o4=</td>\n",
       "    </tr>\n",
       "    <tr>\n",
       "      <th>969313</th>\n",
       "      <td>1491238723000</td>\n",
       "      <td>wRDEikdUFABLi64CdvIncN6lasY=</td>\n",
       "      <td>944</td>\n",
       "      <td>913</td>\n",
       "      <td>11</td>\n",
       "      <td>914857</td>\n",
       "      <td>0.250</td>\n",
       "      <td>0.000000</td>\n",
       "      <td>mN4zLwMPLm0CjKn8pY5jZSZ7wbw=</td>\n",
       "    </tr>\n",
       "    <tr>\n",
       "      <th>6356674</th>\n",
       "      <td>1491238724000</td>\n",
       "      <td>visF/IyLL+xPQEE6/MSOEurx/vk=</td>\n",
       "      <td>222</td>\n",
       "      <td>693</td>\n",
       "      <td>3</td>\n",
       "      <td>693915</td>\n",
       "      <td>0.250</td>\n",
       "      <td>0.000000</td>\n",
       "      <td>aBeCcs73OnRIwpE/gpvkjZZDEwI=</td>\n",
       "    </tr>\n",
       "    <tr>\n",
       "      <th>13656390</th>\n",
       "      <td>1491238726000</td>\n",
       "      <td>LALILWSncasKyhzJgOyMOY24YK8=</td>\n",
       "      <td>516</td>\n",
       "      <td>190</td>\n",
       "      <td>5</td>\n",
       "      <td>190706</td>\n",
       "      <td>0.125</td>\n",
       "      <td>0.222222</td>\n",
       "      <td>jyI99HPFYk7X9Dl0WJzdgLLEpuA=</td>\n",
       "    </tr>\n",
       "    <tr>\n",
       "      <th>11232411</th>\n",
       "      <td>1491238726000</td>\n",
       "      <td>kDtg2LPGrR3AkLCdLYw9X+oCZ5o=</td>\n",
       "      <td>516</td>\n",
       "      <td>190</td>\n",
       "      <td>5</td>\n",
       "      <td>190706</td>\n",
       "      <td>0.125</td>\n",
       "      <td>0.222222</td>\n",
       "      <td>LALILWSncasKyhzJgOyMOY24YK8=</td>\n",
       "    </tr>\n",
       "    <tr>\n",
       "      <th>5222662</th>\n",
       "      <td>1491238726000</td>\n",
       "      <td>L+KzpDktalEvyYQBTbmT8HfkCxY=</td>\n",
       "      <td>221</td>\n",
       "      <td>733</td>\n",
       "      <td>3</td>\n",
       "      <td>733954</td>\n",
       "      <td>0.250</td>\n",
       "      <td>0.111111</td>\n",
       "      <td>jf3q+Ja6qh760VbDCxBYqS8CZFM=</td>\n",
       "    </tr>\n",
       "    <tr>\n",
       "      <th>216141</th>\n",
       "      <td>1491238726000</td>\n",
       "      <td>0r6zRKav30W654lzM3e9nXxVDOw=</td>\n",
       "      <td>229</td>\n",
       "      <td>719</td>\n",
       "      <td>2</td>\n",
       "      <td>719948</td>\n",
       "      <td>0.250</td>\n",
       "      <td>0.000000</td>\n",
       "      <td>Y+YKSbo2U2fkRNHqxCYOMSPMbqk=</td>\n",
       "    </tr>\n",
       "    <tr>\n",
       "      <th>6243994</th>\n",
       "      <td>1491238727000</td>\n",
       "      <td>O3rlOmb0o2qZie8tKKHl9smeUPw=</td>\n",
       "      <td>512</td>\n",
       "      <td>920</td>\n",
       "      <td>3</td>\n",
       "      <td>921432</td>\n",
       "      <td>0.000</td>\n",
       "      <td>0.666667</td>\n",
       "      <td>g6CGMq+OaCDIO/EfeoLKzIOihu0=</td>\n",
       "    </tr>\n",
       "    <tr>\n",
       "      <th>14718826</th>\n",
       "      <td>1491238728000</td>\n",
       "      <td>FGEpX5TflJZWgP0JWFQLCUX9lfE=</td>\n",
       "      <td>529</td>\n",
       "      <td>946</td>\n",
       "      <td>4</td>\n",
       "      <td>947475</td>\n",
       "      <td>0.250</td>\n",
       "      <td>0.000000</td>\n",
       "      <td>lGnY5q+Zqa/Y8EUH4hrDiXlRJl0=</td>\n",
       "    </tr>\n",
       "    <tr>\n",
       "      <th>2237993</th>\n",
       "      <td>1491238728000</td>\n",
       "      <td>1PfXnewEPekPq8y1KpfsNfsfEWk=</td>\n",
       "      <td>611</td>\n",
       "      <td>736</td>\n",
       "      <td>13</td>\n",
       "      <td>737347</td>\n",
       "      <td>0.250</td>\n",
       "      <td>0.000000</td>\n",
       "      <td>HRl1yV0MP/WeoctJb0+/b/WVmiY=</td>\n",
       "    </tr>\n",
       "    <tr>\n",
       "      <th>8550219</th>\n",
       "      <td>1491238729000</td>\n",
       "      <td>bMAgsYEDoGXd+rd9tgNIfAQnnok=</td>\n",
       "      <td>71</td>\n",
       "      <td>618</td>\n",
       "      <td>3</td>\n",
       "      <td>618689</td>\n",
       "      <td>0.500</td>\n",
       "      <td>0.000000</td>\n",
       "      <td>mi3ksj93FxmWMzc4zmnwjuk8pIU=</td>\n",
       "    </tr>\n",
       "    <tr>\n",
       "      <th>9353907</th>\n",
       "      <td>1491238730000</td>\n",
       "      <td>RDMAkA2mrSlzKXelr+PmWONKDVs=</td>\n",
       "      <td>471</td>\n",
       "      <td>495</td>\n",
       "      <td>13</td>\n",
       "      <td>495966</td>\n",
       "      <td>0.875</td>\n",
       "      <td>0.222222</td>\n",
       "      <td>eSJMCzeOlDbGIwDNRHcjBY4EFpI=</td>\n",
       "    </tr>\n",
       "    <tr>\n",
       "      <th>1554046</th>\n",
       "      <td>1491238730000</td>\n",
       "      <td>F28YOX58ABSEYj1Eo4HPMr6o1kg=</td>\n",
       "      <td>138</td>\n",
       "      <td>426</td>\n",
       "      <td>3</td>\n",
       "      <td>426564</td>\n",
       "      <td>0.375</td>\n",
       "      <td>0.333333</td>\n",
       "      <td>RXJpJYSNMNY003C3o6O93SmyJGE=</td>\n",
       "    </tr>\n",
       "    <tr>\n",
       "      <th>4483553</th>\n",
       "      <td>1491238730000</td>\n",
       "      <td>+Xo/mdr65t1oz86/XxxP9rvQmCE=</td>\n",
       "      <td>161</td>\n",
       "      <td>155</td>\n",
       "      <td>10</td>\n",
       "      <td>155316</td>\n",
       "      <td>0.000</td>\n",
       "      <td>0.000000</td>\n",
       "      <td>z+My1TrgUH/Ozc8d+FgH5c6U4AU=</td>\n",
       "    </tr>\n",
       "    <tr>\n",
       "      <th>4874492</th>\n",
       "      <td>1491238730000</td>\n",
       "      <td>O1iw7N48Xdam60UlD+0ItY7myEA=</td>\n",
       "      <td>701</td>\n",
       "      <td>594</td>\n",
       "      <td>0</td>\n",
       "      <td>595295</td>\n",
       "      <td>0.625</td>\n",
       "      <td>0.000000</td>\n",
       "      <td>PDOCSM2WHz2Uff0V6l7cLiOSz2Q=</td>\n",
       "    </tr>\n",
       "    <tr>\n",
       "      <th>7528745</th>\n",
       "      <td>1491238731000</td>\n",
       "      <td>DR1BA6BNps7RgPV0XRVJ+sNggoM=</td>\n",
       "      <td>43</td>\n",
       "      <td>457</td>\n",
       "      <td>3</td>\n",
       "      <td>457500</td>\n",
       "      <td>0.250</td>\n",
       "      <td>0.000000</td>\n",
       "      <td>NG7mYBN3mkyQVtAzy6EGGZl78gY=</td>\n",
       "    </tr>\n",
       "    <tr>\n",
       "      <th>13378383</th>\n",
       "      <td>1491238731000</td>\n",
       "      <td>HSfaPHVfRSH92RAylebvQM8lJFU=</td>\n",
       "      <td>11</td>\n",
       "      <td>433</td>\n",
       "      <td>3</td>\n",
       "      <td>433444</td>\n",
       "      <td>0.500</td>\n",
       "      <td>0.000000</td>\n",
       "      <td>rGKmYUZAKEh0GTCBOOcVbkmy0jM=</td>\n",
       "    </tr>\n",
       "    <tr>\n",
       "      <th>16444145</th>\n",
       "      <td>1491238732000</td>\n",
       "      <td>qnHKJsXHi0LLIHNQG762oaTm3sM=</td>\n",
       "      <td>347</td>\n",
       "      <td>576</td>\n",
       "      <td>13</td>\n",
       "      <td>576923</td>\n",
       "      <td>0.000</td>\n",
       "      <td>0.000000</td>\n",
       "      <td>VkOZSPaQ3AHtH+swxOZZP17bwCU=</td>\n",
       "    </tr>\n",
       "    <tr>\n",
       "      <th>6172365</th>\n",
       "      <td>1491238732000</td>\n",
       "      <td>bp3cZOM1nHjXyqgnQoGsub7sE+c=</td>\n",
       "      <td>132</td>\n",
       "      <td>66</td>\n",
       "      <td>3</td>\n",
       "      <td>66198</td>\n",
       "      <td>0.250</td>\n",
       "      <td>0.000000</td>\n",
       "      <td>AsU0XpOFze7w5TS42jmto059kzg=</td>\n",
       "    </tr>\n",
       "    <tr>\n",
       "      <th>9770760</th>\n",
       "      <td>1491238732000</td>\n",
       "      <td>UGr9cAzz56HA9ularvtXPm1CKj0=</td>\n",
       "      <td>437</td>\n",
       "      <td>804</td>\n",
       "      <td>3</td>\n",
       "      <td>805241</td>\n",
       "      <td>0.750</td>\n",
       "      <td>0.000000</td>\n",
       "      <td>Q2OoqbxlXURovcXKPOWB9FontDM=</td>\n",
       "    </tr>\n",
       "    <tr>\n",
       "      <th>12113767</th>\n",
       "      <td>1491238732000</td>\n",
       "      <td>4v/kA+5NRVDQ9mLn4pFoswq6A5Y=</td>\n",
       "      <td>192</td>\n",
       "      <td>442</td>\n",
       "      <td>3</td>\n",
       "      <td>442634</td>\n",
       "      <td>1.000</td>\n",
       "      <td>0.000000</td>\n",
       "      <td>sNy+jXRuZmTL5C2EbkM/SeNWy3I=</td>\n",
       "    </tr>\n",
       "    <tr>\n",
       "      <th>6258419</th>\n",
       "      <td>1491238733000</td>\n",
       "      <td>uLIYXambhhJnq+XQsp3/v4hOSg8=</td>\n",
       "      <td>31</td>\n",
       "      <td>16</td>\n",
       "      <td>3</td>\n",
       "      <td>16047</td>\n",
       "      <td>1.000</td>\n",
       "      <td>0.666667</td>\n",
       "      <td>LHfdnEUAuyiVnuz+qpQDPDTtn6A=</td>\n",
       "    </tr>\n",
       "    <tr>\n",
       "      <th>13003783</th>\n",
       "      <td>1491238733000</td>\n",
       "      <td>4tD092krB0kr/mIgPzbkdWRbbuA=</td>\n",
       "      <td>159</td>\n",
       "      <td>602</td>\n",
       "      <td>15</td>\n",
       "      <td>602761</td>\n",
       "      <td>0.750</td>\n",
       "      <td>0.111111</td>\n",
       "      <td>tgGazc9kIMJs5fjYhmGUCVsWI0Q=</td>\n",
       "    </tr>\n",
       "    <tr>\n",
       "      <th>12753324</th>\n",
       "      <td>1491238733000</td>\n",
       "      <td>c34iVZhk/TWfZvgLERa92dv4nXI=</td>\n",
       "      <td>33</td>\n",
       "      <td>70</td>\n",
       "      <td>10</td>\n",
       "      <td>70103</td>\n",
       "      <td>0.000</td>\n",
       "      <td>0.000000</td>\n",
       "      <td>a9t034OvAD+Efqt5q5/OTj8VHS8=</td>\n",
       "    </tr>\n",
       "    <tr>\n",
       "      <th>7772192</th>\n",
       "      <td>1491238733000</td>\n",
       "      <td>0zJQ/whk/woFFZpfA53DCstaOV8=</td>\n",
       "      <td>176</td>\n",
       "      <td>159</td>\n",
       "      <td>5</td>\n",
       "      <td>159335</td>\n",
       "      <td>0.000</td>\n",
       "      <td>0.000000</td>\n",
       "      <td>PytPooiEwh+WGmyWINVB/8D6lfc=</td>\n",
       "    </tr>\n",
       "    <tr>\n",
       "      <th>14753590</th>\n",
       "      <td>1491238734000</td>\n",
       "      <td>WcPEECDEtqTri0VN5AJggUWOi/A=</td>\n",
       "      <td>605</td>\n",
       "      <td>160</td>\n",
       "      <td>5</td>\n",
       "      <td>160765</td>\n",
       "      <td>1.000</td>\n",
       "      <td>0.888889</td>\n",
       "      <td>YiHmmCgm4wq6Yi1BCznorVu88uY=</td>\n",
       "    </tr>\n",
       "  </tbody>\n",
       "</table>\n",
       "<p>16559407 rows × 9 columns</p>\n",
       "</div>"
      ],
      "text/plain": [
       "                     ts                          user  x_coordinate  \\\n",
       "13216722  1490918688000  2puPLvQ6X2zTSpfBkHXhxlIVo40=           505   \n",
       "15577615  1490918728000  2puPLvQ6X2zTSpfBkHXhxlIVo40=           490   \n",
       "5985698   1490918781000  2puPLvQ6X2zTSpfBkHXhxlIVo40=           518   \n",
       "16342824  1490919337000  GP2B74SRyrZ3HIflSFoAzM+jS3U=           474   \n",
       "5693574   1490919349000  GP2B74SRyrZ3HIflSFoAzM+jS3U=           477   \n",
       "9251462   1490919361000  GP2B74SRyrZ3HIflSFoAzM+jS3U=           472   \n",
       "2145079   1490919379000  GP2B74SRyrZ3HIflSFoAzM+jS3U=           473   \n",
       "966759    1490919398000  GP2B74SRyrZ3HIflSFoAzM+jS3U=           474   \n",
       "4497938   1490919410000  GP2B74SRyrZ3HIflSFoAzM+jS3U=           475   \n",
       "13970911  1490919426000  GP2B74SRyrZ3HIflSFoAzM+jS3U=           476   \n",
       "12804041  1490919465000  GP2B74SRyrZ3HIflSFoAzM+jS3U=           477   \n",
       "3316652   1490919480000  GP2B74SRyrZ3HIflSFoAzM+jS3U=           478   \n",
       "6868433   1490919494000  GP2B74SRyrZ3HIflSFoAzM+jS3U=           479   \n",
       "3523627   1490919557000  2puPLvQ6X2zTSpfBkHXhxlIVo40=           544   \n",
       "3330332   1490919589000  GP2B74SRyrZ3HIflSFoAzM+jS3U=           444   \n",
       "13987344  1490919601000  GP2B74SRyrZ3HIflSFoAzM+jS3U=           444   \n",
       "8052294   1490919613000  GP2B74SRyrZ3HIflSFoAzM+jS3U=           444   \n",
       "4499222   1490919625000  GP2B74SRyrZ3HIflSFoAzM+jS3U=           445   \n",
       "12786946  1490919638000  GP2B74SRyrZ3HIflSFoAzM+jS3U=           444   \n",
       "4515798   1490919649000  GP2B74SRyrZ3HIflSFoAzM+jS3U=           444   \n",
       "8063475   1490919662000  GP2B74SRyrZ3HIflSFoAzM+jS3U=           446   \n",
       "16345935  1490919674000  GP2B74SRyrZ3HIflSFoAzM+jS3U=           447   \n",
       "6871959   1490919685000  GP2B74SRyrZ3HIflSFoAzM+jS3U=           447   \n",
       "5688462   1490919697000  GP2B74SRyrZ3HIflSFoAzM+jS3U=           447   \n",
       "11591473  1490919709000  GP2B74SRyrZ3HIflSFoAzM+jS3U=           447   \n",
       "16326676  1490919720000  GP2B74SRyrZ3HIflSFoAzM+jS3U=           447   \n",
       "959657    1490919734000  GP2B74SRyrZ3HIflSFoAzM+jS3U=           449   \n",
       "12802170  1490919749000  GP2B74SRyrZ3HIflSFoAzM+jS3U=           449   \n",
       "10437120  1490919761000  GP2B74SRyrZ3HIflSFoAzM+jS3U=           449   \n",
       "15143427  1490919776000  GP2B74SRyrZ3HIflSFoAzM+jS3U=           449   \n",
       "...                 ...                           ...           ...   \n",
       "14325690  1491238720000  lgaE/V/9zREHrLMuFIswAvPxmew=           490   \n",
       "1221925   1491238720000  AQmb3gPSEONE7ywYrgIrUD/6VOk=           535   \n",
       "5579922   1491238721000  JtncaxQYlYJe535JW7wH604O7sM=           930   \n",
       "8730203   1491238723000  R6/JLa2UQy4SSXazJ81ldTrTA6k=           205   \n",
       "15042877  1491238723000  JkZxChxZxLrt7BCs/3v3KqH1KyA=           714   \n",
       "969313    1491238723000  wRDEikdUFABLi64CdvIncN6lasY=           944   \n",
       "6356674   1491238724000  visF/IyLL+xPQEE6/MSOEurx/vk=           222   \n",
       "13656390  1491238726000  LALILWSncasKyhzJgOyMOY24YK8=           516   \n",
       "11232411  1491238726000  kDtg2LPGrR3AkLCdLYw9X+oCZ5o=           516   \n",
       "5222662   1491238726000  L+KzpDktalEvyYQBTbmT8HfkCxY=           221   \n",
       "216141    1491238726000  0r6zRKav30W654lzM3e9nXxVDOw=           229   \n",
       "6243994   1491238727000  O3rlOmb0o2qZie8tKKHl9smeUPw=           512   \n",
       "14718826  1491238728000  FGEpX5TflJZWgP0JWFQLCUX9lfE=           529   \n",
       "2237993   1491238728000  1PfXnewEPekPq8y1KpfsNfsfEWk=           611   \n",
       "8550219   1491238729000  bMAgsYEDoGXd+rd9tgNIfAQnnok=            71   \n",
       "9353907   1491238730000  RDMAkA2mrSlzKXelr+PmWONKDVs=           471   \n",
       "1554046   1491238730000  F28YOX58ABSEYj1Eo4HPMr6o1kg=           138   \n",
       "4483553   1491238730000  +Xo/mdr65t1oz86/XxxP9rvQmCE=           161   \n",
       "4874492   1491238730000  O1iw7N48Xdam60UlD+0ItY7myEA=           701   \n",
       "7528745   1491238731000  DR1BA6BNps7RgPV0XRVJ+sNggoM=            43   \n",
       "13378383  1491238731000  HSfaPHVfRSH92RAylebvQM8lJFU=            11   \n",
       "16444145  1491238732000  qnHKJsXHi0LLIHNQG762oaTm3sM=           347   \n",
       "6172365   1491238732000  bp3cZOM1nHjXyqgnQoGsub7sE+c=           132   \n",
       "9770760   1491238732000  UGr9cAzz56HA9ularvtXPm1CKj0=           437   \n",
       "12113767  1491238732000  4v/kA+5NRVDQ9mLn4pFoswq6A5Y=           192   \n",
       "6258419   1491238733000  uLIYXambhhJnq+XQsp3/v4hOSg8=            31   \n",
       "13003783  1491238733000  4tD092krB0kr/mIgPzbkdWRbbuA=           159   \n",
       "12753324  1491238733000  c34iVZhk/TWfZvgLERa92dv4nXI=            33   \n",
       "7772192   1491238733000  0zJQ/whk/woFFZpfA53DCstaOV8=           176   \n",
       "14753590  1491238734000  WcPEECDEtqTri0VN5AJggUWOi/A=           605   \n",
       "\n",
       "          y_coordinate  color   pixel  local_agreement  previous_agreement  \\\n",
       "13216722           510      1  511015            0.000            0.000000   \n",
       "15577615           504      1  504994            0.000            0.000000   \n",
       "5985698            498      0  499016            0.000            0.000000   \n",
       "16342824           495     11  495969            0.000            0.000000   \n",
       "5693574            495     11  495972            0.000            0.000000   \n",
       "9251462            496     11  496968            0.000            0.000000   \n",
       "2145079            497     11  497970            1.000            0.000000   \n",
       "966759             498     11  498972            1.000            1.000000   \n",
       "4497938            498     11  498973            1.000            1.000000   \n",
       "13970911           498     11  498974            1.000            1.000000   \n",
       "12804041           498     11  498975            1.000            1.000000   \n",
       "3316652            497     11  497975            1.000            1.000000   \n",
       "6868433            496     11  496975            1.000            1.000000   \n",
       "3523627            529     15  530073            0.000            0.000000   \n",
       "3330332            497     11  497941            0.000            0.000000   \n",
       "13987344           498     11  498942            1.000            0.000000   \n",
       "8052294            499     11  499943            1.000            1.000000   \n",
       "4499222            498     11  498943            1.000            0.666667   \n",
       "12786946           496     11  496940            1.000            0.000000   \n",
       "4515798            500     11  500944            1.000            1.000000   \n",
       "8063475            498     11  498944            1.000            1.000000   \n",
       "16345935           498     11  498945            1.000            1.000000   \n",
       "6871959            496     11  496943            0.000            0.000000   \n",
       "5688462            497     11  497944            1.000            0.666667   \n",
       "11591473           499     11  499946            1.000            1.000000   \n",
       "16326676           500     11  500947            1.000            1.000000   \n",
       "959657             500     11  500949            0.000            0.000000   \n",
       "12802170           499     11  499948            1.000            0.000000   \n",
       "10437120           498     11  498947            1.000            1.000000   \n",
       "15143427           496     11  496945            0.000            0.000000   \n",
       "...                ...    ...     ...              ...                 ...   \n",
       "14325690           939      0  940429            1.000            0.444444   \n",
       "1221925            514      0  515049            1.000            0.555556   \n",
       "5579922            150      8  151080            0.000            1.000000   \n",
       "8730203            400      3  400605            0.875            0.444444   \n",
       "15042877           594      8  595308            0.250            0.000000   \n",
       "969313             913     11  914857            0.250            0.000000   \n",
       "6356674            693      3  693915            0.250            0.000000   \n",
       "13656390           190      5  190706            0.125            0.222222   \n",
       "11232411           190      5  190706            0.125            0.222222   \n",
       "5222662            733      3  733954            0.250            0.111111   \n",
       "216141             719      2  719948            0.250            0.000000   \n",
       "6243994            920      3  921432            0.000            0.666667   \n",
       "14718826           946      4  947475            0.250            0.000000   \n",
       "2237993            736     13  737347            0.250            0.000000   \n",
       "8550219            618      3  618689            0.500            0.000000   \n",
       "9353907            495     13  495966            0.875            0.222222   \n",
       "1554046            426      3  426564            0.375            0.333333   \n",
       "4483553            155     10  155316            0.000            0.000000   \n",
       "4874492            594      0  595295            0.625            0.000000   \n",
       "7528745            457      3  457500            0.250            0.000000   \n",
       "13378383           433      3  433444            0.500            0.000000   \n",
       "16444145           576     13  576923            0.000            0.000000   \n",
       "6172365             66      3   66198            0.250            0.000000   \n",
       "9770760            804      3  805241            0.750            0.000000   \n",
       "12113767           442      3  442634            1.000            0.000000   \n",
       "6258419             16      3   16047            1.000            0.666667   \n",
       "13003783           602     15  602761            0.750            0.111111   \n",
       "12753324            70     10   70103            0.000            0.000000   \n",
       "7772192            159      5  159335            0.000            0.000000   \n",
       "14753590           160      5  160765            1.000            0.888889   \n",
       "\n",
       "                         previous_user  \n",
       "13216722                          None  \n",
       "15577615                          None  \n",
       "5985698                           None  \n",
       "16342824                          None  \n",
       "5693574                           None  \n",
       "9251462                           None  \n",
       "2145079                           None  \n",
       "966759                            None  \n",
       "4497938                           None  \n",
       "13970911                          None  \n",
       "12804041                          None  \n",
       "3316652                           None  \n",
       "6868433                           None  \n",
       "3523627                           None  \n",
       "3330332                           None  \n",
       "13987344                          None  \n",
       "8052294                           None  \n",
       "4499222                           None  \n",
       "12786946                          None  \n",
       "4515798                           None  \n",
       "8063475                           None  \n",
       "16345935                          None  \n",
       "6871959                           None  \n",
       "5688462                           None  \n",
       "11591473                          None  \n",
       "16326676                          None  \n",
       "959657                            None  \n",
       "12802170                          None  \n",
       "10437120                          None  \n",
       "15143427                          None  \n",
       "...                                ...  \n",
       "14325690  uXPBSOm7UWAq3tnatig0jWbgTbY=  \n",
       "1221925   3jymlWWJbQwYO7Q1ZsUAU/sHNHg=  \n",
       "5579922   OIrUCd4cPFitLXD6LOBurIZvP1A=  \n",
       "8730203   D75EIH8kwyJU9tP+x+8pLSbT/8M=  \n",
       "15042877  5hzUeHiupRWE+TNYkdNqr3Ua6o4=  \n",
       "969313    mN4zLwMPLm0CjKn8pY5jZSZ7wbw=  \n",
       "6356674   aBeCcs73OnRIwpE/gpvkjZZDEwI=  \n",
       "13656390  jyI99HPFYk7X9Dl0WJzdgLLEpuA=  \n",
       "11232411  LALILWSncasKyhzJgOyMOY24YK8=  \n",
       "5222662   jf3q+Ja6qh760VbDCxBYqS8CZFM=  \n",
       "216141    Y+YKSbo2U2fkRNHqxCYOMSPMbqk=  \n",
       "6243994   g6CGMq+OaCDIO/EfeoLKzIOihu0=  \n",
       "14718826  lGnY5q+Zqa/Y8EUH4hrDiXlRJl0=  \n",
       "2237993   HRl1yV0MP/WeoctJb0+/b/WVmiY=  \n",
       "8550219   mi3ksj93FxmWMzc4zmnwjuk8pIU=  \n",
       "9353907   eSJMCzeOlDbGIwDNRHcjBY4EFpI=  \n",
       "1554046   RXJpJYSNMNY003C3o6O93SmyJGE=  \n",
       "4483553   z+My1TrgUH/Ozc8d+FgH5c6U4AU=  \n",
       "4874492   PDOCSM2WHz2Uff0V6l7cLiOSz2Q=  \n",
       "7528745   NG7mYBN3mkyQVtAzy6EGGZl78gY=  \n",
       "13378383  rGKmYUZAKEh0GTCBOOcVbkmy0jM=  \n",
       "16444145  VkOZSPaQ3AHtH+swxOZZP17bwCU=  \n",
       "6172365   AsU0XpOFze7w5TS42jmto059kzg=  \n",
       "9770760   Q2OoqbxlXURovcXKPOWB9FontDM=  \n",
       "12113767  sNy+jXRuZmTL5C2EbkM/SeNWy3I=  \n",
       "6258419   LHfdnEUAuyiVnuz+qpQDPDTtn6A=  \n",
       "13003783  tgGazc9kIMJs5fjYhmGUCVsWI0Q=  \n",
       "12753324  a9t034OvAD+Efqt5q5/OTj8VHS8=  \n",
       "7772192   PytPooiEwh+WGmyWINVB/8D6lfc=  \n",
       "14753590  YiHmmCgm4wq6Yi1BCznorVu88uY=  \n",
       "\n",
       "[16559407 rows x 9 columns]"
      ]
     },
     "execution_count": 2,
     "metadata": {},
     "output_type": "execute_result"
    }
   ],
   "source": [
    "df = pd.read_pickle(\"data/full_data.pkl\")\n",
    "df"
   ]
  },
  {
   "cell_type": "markdown",
   "metadata": {},
   "source": [
    "This is the data that was gathered and computed by the first notebook.\n",
    "\n",
    "In order to be able to compute the training of our models we only take the last 2 millions clicks and filter all users with less than 5 clicks in it. This is considered sufficient to yield relevant results."
   ]
  },
  {
   "cell_type": "code",
   "execution_count": 3,
   "metadata": {
    "collapsed": true
   },
   "outputs": [],
   "source": [
    "df_end = df.tail(int(2e6)).copy()"
   ]
  },
  {
   "cell_type": "code",
   "execution_count": 4,
   "metadata": {
    "collapsed": true,
    "scrolled": true
   },
   "outputs": [],
   "source": [
    "active_set = df_end[df_end.groupby('user').user.transform('size') > 4].copy()"
   ]
  },
  {
   "cell_type": "markdown",
   "metadata": {},
   "source": [
    "The features are all the relevant features found in the previous part, namely :\n",
    "- the mean local agreement of the user before this click,\n",
    "- the previous agreement on the tile the user will click next,\n",
    "- the number of collaborators (distinct users who clicked on tiles surrounding the ones the current user clicked) divided by the number of clicks,\n",
    "- the average time between clicks for the user so far,\n",
    "- the median distance between those same clicks,\n",
    "- the number of clicks before this one.\n",
    "For each user, they are computed for each click starting from the third one. (each user has at least 5 clicks due to the filtering)\n",
    "\n",
    "The target is always the local agreement of the next click."
   ]
  },
  {
   "cell_type": "code",
   "execution_count": 5,
   "metadata": {
    "collapsed": true
   },
   "outputs": [],
   "source": [
    "def extract_feat_and_target(activity):\n",
    "    acc = []\n",
    "    for i in np.arange(2,activity.shape[0]):\n",
    "        acc.append([ activity.iloc[:i].local_agreement.mean(), \\\n",
    "                            activity.iloc[i].previous_agreement, \\\n",
    "                            activity.iloc[:i].previous_user.nunique() / i, \\\n",
    "                            (activity.iloc[i-1].ts-activity.iloc[0].ts) / i, \\\n",
    "                            np.nanmedian(np.sqrt(np.square(activity.iloc[:i][[\"x_coordinate\",\"y_coordinate\"]].diff()[1:]).sum(axis=1))), \\\n",
    "                            i, \\\n",
    "                            activity.iloc[i].local_agreement\n",
    "                        ])\n",
    "    return pd.DataFrame(acc, columns=[\"avg_local\",\"previous_on_next_tile\",\"avg_nb_collab\",\"avg_time_between\",\"median_distance\",\"nb_clicks\",\"target\"])"
   ]
  },
  {
   "cell_type": "code",
   "execution_count": 6,
   "metadata": {
    "scrolled": true
   },
   "outputs": [
    {
     "name": "stderr",
     "output_type": "stream",
     "text": [
      "100%|██████████| 101811/101811 [1:21:14<00:00, 20.89it/s] \n"
     ]
    }
   ],
   "source": [
    "features_and_target = active_set.groupby(\"user\").progress_apply(extract_feat_and_target)"
   ]
  },
  {
   "cell_type": "code",
   "execution_count": 7,
   "metadata": {
    "scrolled": true
   },
   "outputs": [
    {
     "data": {
      "text/html": [
       "<div>\n",
       "<style>\n",
       "    .dataframe thead tr:only-child th {\n",
       "        text-align: right;\n",
       "    }\n",
       "\n",
       "    .dataframe thead th {\n",
       "        text-align: left;\n",
       "    }\n",
       "\n",
       "    .dataframe tbody tr th {\n",
       "        vertical-align: top;\n",
       "    }\n",
       "</style>\n",
       "<table border=\"1\" class=\"dataframe\">\n",
       "  <thead>\n",
       "    <tr style=\"text-align: right;\">\n",
       "      <th></th>\n",
       "      <th></th>\n",
       "      <th>avg_local</th>\n",
       "      <th>previous_on_next_tile</th>\n",
       "      <th>avg_nb_collab</th>\n",
       "      <th>avg_time_between</th>\n",
       "      <th>median_distance</th>\n",
       "      <th>nb_clicks</th>\n",
       "      <th>target</th>\n",
       "    </tr>\n",
       "    <tr>\n",
       "      <th>user</th>\n",
       "      <th></th>\n",
       "      <th></th>\n",
       "      <th></th>\n",
       "      <th></th>\n",
       "      <th></th>\n",
       "      <th></th>\n",
       "      <th></th>\n",
       "      <th></th>\n",
       "    </tr>\n",
       "  </thead>\n",
       "  <tbody>\n",
       "    <tr>\n",
       "      <th rowspan=\"20\" valign=\"top\">+++/DjiwyzTQzfai1RGavwwdeF0=</th>\n",
       "      <th>0</th>\n",
       "      <td>0.625000</td>\n",
       "      <td>0.555556</td>\n",
       "      <td>1.000000</td>\n",
       "      <td>1.765000e+05</td>\n",
       "      <td>1.000000</td>\n",
       "      <td>2</td>\n",
       "      <td>1.000</td>\n",
       "    </tr>\n",
       "    <tr>\n",
       "      <th>1</th>\n",
       "      <td>0.750000</td>\n",
       "      <td>0.000000</td>\n",
       "      <td>1.000000</td>\n",
       "      <td>9.146667e+05</td>\n",
       "      <td>19.027007</td>\n",
       "      <td>3</td>\n",
       "      <td>0.625</td>\n",
       "    </tr>\n",
       "    <tr>\n",
       "      <th>2</th>\n",
       "      <td>0.718750</td>\n",
       "      <td>0.555556</td>\n",
       "      <td>1.000000</td>\n",
       "      <td>9.830000e+05</td>\n",
       "      <td>37.054015</td>\n",
       "      <td>4</td>\n",
       "      <td>1.000</td>\n",
       "    </tr>\n",
       "    <tr>\n",
       "      <th>3</th>\n",
       "      <td>0.775000</td>\n",
       "      <td>0.666667</td>\n",
       "      <td>1.000000</td>\n",
       "      <td>8.520000e+05</td>\n",
       "      <td>37.054015</td>\n",
       "      <td>5</td>\n",
       "      <td>1.000</td>\n",
       "    </tr>\n",
       "    <tr>\n",
       "      <th>4</th>\n",
       "      <td>0.812500</td>\n",
       "      <td>0.000000</td>\n",
       "      <td>1.000000</td>\n",
       "      <td>1.395167e+06</td>\n",
       "      <td>37.054015</td>\n",
       "      <td>6</td>\n",
       "      <td>0.125</td>\n",
       "    </tr>\n",
       "    <tr>\n",
       "      <th>5</th>\n",
       "      <td>0.714286</td>\n",
       "      <td>0.500000</td>\n",
       "      <td>1.000000</td>\n",
       "      <td>1.239714e+06</td>\n",
       "      <td>28.527007</td>\n",
       "      <td>7</td>\n",
       "      <td>1.000</td>\n",
       "    </tr>\n",
       "    <tr>\n",
       "      <th>6</th>\n",
       "      <td>0.750000</td>\n",
       "      <td>0.888889</td>\n",
       "      <td>1.000000</td>\n",
       "      <td>1.414375e+06</td>\n",
       "      <td>20.000000</td>\n",
       "      <td>8</td>\n",
       "      <td>1.000</td>\n",
       "    </tr>\n",
       "    <tr>\n",
       "      <th>7</th>\n",
       "      <td>0.777778</td>\n",
       "      <td>0.111111</td>\n",
       "      <td>1.000000</td>\n",
       "      <td>1.443111e+06</td>\n",
       "      <td>18.246211</td>\n",
       "      <td>9</td>\n",
       "      <td>0.625</td>\n",
       "    </tr>\n",
       "    <tr>\n",
       "      <th>8</th>\n",
       "      <td>0.762500</td>\n",
       "      <td>0.444444</td>\n",
       "      <td>1.000000</td>\n",
       "      <td>1.354000e+06</td>\n",
       "      <td>20.000000</td>\n",
       "      <td>10</td>\n",
       "      <td>0.875</td>\n",
       "    </tr>\n",
       "    <tr>\n",
       "      <th>9</th>\n",
       "      <td>0.772727</td>\n",
       "      <td>0.222222</td>\n",
       "      <td>1.000000</td>\n",
       "      <td>1.264273e+06</td>\n",
       "      <td>18.246211</td>\n",
       "      <td>11</td>\n",
       "      <td>0.750</td>\n",
       "    </tr>\n",
       "    <tr>\n",
       "      <th>10</th>\n",
       "      <td>0.770833</td>\n",
       "      <td>0.666667</td>\n",
       "      <td>1.000000</td>\n",
       "      <td>1.202833e+06</td>\n",
       "      <td>20.000000</td>\n",
       "      <td>12</td>\n",
       "      <td>0.875</td>\n",
       "    </tr>\n",
       "    <tr>\n",
       "      <th>11</th>\n",
       "      <td>0.778846</td>\n",
       "      <td>0.777778</td>\n",
       "      <td>1.000000</td>\n",
       "      <td>1.144308e+06</td>\n",
       "      <td>28.527007</td>\n",
       "      <td>13</td>\n",
       "      <td>0.875</td>\n",
       "    </tr>\n",
       "    <tr>\n",
       "      <th>12</th>\n",
       "      <td>0.785714</td>\n",
       "      <td>0.000000</td>\n",
       "      <td>1.000000</td>\n",
       "      <td>1.151071e+06</td>\n",
       "      <td>22.022716</td>\n",
       "      <td>14</td>\n",
       "      <td>0.750</td>\n",
       "    </tr>\n",
       "    <tr>\n",
       "      <th>13</th>\n",
       "      <td>0.783333</td>\n",
       "      <td>0.000000</td>\n",
       "      <td>1.000000</td>\n",
       "      <td>1.197533e+06</td>\n",
       "      <td>29.538365</td>\n",
       "      <td>15</td>\n",
       "      <td>0.750</td>\n",
       "    </tr>\n",
       "    <tr>\n",
       "      <th>14</th>\n",
       "      <td>0.781250</td>\n",
       "      <td>0.666667</td>\n",
       "      <td>1.000000</td>\n",
       "      <td>1.162812e+06</td>\n",
       "      <td>22.022716</td>\n",
       "      <td>16</td>\n",
       "      <td>0.875</td>\n",
       "    </tr>\n",
       "    <tr>\n",
       "      <th>15</th>\n",
       "      <td>0.786765</td>\n",
       "      <td>0.333333</td>\n",
       "      <td>1.000000</td>\n",
       "      <td>1.113588e+06</td>\n",
       "      <td>29.538365</td>\n",
       "      <td>17</td>\n",
       "      <td>1.000</td>\n",
       "    </tr>\n",
       "    <tr>\n",
       "      <th>16</th>\n",
       "      <td>0.798611</td>\n",
       "      <td>0.444444</td>\n",
       "      <td>1.000000</td>\n",
       "      <td>1.069389e+06</td>\n",
       "      <td>37.054015</td>\n",
       "      <td>18</td>\n",
       "      <td>0.875</td>\n",
       "    </tr>\n",
       "    <tr>\n",
       "      <th>17</th>\n",
       "      <td>0.802632</td>\n",
       "      <td>0.666667</td>\n",
       "      <td>1.000000</td>\n",
       "      <td>1.081368e+06</td>\n",
       "      <td>36.596318</td>\n",
       "      <td>19</td>\n",
       "      <td>1.000</td>\n",
       "    </tr>\n",
       "    <tr>\n",
       "      <th>18</th>\n",
       "      <td>0.812500</td>\n",
       "      <td>0.555556</td>\n",
       "      <td>1.000000</td>\n",
       "      <td>1.048000e+06</td>\n",
       "      <td>36.138622</td>\n",
       "      <td>20</td>\n",
       "      <td>1.000</td>\n",
       "    </tr>\n",
       "    <tr>\n",
       "      <th>19</th>\n",
       "      <td>0.821429</td>\n",
       "      <td>0.111111</td>\n",
       "      <td>0.952381</td>\n",
       "      <td>1.015714e+06</td>\n",
       "      <td>36.596318</td>\n",
       "      <td>21</td>\n",
       "      <td>0.750</td>\n",
       "    </tr>\n",
       "    <tr>\n",
       "      <th rowspan=\"10\" valign=\"top\">++2sA4EI7im8sARsTnyul95caJc=</th>\n",
       "      <th>0</th>\n",
       "      <td>0.500000</td>\n",
       "      <td>0.222222</td>\n",
       "      <td>1.000000</td>\n",
       "      <td>8.160000e+05</td>\n",
       "      <td>0.000000</td>\n",
       "      <td>2</td>\n",
       "      <td>0.500</td>\n",
       "    </tr>\n",
       "    <tr>\n",
       "      <th>1</th>\n",
       "      <td>0.500000</td>\n",
       "      <td>0.000000</td>\n",
       "      <td>1.000000</td>\n",
       "      <td>6.483333e+05</td>\n",
       "      <td>0.000000</td>\n",
       "      <td>3</td>\n",
       "      <td>0.500</td>\n",
       "    </tr>\n",
       "    <tr>\n",
       "      <th>2</th>\n",
       "      <td>0.500000</td>\n",
       "      <td>0.000000</td>\n",
       "      <td>1.000000</td>\n",
       "      <td>7.790000e+05</td>\n",
       "      <td>0.000000</td>\n",
       "      <td>4</td>\n",
       "      <td>0.250</td>\n",
       "    </tr>\n",
       "    <tr>\n",
       "      <th>3</th>\n",
       "      <td>0.450000</td>\n",
       "      <td>0.000000</td>\n",
       "      <td>1.000000</td>\n",
       "      <td>7.878000e+05</td>\n",
       "      <td>1.500000</td>\n",
       "      <td>5</td>\n",
       "      <td>0.500</td>\n",
       "    </tr>\n",
       "    <tr>\n",
       "      <th>4</th>\n",
       "      <td>0.458333</td>\n",
       "      <td>1.000000</td>\n",
       "      <td>1.000000</td>\n",
       "      <td>7.126667e+05</td>\n",
       "      <td>3.000000</td>\n",
       "      <td>6</td>\n",
       "      <td>0.000</td>\n",
       "    </tr>\n",
       "    <tr>\n",
       "      <th>5</th>\n",
       "      <td>0.392857</td>\n",
       "      <td>0.111111</td>\n",
       "      <td>1.000000</td>\n",
       "      <td>6.642857e+05</td>\n",
       "      <td>7.022681</td>\n",
       "      <td>7</td>\n",
       "      <td>0.500</td>\n",
       "    </tr>\n",
       "    <tr>\n",
       "      <th>6</th>\n",
       "      <td>0.406250</td>\n",
       "      <td>0.000000</td>\n",
       "      <td>1.000000</td>\n",
       "      <td>8.240000e+05</td>\n",
       "      <td>11.045361</td>\n",
       "      <td>8</td>\n",
       "      <td>0.250</td>\n",
       "    </tr>\n",
       "    <tr>\n",
       "      <th>7</th>\n",
       "      <td>0.388889</td>\n",
       "      <td>0.000000</td>\n",
       "      <td>1.000000</td>\n",
       "      <td>7.845556e+05</td>\n",
       "      <td>7.103819</td>\n",
       "      <td>9</td>\n",
       "      <td>0.250</td>\n",
       "    </tr>\n",
       "    <tr>\n",
       "      <th>8</th>\n",
       "      <td>0.375000</td>\n",
       "      <td>0.000000</td>\n",
       "      <td>1.000000</td>\n",
       "      <td>8.388000e+05</td>\n",
       "      <td>11.045361</td>\n",
       "      <td>10</td>\n",
       "      <td>0.250</td>\n",
       "    </tr>\n",
       "    <tr>\n",
       "      <th>9</th>\n",
       "      <td>0.363636</td>\n",
       "      <td>0.222222</td>\n",
       "      <td>1.000000</td>\n",
       "      <td>7.900000e+05</td>\n",
       "      <td>15.535173</td>\n",
       "      <td>11</td>\n",
       "      <td>0.000</td>\n",
       "    </tr>\n",
       "    <tr>\n",
       "      <th>...</th>\n",
       "      <th>...</th>\n",
       "      <td>...</td>\n",
       "      <td>...</td>\n",
       "      <td>...</td>\n",
       "      <td>...</td>\n",
       "      <td>...</td>\n",
       "      <td>...</td>\n",
       "      <td>...</td>\n",
       "    </tr>\n",
       "    <tr>\n",
       "      <th rowspan=\"7\" valign=\"top\">zztQmD6PgYW7BynvwY3ohxOyAtA=</th>\n",
       "      <th>23</th>\n",
       "      <td>0.350000</td>\n",
       "      <td>0.000000</td>\n",
       "      <td>0.920000</td>\n",
       "      <td>3.231600e+05</td>\n",
       "      <td>4.670830</td>\n",
       "      <td>25</td>\n",
       "      <td>0.375</td>\n",
       "    </tr>\n",
       "    <tr>\n",
       "      <th>24</th>\n",
       "      <td>0.350962</td>\n",
       "      <td>0.111111</td>\n",
       "      <td>0.923077</td>\n",
       "      <td>3.225769e+05</td>\n",
       "      <td>4.242641</td>\n",
       "      <td>26</td>\n",
       "      <td>0.500</td>\n",
       "    </tr>\n",
       "    <tr>\n",
       "      <th>25</th>\n",
       "      <td>0.356481</td>\n",
       "      <td>0.111111</td>\n",
       "      <td>0.925926</td>\n",
       "      <td>3.607037e+05</td>\n",
       "      <td>4.670830</td>\n",
       "      <td>27</td>\n",
       "      <td>0.375</td>\n",
       "    </tr>\n",
       "    <tr>\n",
       "      <th>26</th>\n",
       "      <td>0.357143</td>\n",
       "      <td>0.000000</td>\n",
       "      <td>0.892857</td>\n",
       "      <td>3.592857e+05</td>\n",
       "      <td>5.099020</td>\n",
       "      <td>28</td>\n",
       "      <td>1.000</td>\n",
       "    </tr>\n",
       "    <tr>\n",
       "      <th>27</th>\n",
       "      <td>0.379310</td>\n",
       "      <td>0.000000</td>\n",
       "      <td>0.896552</td>\n",
       "      <td>3.573448e+05</td>\n",
       "      <td>5.549510</td>\n",
       "      <td>29</td>\n",
       "      <td>0.375</td>\n",
       "    </tr>\n",
       "    <tr>\n",
       "      <th>28</th>\n",
       "      <td>0.379167</td>\n",
       "      <td>0.000000</td>\n",
       "      <td>0.866667</td>\n",
       "      <td>3.556667e+05</td>\n",
       "      <td>6.000000</td>\n",
       "      <td>30</td>\n",
       "      <td>0.000</td>\n",
       "    </tr>\n",
       "    <tr>\n",
       "      <th>29</th>\n",
       "      <td>0.366935</td>\n",
       "      <td>0.000000</td>\n",
       "      <td>0.870968</td>\n",
       "      <td>3.542258e+05</td>\n",
       "      <td>6.535534</td>\n",
       "      <td>31</td>\n",
       "      <td>0.875</td>\n",
       "    </tr>\n",
       "    <tr>\n",
       "      <th rowspan=\"4\" valign=\"top\">zzvnd84RlDPEdtpcphJIA0Dxopg=</th>\n",
       "      <th>0</th>\n",
       "      <td>0.687500</td>\n",
       "      <td>0.000000</td>\n",
       "      <td>1.000000</td>\n",
       "      <td>9.745000e+05</td>\n",
       "      <td>16.000000</td>\n",
       "      <td>2</td>\n",
       "      <td>0.625</td>\n",
       "    </tr>\n",
       "    <tr>\n",
       "      <th>1</th>\n",
       "      <td>0.666667</td>\n",
       "      <td>0.555556</td>\n",
       "      <td>1.000000</td>\n",
       "      <td>1.077000e+06</td>\n",
       "      <td>20.806248</td>\n",
       "      <td>3</td>\n",
       "      <td>0.875</td>\n",
       "    </tr>\n",
       "    <tr>\n",
       "      <th>2</th>\n",
       "      <td>0.718750</td>\n",
       "      <td>0.111111</td>\n",
       "      <td>1.000000</td>\n",
       "      <td>1.964750e+06</td>\n",
       "      <td>25.612497</td>\n",
       "      <td>4</td>\n",
       "      <td>1.000</td>\n",
       "    </tr>\n",
       "    <tr>\n",
       "      <th>3</th>\n",
       "      <td>0.775000</td>\n",
       "      <td>0.222222</td>\n",
       "      <td>1.000000</td>\n",
       "      <td>3.277200e+06</td>\n",
       "      <td>23.726413</td>\n",
       "      <td>5</td>\n",
       "      <td>1.000</td>\n",
       "    </tr>\n",
       "    <tr>\n",
       "      <th rowspan=\"19\" valign=\"top\">zzyRy/jIix0JW68dAvG2AVFdYtU=</th>\n",
       "      <th>0</th>\n",
       "      <td>0.812500</td>\n",
       "      <td>0.000000</td>\n",
       "      <td>1.000000</td>\n",
       "      <td>5.170000e+05</td>\n",
       "      <td>457.498634</td>\n",
       "      <td>2</td>\n",
       "      <td>0.625</td>\n",
       "    </tr>\n",
       "    <tr>\n",
       "      <th>1</th>\n",
       "      <td>0.750000</td>\n",
       "      <td>0.000000</td>\n",
       "      <td>1.000000</td>\n",
       "      <td>4.463333e+05</td>\n",
       "      <td>259.797666</td>\n",
       "      <td>3</td>\n",
       "      <td>0.125</td>\n",
       "    </tr>\n",
       "    <tr>\n",
       "      <th>2</th>\n",
       "      <td>0.593750</td>\n",
       "      <td>0.000000</td>\n",
       "      <td>1.000000</td>\n",
       "      <td>4.120000e+05</td>\n",
       "      <td>366.073763</td>\n",
       "      <td>4</td>\n",
       "      <td>0.000</td>\n",
       "    </tr>\n",
       "    <tr>\n",
       "      <th>3</th>\n",
       "      <td>0.475000</td>\n",
       "      <td>0.111111</td>\n",
       "      <td>0.800000</td>\n",
       "      <td>3.918000e+05</td>\n",
       "      <td>214.085231</td>\n",
       "      <td>5</td>\n",
       "      <td>0.250</td>\n",
       "    </tr>\n",
       "    <tr>\n",
       "      <th>4</th>\n",
       "      <td>0.437500</td>\n",
       "      <td>0.000000</td>\n",
       "      <td>0.833333</td>\n",
       "      <td>3.805000e+05</td>\n",
       "      <td>62.096699</td>\n",
       "      <td>6</td>\n",
       "      <td>0.375</td>\n",
       "    </tr>\n",
       "    <tr>\n",
       "      <th>5</th>\n",
       "      <td>0.428571</td>\n",
       "      <td>0.000000</td>\n",
       "      <td>0.714286</td>\n",
       "      <td>3.692857e+05</td>\n",
       "      <td>32.166383</td>\n",
       "      <td>7</td>\n",
       "      <td>0.125</td>\n",
       "    </tr>\n",
       "    <tr>\n",
       "      <th>6</th>\n",
       "      <td>0.390625</td>\n",
       "      <td>0.000000</td>\n",
       "      <td>0.750000</td>\n",
       "      <td>3.612500e+05</td>\n",
       "      <td>6.082763</td>\n",
       "      <td>8</td>\n",
       "      <td>0.750</td>\n",
       "    </tr>\n",
       "    <tr>\n",
       "      <th>7</th>\n",
       "      <td>0.430556</td>\n",
       "      <td>0.000000</td>\n",
       "      <td>0.777778</td>\n",
       "      <td>6.193333e+05</td>\n",
       "      <td>5.956857</td>\n",
       "      <td>9</td>\n",
       "      <td>0.000</td>\n",
       "    </tr>\n",
       "    <tr>\n",
       "      <th>8</th>\n",
       "      <td>0.387500</td>\n",
       "      <td>0.000000</td>\n",
       "      <td>0.800000</td>\n",
       "      <td>6.153000e+05</td>\n",
       "      <td>5.830952</td>\n",
       "      <td>10</td>\n",
       "      <td>0.125</td>\n",
       "    </tr>\n",
       "    <tr>\n",
       "      <th>9</th>\n",
       "      <td>0.363636</td>\n",
       "      <td>0.000000</td>\n",
       "      <td>0.727273</td>\n",
       "      <td>5.936364e+05</td>\n",
       "      <td>4.033510</td>\n",
       "      <td>11</td>\n",
       "      <td>0.000</td>\n",
       "    </tr>\n",
       "    <tr>\n",
       "      <th>10</th>\n",
       "      <td>0.333333</td>\n",
       "      <td>0.000000</td>\n",
       "      <td>0.750000</td>\n",
       "      <td>5.736667e+05</td>\n",
       "      <td>2.828427</td>\n",
       "      <td>12</td>\n",
       "      <td>0.125</td>\n",
       "    </tr>\n",
       "    <tr>\n",
       "      <th>11</th>\n",
       "      <td>0.317308</td>\n",
       "      <td>0.000000</td>\n",
       "      <td>0.769231</td>\n",
       "      <td>5.668462e+05</td>\n",
       "      <td>2.532248</td>\n",
       "      <td>13</td>\n",
       "      <td>0.000</td>\n",
       "    </tr>\n",
       "    <tr>\n",
       "      <th>12</th>\n",
       "      <td>0.294643</td>\n",
       "      <td>0.000000</td>\n",
       "      <td>0.785714</td>\n",
       "      <td>8.247143e+05</td>\n",
       "      <td>2.236068</td>\n",
       "      <td>14</td>\n",
       "      <td>0.125</td>\n",
       "    </tr>\n",
       "    <tr>\n",
       "      <th>13</th>\n",
       "      <td>0.283333</td>\n",
       "      <td>0.000000</td>\n",
       "      <td>0.800000</td>\n",
       "      <td>7.932667e+05</td>\n",
       "      <td>2.118034</td>\n",
       "      <td>15</td>\n",
       "      <td>0.125</td>\n",
       "    </tr>\n",
       "    <tr>\n",
       "      <th>14</th>\n",
       "      <td>0.273438</td>\n",
       "      <td>0.444444</td>\n",
       "      <td>0.812500</td>\n",
       "      <td>7.698125e+05</td>\n",
       "      <td>2.000000</td>\n",
       "      <td>16</td>\n",
       "      <td>0.000</td>\n",
       "    </tr>\n",
       "    <tr>\n",
       "      <th>15</th>\n",
       "      <td>0.257353</td>\n",
       "      <td>0.111111</td>\n",
       "      <td>0.823529</td>\n",
       "      <td>7.886471e+05</td>\n",
       "      <td>2.118034</td>\n",
       "      <td>17</td>\n",
       "      <td>0.000</td>\n",
       "    </tr>\n",
       "    <tr>\n",
       "      <th>16</th>\n",
       "      <td>0.243056</td>\n",
       "      <td>0.000000</td>\n",
       "      <td>0.833333</td>\n",
       "      <td>7.672222e+05</td>\n",
       "      <td>2.236068</td>\n",
       "      <td>18</td>\n",
       "      <td>0.250</td>\n",
       "    </tr>\n",
       "    <tr>\n",
       "      <th>17</th>\n",
       "      <td>0.243421</td>\n",
       "      <td>0.000000</td>\n",
       "      <td>0.842105</td>\n",
       "      <td>7.478947e+05</td>\n",
       "      <td>2.532248</td>\n",
       "      <td>19</td>\n",
       "      <td>0.875</td>\n",
       "    </tr>\n",
       "    <tr>\n",
       "      <th>18</th>\n",
       "      <td>0.275000</td>\n",
       "      <td>0.111111</td>\n",
       "      <td>0.850000</td>\n",
       "      <td>1.073000e+06</td>\n",
       "      <td>2.828427</td>\n",
       "      <td>20</td>\n",
       "      <td>0.000</td>\n",
       "    </tr>\n",
       "  </tbody>\n",
       "</table>\n",
       "<p>1425953 rows × 7 columns</p>\n",
       "</div>"
      ],
      "text/plain": [
       "                                 avg_local  previous_on_next_tile  \\\n",
       "user                                                                \n",
       "+++/DjiwyzTQzfai1RGavwwdeF0= 0    0.625000               0.555556   \n",
       "                             1    0.750000               0.000000   \n",
       "                             2    0.718750               0.555556   \n",
       "                             3    0.775000               0.666667   \n",
       "                             4    0.812500               0.000000   \n",
       "                             5    0.714286               0.500000   \n",
       "                             6    0.750000               0.888889   \n",
       "                             7    0.777778               0.111111   \n",
       "                             8    0.762500               0.444444   \n",
       "                             9    0.772727               0.222222   \n",
       "                             10   0.770833               0.666667   \n",
       "                             11   0.778846               0.777778   \n",
       "                             12   0.785714               0.000000   \n",
       "                             13   0.783333               0.000000   \n",
       "                             14   0.781250               0.666667   \n",
       "                             15   0.786765               0.333333   \n",
       "                             16   0.798611               0.444444   \n",
       "                             17   0.802632               0.666667   \n",
       "                             18   0.812500               0.555556   \n",
       "                             19   0.821429               0.111111   \n",
       "++2sA4EI7im8sARsTnyul95caJc= 0    0.500000               0.222222   \n",
       "                             1    0.500000               0.000000   \n",
       "                             2    0.500000               0.000000   \n",
       "                             3    0.450000               0.000000   \n",
       "                             4    0.458333               1.000000   \n",
       "                             5    0.392857               0.111111   \n",
       "                             6    0.406250               0.000000   \n",
       "                             7    0.388889               0.000000   \n",
       "                             8    0.375000               0.000000   \n",
       "                             9    0.363636               0.222222   \n",
       "...                                    ...                    ...   \n",
       "zztQmD6PgYW7BynvwY3ohxOyAtA= 23   0.350000               0.000000   \n",
       "                             24   0.350962               0.111111   \n",
       "                             25   0.356481               0.111111   \n",
       "                             26   0.357143               0.000000   \n",
       "                             27   0.379310               0.000000   \n",
       "                             28   0.379167               0.000000   \n",
       "                             29   0.366935               0.000000   \n",
       "zzvnd84RlDPEdtpcphJIA0Dxopg= 0    0.687500               0.000000   \n",
       "                             1    0.666667               0.555556   \n",
       "                             2    0.718750               0.111111   \n",
       "                             3    0.775000               0.222222   \n",
       "zzyRy/jIix0JW68dAvG2AVFdYtU= 0    0.812500               0.000000   \n",
       "                             1    0.750000               0.000000   \n",
       "                             2    0.593750               0.000000   \n",
       "                             3    0.475000               0.111111   \n",
       "                             4    0.437500               0.000000   \n",
       "                             5    0.428571               0.000000   \n",
       "                             6    0.390625               0.000000   \n",
       "                             7    0.430556               0.000000   \n",
       "                             8    0.387500               0.000000   \n",
       "                             9    0.363636               0.000000   \n",
       "                             10   0.333333               0.000000   \n",
       "                             11   0.317308               0.000000   \n",
       "                             12   0.294643               0.000000   \n",
       "                             13   0.283333               0.000000   \n",
       "                             14   0.273438               0.444444   \n",
       "                             15   0.257353               0.111111   \n",
       "                             16   0.243056               0.000000   \n",
       "                             17   0.243421               0.000000   \n",
       "                             18   0.275000               0.111111   \n",
       "\n",
       "                                 avg_nb_collab  avg_time_between  \\\n",
       "user                                                               \n",
       "+++/DjiwyzTQzfai1RGavwwdeF0= 0        1.000000      1.765000e+05   \n",
       "                             1        1.000000      9.146667e+05   \n",
       "                             2        1.000000      9.830000e+05   \n",
       "                             3        1.000000      8.520000e+05   \n",
       "                             4        1.000000      1.395167e+06   \n",
       "                             5        1.000000      1.239714e+06   \n",
       "                             6        1.000000      1.414375e+06   \n",
       "                             7        1.000000      1.443111e+06   \n",
       "                             8        1.000000      1.354000e+06   \n",
       "                             9        1.000000      1.264273e+06   \n",
       "                             10       1.000000      1.202833e+06   \n",
       "                             11       1.000000      1.144308e+06   \n",
       "                             12       1.000000      1.151071e+06   \n",
       "                             13       1.000000      1.197533e+06   \n",
       "                             14       1.000000      1.162812e+06   \n",
       "                             15       1.000000      1.113588e+06   \n",
       "                             16       1.000000      1.069389e+06   \n",
       "                             17       1.000000      1.081368e+06   \n",
       "                             18       1.000000      1.048000e+06   \n",
       "                             19       0.952381      1.015714e+06   \n",
       "++2sA4EI7im8sARsTnyul95caJc= 0        1.000000      8.160000e+05   \n",
       "                             1        1.000000      6.483333e+05   \n",
       "                             2        1.000000      7.790000e+05   \n",
       "                             3        1.000000      7.878000e+05   \n",
       "                             4        1.000000      7.126667e+05   \n",
       "                             5        1.000000      6.642857e+05   \n",
       "                             6        1.000000      8.240000e+05   \n",
       "                             7        1.000000      7.845556e+05   \n",
       "                             8        1.000000      8.388000e+05   \n",
       "                             9        1.000000      7.900000e+05   \n",
       "...                                        ...               ...   \n",
       "zztQmD6PgYW7BynvwY3ohxOyAtA= 23       0.920000      3.231600e+05   \n",
       "                             24       0.923077      3.225769e+05   \n",
       "                             25       0.925926      3.607037e+05   \n",
       "                             26       0.892857      3.592857e+05   \n",
       "                             27       0.896552      3.573448e+05   \n",
       "                             28       0.866667      3.556667e+05   \n",
       "                             29       0.870968      3.542258e+05   \n",
       "zzvnd84RlDPEdtpcphJIA0Dxopg= 0        1.000000      9.745000e+05   \n",
       "                             1        1.000000      1.077000e+06   \n",
       "                             2        1.000000      1.964750e+06   \n",
       "                             3        1.000000      3.277200e+06   \n",
       "zzyRy/jIix0JW68dAvG2AVFdYtU= 0        1.000000      5.170000e+05   \n",
       "                             1        1.000000      4.463333e+05   \n",
       "                             2        1.000000      4.120000e+05   \n",
       "                             3        0.800000      3.918000e+05   \n",
       "                             4        0.833333      3.805000e+05   \n",
       "                             5        0.714286      3.692857e+05   \n",
       "                             6        0.750000      3.612500e+05   \n",
       "                             7        0.777778      6.193333e+05   \n",
       "                             8        0.800000      6.153000e+05   \n",
       "                             9        0.727273      5.936364e+05   \n",
       "                             10       0.750000      5.736667e+05   \n",
       "                             11       0.769231      5.668462e+05   \n",
       "                             12       0.785714      8.247143e+05   \n",
       "                             13       0.800000      7.932667e+05   \n",
       "                             14       0.812500      7.698125e+05   \n",
       "                             15       0.823529      7.886471e+05   \n",
       "                             16       0.833333      7.672222e+05   \n",
       "                             17       0.842105      7.478947e+05   \n",
       "                             18       0.850000      1.073000e+06   \n",
       "\n",
       "                                 median_distance  nb_clicks  target  \n",
       "user                                                                 \n",
       "+++/DjiwyzTQzfai1RGavwwdeF0= 0          1.000000          2   1.000  \n",
       "                             1         19.027007          3   0.625  \n",
       "                             2         37.054015          4   1.000  \n",
       "                             3         37.054015          5   1.000  \n",
       "                             4         37.054015          6   0.125  \n",
       "                             5         28.527007          7   1.000  \n",
       "                             6         20.000000          8   1.000  \n",
       "                             7         18.246211          9   0.625  \n",
       "                             8         20.000000         10   0.875  \n",
       "                             9         18.246211         11   0.750  \n",
       "                             10        20.000000         12   0.875  \n",
       "                             11        28.527007         13   0.875  \n",
       "                             12        22.022716         14   0.750  \n",
       "                             13        29.538365         15   0.750  \n",
       "                             14        22.022716         16   0.875  \n",
       "                             15        29.538365         17   1.000  \n",
       "                             16        37.054015         18   0.875  \n",
       "                             17        36.596318         19   1.000  \n",
       "                             18        36.138622         20   1.000  \n",
       "                             19        36.596318         21   0.750  \n",
       "++2sA4EI7im8sARsTnyul95caJc= 0          0.000000          2   0.500  \n",
       "                             1          0.000000          3   0.500  \n",
       "                             2          0.000000          4   0.250  \n",
       "                             3          1.500000          5   0.500  \n",
       "                             4          3.000000          6   0.000  \n",
       "                             5          7.022681          7   0.500  \n",
       "                             6         11.045361          8   0.250  \n",
       "                             7          7.103819          9   0.250  \n",
       "                             8         11.045361         10   0.250  \n",
       "                             9         15.535173         11   0.000  \n",
       "...                                          ...        ...     ...  \n",
       "zztQmD6PgYW7BynvwY3ohxOyAtA= 23         4.670830         25   0.375  \n",
       "                             24         4.242641         26   0.500  \n",
       "                             25         4.670830         27   0.375  \n",
       "                             26         5.099020         28   1.000  \n",
       "                             27         5.549510         29   0.375  \n",
       "                             28         6.000000         30   0.000  \n",
       "                             29         6.535534         31   0.875  \n",
       "zzvnd84RlDPEdtpcphJIA0Dxopg= 0         16.000000          2   0.625  \n",
       "                             1         20.806248          3   0.875  \n",
       "                             2         25.612497          4   1.000  \n",
       "                             3         23.726413          5   1.000  \n",
       "zzyRy/jIix0JW68dAvG2AVFdYtU= 0        457.498634          2   0.625  \n",
       "                             1        259.797666          3   0.125  \n",
       "                             2        366.073763          4   0.000  \n",
       "                             3        214.085231          5   0.250  \n",
       "                             4         62.096699          6   0.375  \n",
       "                             5         32.166383          7   0.125  \n",
       "                             6          6.082763          8   0.750  \n",
       "                             7          5.956857          9   0.000  \n",
       "                             8          5.830952         10   0.125  \n",
       "                             9          4.033510         11   0.000  \n",
       "                             10         2.828427         12   0.125  \n",
       "                             11         2.532248         13   0.000  \n",
       "                             12         2.236068         14   0.125  \n",
       "                             13         2.118034         15   0.125  \n",
       "                             14         2.000000         16   0.000  \n",
       "                             15         2.118034         17   0.000  \n",
       "                             16         2.236068         18   0.250  \n",
       "                             17         2.532248         19   0.875  \n",
       "                             18         2.828427         20   0.000  \n",
       "\n",
       "[1425953 rows x 7 columns]"
      ]
     },
     "execution_count": 7,
     "metadata": {},
     "output_type": "execute_result"
    }
   ],
   "source": [
    "features_and_target"
   ]
  },
  {
   "cell_type": "code",
   "execution_count": 8,
   "metadata": {
    "collapsed": true
   },
   "outputs": [],
   "source": [
    "features_and_target.to_pickle(\"data/active_set_features_last_2_mil.pkl\")"
   ]
  },
  {
   "cell_type": "markdown",
   "metadata": {},
   "source": [
    "This set is divided between the test set (all the last clicks), the validation set (the second to last clicks) and the train set (everything else)."
   ]
  },
  {
   "cell_type": "code",
   "execution_count": 9,
   "metadata": {
    "collapsed": true
   },
   "outputs": [],
   "source": [
    "cumcount = features_and_target.groupby('user').cumcount(ascending=False)\n",
    "train_set = features_and_target[cumcount > 1].copy()\n",
    "validation_set = features_and_target[cumcount == 1].copy()\n",
    "test_set = features_and_target[cumcount == 0].copy()"
   ]
  },
  {
   "cell_type": "markdown",
   "metadata": {},
   "source": [
    "The time distance and number of clicks features are normalized."
   ]
  },
  {
   "cell_type": "code",
   "execution_count": 11,
   "metadata": {},
   "outputs": [],
   "source": [
    "# normalization\n",
    "for col in [\"avg_time_between\",\"median_distance\",\"nb_clicks\"]:\n",
    "    train_min = train_set[col].min()\n",
    "    train_max = train_set[col].max()\n",
    "    train_set[col] = (train_set[col] - train_min) / (train_max - train_min)\n",
    "    test_set[col] = (test_set[col] - train_min) / (train_max - train_min)\n",
    "    validation_set[col] = (validation_set[col] - train_min) / (train_max - train_min)"
   ]
  },
  {
   "cell_type": "code",
   "execution_count": 12,
   "metadata": {},
   "outputs": [
    {
     "data": {
      "text/html": [
       "<div>\n",
       "<style>\n",
       "    .dataframe thead tr:only-child th {\n",
       "        text-align: right;\n",
       "    }\n",
       "\n",
       "    .dataframe thead th {\n",
       "        text-align: left;\n",
       "    }\n",
       "\n",
       "    .dataframe tbody tr th {\n",
       "        vertical-align: top;\n",
       "    }\n",
       "</style>\n",
       "<table border=\"1\" class=\"dataframe\">\n",
       "  <thead>\n",
       "    <tr style=\"text-align: right;\">\n",
       "      <th></th>\n",
       "      <th>avg_local</th>\n",
       "      <th>previous_on_next_tile</th>\n",
       "      <th>avg_nb_collab</th>\n",
       "      <th>avg_time_between</th>\n",
       "      <th>median_distance</th>\n",
       "      <th>nb_clicks</th>\n",
       "      <th>target</th>\n",
       "    </tr>\n",
       "  </thead>\n",
       "  <tbody>\n",
       "    <tr>\n",
       "      <th>count</th>\n",
       "      <td>1.222331e+06</td>\n",
       "      <td>1.222331e+06</td>\n",
       "      <td>1.222331e+06</td>\n",
       "      <td>1.222331e+06</td>\n",
       "      <td>1.222331e+06</td>\n",
       "      <td>1.222331e+06</td>\n",
       "      <td>1.222331e+06</td>\n",
       "    </tr>\n",
       "    <tr>\n",
       "      <th>mean</th>\n",
       "      <td>4.165054e-01</td>\n",
       "      <td>1.345116e-01</td>\n",
       "      <td>9.246151e-01</td>\n",
       "      <td>4.944667e-02</td>\n",
       "      <td>4.660569e-02</td>\n",
       "      <td>9.166760e-02</td>\n",
       "      <td>4.230343e-01</td>\n",
       "    </tr>\n",
       "    <tr>\n",
       "      <th>std</th>\n",
       "      <td>2.127261e-01</td>\n",
       "      <td>2.365835e-01</td>\n",
       "      <td>1.377279e-01</td>\n",
       "      <td>5.048869e-02</td>\n",
       "      <td>1.012323e-01</td>\n",
       "      <td>9.934556e-02</td>\n",
       "      <td>3.209650e-01</td>\n",
       "    </tr>\n",
       "    <tr>\n",
       "      <th>min</th>\n",
       "      <td>0.000000e+00</td>\n",
       "      <td>0.000000e+00</td>\n",
       "      <td>0.000000e+00</td>\n",
       "      <td>0.000000e+00</td>\n",
       "      <td>0.000000e+00</td>\n",
       "      <td>0.000000e+00</td>\n",
       "      <td>0.000000e+00</td>\n",
       "    </tr>\n",
       "    <tr>\n",
       "      <th>25%</th>\n",
       "      <td>2.633929e-01</td>\n",
       "      <td>0.000000e+00</td>\n",
       "      <td>9.000000e-01</td>\n",
       "      <td>2.542363e-02</td>\n",
       "      <td>3.610967e-03</td>\n",
       "      <td>1.910828e-02</td>\n",
       "      <td>1.250000e-01</td>\n",
       "    </tr>\n",
       "    <tr>\n",
       "      <th>50%</th>\n",
       "      <td>4.027778e-01</td>\n",
       "      <td>0.000000e+00</td>\n",
       "      <td>1.000000e+00</td>\n",
       "      <td>3.283553e-02</td>\n",
       "      <td>1.052203e-02</td>\n",
       "      <td>5.732484e-02</td>\n",
       "      <td>3.750000e-01</td>\n",
       "    </tr>\n",
       "    <tr>\n",
       "      <th>75%</th>\n",
       "      <td>5.500000e-01</td>\n",
       "      <td>1.111111e-01</td>\n",
       "      <td>1.000000e+00</td>\n",
       "      <td>5.287967e-02</td>\n",
       "      <td>2.974210e-02</td>\n",
       "      <td>1.273885e-01</td>\n",
       "      <td>6.250000e-01</td>\n",
       "    </tr>\n",
       "    <tr>\n",
       "      <th>max</th>\n",
       "      <td>1.000000e+00</td>\n",
       "      <td>1.000000e+00</td>\n",
       "      <td>1.000000e+00</td>\n",
       "      <td>1.000000e+00</td>\n",
       "      <td>1.000000e+00</td>\n",
       "      <td>1.000000e+00</td>\n",
       "      <td>1.000000e+00</td>\n",
       "    </tr>\n",
       "  </tbody>\n",
       "</table>\n",
       "</div>"
      ],
      "text/plain": [
       "          avg_local  previous_on_next_tile  avg_nb_collab  avg_time_between  \\\n",
       "count  1.222331e+06           1.222331e+06   1.222331e+06      1.222331e+06   \n",
       "mean   4.165054e-01           1.345116e-01   9.246151e-01      4.944667e-02   \n",
       "std    2.127261e-01           2.365835e-01   1.377279e-01      5.048869e-02   \n",
       "min    0.000000e+00           0.000000e+00   0.000000e+00      0.000000e+00   \n",
       "25%    2.633929e-01           0.000000e+00   9.000000e-01      2.542363e-02   \n",
       "50%    4.027778e-01           0.000000e+00   1.000000e+00      3.283553e-02   \n",
       "75%    5.500000e-01           1.111111e-01   1.000000e+00      5.287967e-02   \n",
       "max    1.000000e+00           1.000000e+00   1.000000e+00      1.000000e+00   \n",
       "\n",
       "       median_distance     nb_clicks        target  \n",
       "count     1.222331e+06  1.222331e+06  1.222331e+06  \n",
       "mean      4.660569e-02  9.166760e-02  4.230343e-01  \n",
       "std       1.012323e-01  9.934556e-02  3.209650e-01  \n",
       "min       0.000000e+00  0.000000e+00  0.000000e+00  \n",
       "25%       3.610967e-03  1.910828e-02  1.250000e-01  \n",
       "50%       1.052203e-02  5.732484e-02  3.750000e-01  \n",
       "75%       2.974210e-02  1.273885e-01  6.250000e-01  \n",
       "max       1.000000e+00  1.000000e+00  1.000000e+00  "
      ]
     },
     "execution_count": 12,
     "metadata": {},
     "output_type": "execute_result"
    }
   ],
   "source": [
    "train_set.describe()"
   ]
  },
  {
   "cell_type": "code",
   "execution_count": 13,
   "metadata": {},
   "outputs": [
    {
     "data": {
      "text/html": [
       "<div>\n",
       "<style>\n",
       "    .dataframe thead tr:only-child th {\n",
       "        text-align: right;\n",
       "    }\n",
       "\n",
       "    .dataframe thead th {\n",
       "        text-align: left;\n",
       "    }\n",
       "\n",
       "    .dataframe tbody tr th {\n",
       "        vertical-align: top;\n",
       "    }\n",
       "</style>\n",
       "<table border=\"1\" class=\"dataframe\">\n",
       "  <thead>\n",
       "    <tr style=\"text-align: right;\">\n",
       "      <th></th>\n",
       "      <th>avg_local</th>\n",
       "      <th>previous_on_next_tile</th>\n",
       "      <th>avg_nb_collab</th>\n",
       "      <th>avg_time_between</th>\n",
       "      <th>median_distance</th>\n",
       "      <th>nb_clicks</th>\n",
       "      <th>target</th>\n",
       "    </tr>\n",
       "  </thead>\n",
       "  <tbody>\n",
       "    <tr>\n",
       "      <th>count</th>\n",
       "      <td>101811.000000</td>\n",
       "      <td>101811.000000</td>\n",
       "      <td>101811.000000</td>\n",
       "      <td>101811.000000</td>\n",
       "      <td>101811.000000</td>\n",
       "      <td>101811.000000</td>\n",
       "      <td>101811.000000</td>\n",
       "    </tr>\n",
       "    <tr>\n",
       "      <th>mean</th>\n",
       "      <td>0.455240</td>\n",
       "      <td>0.171249</td>\n",
       "      <td>0.952153</td>\n",
       "      <td>0.082704</td>\n",
       "      <td>0.061884</td>\n",
       "      <td>0.082840</td>\n",
       "      <td>0.469627</td>\n",
       "    </tr>\n",
       "    <tr>\n",
       "      <th>std</th>\n",
       "      <td>0.205476</td>\n",
       "      <td>0.272718</td>\n",
       "      <td>0.103421</td>\n",
       "      <td>0.069372</td>\n",
       "      <td>0.114932</td>\n",
       "      <td>0.093055</td>\n",
       "      <td>0.338208</td>\n",
       "    </tr>\n",
       "    <tr>\n",
       "      <th>min</th>\n",
       "      <td>0.000000</td>\n",
       "      <td>0.000000</td>\n",
       "      <td>0.000000</td>\n",
       "      <td>0.003964</td>\n",
       "      <td>0.000000</td>\n",
       "      <td>0.012739</td>\n",
       "      <td>0.000000</td>\n",
       "    </tr>\n",
       "    <tr>\n",
       "      <th>25%</th>\n",
       "      <td>0.312500</td>\n",
       "      <td>0.000000</td>\n",
       "      <td>0.948718</td>\n",
       "      <td>0.035139</td>\n",
       "      <td>0.004957</td>\n",
       "      <td>0.025478</td>\n",
       "      <td>0.125000</td>\n",
       "    </tr>\n",
       "    <tr>\n",
       "      <th>50%</th>\n",
       "      <td>0.444444</td>\n",
       "      <td>0.000000</td>\n",
       "      <td>1.000000</td>\n",
       "      <td>0.057609</td>\n",
       "      <td>0.013938</td>\n",
       "      <td>0.050955</td>\n",
       "      <td>0.500000</td>\n",
       "    </tr>\n",
       "    <tr>\n",
       "      <th>75%</th>\n",
       "      <td>0.589286</td>\n",
       "      <td>0.222222</td>\n",
       "      <td>1.000000</td>\n",
       "      <td>0.104431</td>\n",
       "      <td>0.044451</td>\n",
       "      <td>0.101911</td>\n",
       "      <td>0.750000</td>\n",
       "    </tr>\n",
       "    <tr>\n",
       "      <th>max</th>\n",
       "      <td>1.000000</td>\n",
       "      <td>1.000000</td>\n",
       "      <td>1.000000</td>\n",
       "      <td>0.529375</td>\n",
       "      <td>0.906244</td>\n",
       "      <td>1.012739</td>\n",
       "      <td>1.000000</td>\n",
       "    </tr>\n",
       "  </tbody>\n",
       "</table>\n",
       "</div>"
      ],
      "text/plain": [
       "           avg_local  previous_on_next_tile  avg_nb_collab  avg_time_between  \\\n",
       "count  101811.000000          101811.000000  101811.000000     101811.000000   \n",
       "mean        0.455240               0.171249       0.952153          0.082704   \n",
       "std         0.205476               0.272718       0.103421          0.069372   \n",
       "min         0.000000               0.000000       0.000000          0.003964   \n",
       "25%         0.312500               0.000000       0.948718          0.035139   \n",
       "50%         0.444444               0.000000       1.000000          0.057609   \n",
       "75%         0.589286               0.222222       1.000000          0.104431   \n",
       "max         1.000000               1.000000       1.000000          0.529375   \n",
       "\n",
       "       median_distance      nb_clicks         target  \n",
       "count    101811.000000  101811.000000  101811.000000  \n",
       "mean          0.061884       0.082840       0.469627  \n",
       "std           0.114932       0.093055       0.338208  \n",
       "min           0.000000       0.012739       0.000000  \n",
       "25%           0.004957       0.025478       0.125000  \n",
       "50%           0.013938       0.050955       0.500000  \n",
       "75%           0.044451       0.101911       0.750000  \n",
       "max           0.906244       1.012739       1.000000  "
      ]
     },
     "execution_count": 13,
     "metadata": {},
     "output_type": "execute_result"
    }
   ],
   "source": [
    "test_set.describe()"
   ]
  },
  {
   "cell_type": "code",
   "execution_count": 14,
   "metadata": {},
   "outputs": [
    {
     "data": {
      "text/html": [
       "<div>\n",
       "<style>\n",
       "    .dataframe thead tr:only-child th {\n",
       "        text-align: right;\n",
       "    }\n",
       "\n",
       "    .dataframe thead th {\n",
       "        text-align: left;\n",
       "    }\n",
       "\n",
       "    .dataframe tbody tr th {\n",
       "        vertical-align: top;\n",
       "    }\n",
       "</style>\n",
       "<table border=\"1\" class=\"dataframe\">\n",
       "  <thead>\n",
       "    <tr style=\"text-align: right;\">\n",
       "      <th></th>\n",
       "      <th>avg_local</th>\n",
       "      <th>previous_on_next_tile</th>\n",
       "      <th>avg_nb_collab</th>\n",
       "      <th>avg_time_between</th>\n",
       "      <th>median_distance</th>\n",
       "      <th>nb_clicks</th>\n",
       "      <th>target</th>\n",
       "    </tr>\n",
       "  </thead>\n",
       "  <tbody>\n",
       "    <tr>\n",
       "      <th>count</th>\n",
       "      <td>101811.000000</td>\n",
       "      <td>101811.000000</td>\n",
       "      <td>101811.000000</td>\n",
       "      <td>101811.000000</td>\n",
       "      <td>101811.000000</td>\n",
       "      <td>101811.000000</td>\n",
       "      <td>101811.000000</td>\n",
       "    </tr>\n",
       "    <tr>\n",
       "      <th>mean</th>\n",
       "      <td>0.454938</td>\n",
       "      <td>0.166401</td>\n",
       "      <td>0.953843</td>\n",
       "      <td>0.078305</td>\n",
       "      <td>0.067537</td>\n",
       "      <td>0.076471</td>\n",
       "      <td>0.462964</td>\n",
       "    </tr>\n",
       "    <tr>\n",
       "      <th>std</th>\n",
       "      <td>0.211813</td>\n",
       "      <td>0.268619</td>\n",
       "      <td>0.103598</td>\n",
       "      <td>0.072966</td>\n",
       "      <td>0.120743</td>\n",
       "      <td>0.093055</td>\n",
       "      <td>0.336454</td>\n",
       "    </tr>\n",
       "    <tr>\n",
       "      <th>min</th>\n",
       "      <td>0.000000</td>\n",
       "      <td>0.000000</td>\n",
       "      <td>0.000000</td>\n",
       "      <td>0.004799</td>\n",
       "      <td>0.000000</td>\n",
       "      <td>0.006369</td>\n",
       "      <td>0.000000</td>\n",
       "    </tr>\n",
       "    <tr>\n",
       "      <th>25%</th>\n",
       "      <td>0.307692</td>\n",
       "      <td>0.000000</td>\n",
       "      <td>0.958333</td>\n",
       "      <td>0.032064</td>\n",
       "      <td>0.005008</td>\n",
       "      <td>0.019108</td>\n",
       "      <td>0.125000</td>\n",
       "    </tr>\n",
       "    <tr>\n",
       "      <th>50%</th>\n",
       "      <td>0.443182</td>\n",
       "      <td>0.000000</td>\n",
       "      <td>1.000000</td>\n",
       "      <td>0.051894</td>\n",
       "      <td>0.014681</td>\n",
       "      <td>0.044586</td>\n",
       "      <td>0.375000</td>\n",
       "    </tr>\n",
       "    <tr>\n",
       "      <th>75%</th>\n",
       "      <td>0.590909</td>\n",
       "      <td>0.222222</td>\n",
       "      <td>1.000000</td>\n",
       "      <td>0.095071</td>\n",
       "      <td>0.052445</td>\n",
       "      <td>0.095541</td>\n",
       "      <td>0.750000</td>\n",
       "    </tr>\n",
       "    <tr>\n",
       "      <th>max</th>\n",
       "      <td>1.000000</td>\n",
       "      <td>1.000000</td>\n",
       "      <td>1.000000</td>\n",
       "      <td>0.690807</td>\n",
       "      <td>0.997501</td>\n",
       "      <td>1.006369</td>\n",
       "      <td>1.000000</td>\n",
       "    </tr>\n",
       "  </tbody>\n",
       "</table>\n",
       "</div>"
      ],
      "text/plain": [
       "           avg_local  previous_on_next_tile  avg_nb_collab  avg_time_between  \\\n",
       "count  101811.000000          101811.000000  101811.000000     101811.000000   \n",
       "mean        0.454938               0.166401       0.953843          0.078305   \n",
       "std         0.211813               0.268619       0.103598          0.072966   \n",
       "min         0.000000               0.000000       0.000000          0.004799   \n",
       "25%         0.307692               0.000000       0.958333          0.032064   \n",
       "50%         0.443182               0.000000       1.000000          0.051894   \n",
       "75%         0.590909               0.222222       1.000000          0.095071   \n",
       "max         1.000000               1.000000       1.000000          0.690807   \n",
       "\n",
       "       median_distance      nb_clicks         target  \n",
       "count    101811.000000  101811.000000  101811.000000  \n",
       "mean          0.067537       0.076471       0.462964  \n",
       "std           0.120743       0.093055       0.336454  \n",
       "min           0.000000       0.006369       0.000000  \n",
       "25%           0.005008       0.019108       0.125000  \n",
       "50%           0.014681       0.044586       0.375000  \n",
       "75%           0.052445       0.095541       0.750000  \n",
       "max           0.997501       1.006369       1.000000  "
      ]
     },
     "execution_count": 14,
     "metadata": {},
     "output_type": "execute_result"
    }
   ],
   "source": [
    "validation_set.describe()"
   ]
  },
  {
   "cell_type": "markdown",
   "metadata": {},
   "source": [
    "# Baseline\n",
    "\n",
    "To compare our different models we use as a baseline a model that always returns the average local agreement of the user as a prediction for his next click."
   ]
  },
  {
   "cell_type": "code",
   "execution_count": 65,
   "metadata": {},
   "outputs": [
    {
     "data": {
      "text/plain": [
       "0.3143902259786052"
      ]
     },
     "execution_count": 65,
     "metadata": {},
     "output_type": "execute_result"
    }
   ],
   "source": [
    "np.sqrt(np.square(test_set.target.values - test_set.avg_local.values).mean())"
   ]
  },
  {
   "cell_type": "markdown",
   "metadata": {},
   "source": [
    "# Linear Regression\n",
    "\n",
    "As a first attempt with a simple but efficient model, we train a linear regressor on this dataset."
   ]
  },
  {
   "cell_type": "code",
   "execution_count": 20,
   "metadata": {
    "collapsed": true
   },
   "outputs": [],
   "source": [
    "reg = LinearRegression()"
   ]
  },
  {
   "cell_type": "code",
   "execution_count": 22,
   "metadata": {},
   "outputs": [
    {
     "data": {
      "text/plain": [
       "LinearRegression(copy_X=True, fit_intercept=True, n_jobs=1, normalize=False)"
      ]
     },
     "execution_count": 22,
     "metadata": {},
     "output_type": "execute_result"
    }
   ],
   "source": [
    "reg.fit(train_set.drop(\"target\",axis=1).as_matrix(),train_set.target.values)"
   ]
  },
  {
   "cell_type": "code",
   "execution_count": 23,
   "metadata": {},
   "outputs": [
    {
     "data": {
      "text/plain": [
       "0.28742358409916924"
      ]
     },
     "execution_count": 23,
     "metadata": {},
     "output_type": "execute_result"
    }
   ],
   "source": [
    "# Test rmse\n",
    "np.sqrt(np.square(reg.predict(test_set.drop(\"target\",axis=1).as_matrix()) - test_set.target).mean())"
   ]
  },
  {
   "cell_type": "markdown",
   "metadata": {},
   "source": [
    "It already performs better than the baseline.\n",
    "\n",
    "Let's see with all the possible combinations from 1 to all 6 features."
   ]
  },
  {
   "cell_type": "code",
   "execution_count": 25,
   "metadata": {},
   "outputs": [
    {
     "name": "stderr",
     "output_type": "stream",
     "text": [
      "100%|██████████| 63/63 [00:08<00:00,  7.09it/s]\n"
     ]
    }
   ],
   "source": [
    "features_combinations = [ list(e) for i in range(1,7) for e in combinations(range(6),i) ]\n",
    "rmse = []\n",
    "for features in tqdm(features_combinations):\n",
    "    reg = LinearRegression()\n",
    "    reg.fit(train_set[train_set.columns[features]].as_matrix(),train_set.target.values)\n",
    "    rmse.append(np.sqrt(np.square(reg.predict(test_set[test_set.columns[features]].as_matrix()) - test_set.target).mean()))"
   ]
  },
  {
   "cell_type": "code",
   "execution_count": 26,
   "metadata": {},
   "outputs": [
    {
     "data": {
      "text/plain": [
       "[0, 1, 2, 3, 4, 5]"
      ]
     },
     "execution_count": 26,
     "metadata": {},
     "output_type": "execute_result"
    }
   ],
   "source": [
    "best_features = features_combinations[np.argmin(rmse)]\n",
    "best_features"
   ]
  },
  {
   "cell_type": "code",
   "execution_count": 27,
   "metadata": {},
   "outputs": [
    {
     "data": {
      "text/plain": [
       "0.28742358409916924"
      ]
     },
     "execution_count": 27,
     "metadata": {},
     "output_type": "execute_result"
    }
   ],
   "source": [
    "np.min(rmse)"
   ]
  },
  {
   "cell_type": "markdown",
   "metadata": {},
   "source": [
    "The features were well designed because the regression with all the features ends up performing the best."
   ]
  },
  {
   "cell_type": "code",
   "execution_count": 28,
   "metadata": {},
   "outputs": [
    {
     "data": {
      "text/plain": [
       "array([ 0.62959503,  0.3440358 , -0.02233216,  0.062347  , -0.01888635,\n",
       "        0.03193831])"
      ]
     },
     "execution_count": 28,
     "metadata": {},
     "output_type": "execute_result"
    }
   ],
   "source": [
    "reg.coef_"
   ]
  },
  {
   "cell_type": "markdown",
   "metadata": {},
   "source": [
    "Its coefficients show that the two first features (average local agreement so far and previous agreement on the next tile) weight for almost 90% of the decision. Even if the other coefficients are small, they seem to agree with intuition : the average number of collaborators and the median distance are negatively weighted, which means the more you cross path with different people and the more distance there is between your clicks, the less you agree with your environment. On the other hand, the more time there is between your clicks and the more you clicked, the more you agree with your environment."
   ]
  },
  {
   "cell_type": "markdown",
   "metadata": {},
   "source": [
    "# Neural Network\n",
    "\n",
    "To see if there is some non-linear relation between those features and the local agreement, we train a basic neural network, with only one hidden layer of size 12 and a sigmoid activation function. We train it by minimizing a MSE loss function with a batch Stochastic Gradient Descent optimizer. Its hyper parameters, such as the learning rate and the size of the mini-batches, were learned through grid search."
   ]
  },
  {
   "cell_type": "code",
   "execution_count": 29,
   "metadata": {
    "collapsed": true
   },
   "outputs": [],
   "source": [
    "train_input = Variable(FloatTensor(train_set[train_set.columns[best_features]].values))\n",
    "validation_input = Variable(FloatTensor(validation_set[validation_set.columns[[best_features]]].values))\n",
    "test_input = Variable(FloatTensor(test_set[test_set.columns[[best_features]]].values))"
   ]
  },
  {
   "cell_type": "code",
   "execution_count": 30,
   "metadata": {
    "collapsed": true
   },
   "outputs": [],
   "source": [
    "train_target = Variable(FloatTensor(train_set.target.values))\n",
    "validation_target = Variable(FloatTensor(validation_set.target.values))\n",
    "test_target = Variable(FloatTensor(test_set.target.values))"
   ]
  },
  {
   "cell_type": "code",
   "execution_count": 77,
   "metadata": {
    "collapsed": true
   },
   "outputs": [],
   "source": [
    "def train_model(model, nb_epochs = 50, learning_rate = 0.5, mini_batch_size = 64, opt = optim.SGD):\n",
    "    criterion = nn.MSELoss()\n",
    "    optimizer = opt(model.parameters(), lr = learning_rate)\n",
    "    scheduler = optim.lr_scheduler.ReduceLROnPlateau(optimizer)\n",
    "    \n",
    "    best_error = validation_input.size(0)+1\n",
    "    res = []\n",
    "    \n",
    "    for e in tqdm_notebook(range(nb_epochs)):\n",
    "        sum_loss = 0\n",
    "        \n",
    "        for b in tqdm_notebook(range(0, train_input.size(0), mini_batch_size)):\n",
    "            if (b+mini_batch_size) > train_input.size(0):\n",
    "                output = model(train_input[b:])\n",
    "                loss = criterion(output, train_target[b:])\n",
    "            else:\n",
    "                output = model(train_input.narrow(0, b, mini_batch_size))\n",
    "                loss = criterion(output, train_target.narrow(0, b, mini_batch_size))\n",
    "            \n",
    "            sum_loss = sum_loss + loss.data[0]\n",
    "            model.zero_grad()\n",
    "            loss.backward()\n",
    "            optimizer.step()\n",
    "\n",
    "        train_error = np.sqrt((model(train_input).squeeze() - train_target).data.pow(2).mean())\n",
    "        validation_error = np.sqrt((model(validation_input).squeeze() - validation_target).data.pow(2).mean())\n",
    "        scheduler.step(validation_error)\n",
    "        \n",
    "        print(\"  Epoch {:>3} : loss = {:1.8f} | training error = {:>4} | validation error = {:>4}\".format(e+1, sum_loss, train_error, validation_error))\n",
    "        res.append(validation_error)\n",
    "        \n",
    "        if (validation_error < best_error) or ( (validation_error == best_error) and ((e+1) < best_epoch) ):\n",
    "            best_error = validation_error\n",
    "            best_epoch = e+1\n",
    "            \n",
    "    return [ res, best_error, best_epoch ]"
   ]
  },
  {
   "cell_type": "markdown",
   "metadata": {
    "collapsed": true
   },
   "source": [
    "### Learning rate"
   ]
  },
  {
   "cell_type": "code",
   "execution_count": 74,
   "metadata": {
    "scrolled": true
   },
   "outputs": [
    {
     "data": {
      "application/vnd.jupyter.widget-view+json": {
       "model_id": "7cc27a55626c4e939639b1b951971f18",
       "version_major": 2,
       "version_minor": 0
      },
      "text/plain": [
       "HBox(children=(IntProgress(value=0, max=5), HTML(value='')))"
      ]
     },
     "metadata": {},
     "output_type": "display_data"
    },
    {
     "name": "stdout",
     "output_type": "stream",
     "text": [
      "LEARNING RATE 0.1\n",
      "---------------\n"
     ]
    },
    {
     "data": {
      "application/vnd.jupyter.widget-view+json": {
       "model_id": "beeeb7c2e5f4423c9ea04b7b1b9ddff9",
       "version_major": 2,
       "version_minor": 0
      },
      "text/plain": [
       "HBox(children=(IntProgress(value=0, max=20), HTML(value='')))"
      ]
     },
     "metadata": {},
     "output_type": "display_data"
    },
    {
     "data": {
      "application/vnd.jupyter.widget-view+json": {
       "model_id": "9f751902101d41c796e5b9c11eed0fb3",
       "version_major": 2,
       "version_minor": 0
      },
      "text/plain": [
       "HBox(children=(IntProgress(value=0, max=19099), HTML(value='')))"
      ]
     },
     "metadata": {},
     "output_type": "display_data"
    },
    {
     "name": "stdout",
     "output_type": "stream",
     "text": [
      "  Epoch   1 : loss = 1445.78822118 | training error = 0.2735842644780531 | validation error = 0.28701784337138453\n"
     ]
    },
    {
     "data": {
      "application/vnd.jupyter.widget-view+json": {
       "model_id": "5e72d6a828b2410eb1ce9163f1ecadc6",
       "version_major": 2,
       "version_minor": 0
      },
      "text/plain": [
       "HBox(children=(IntProgress(value=0, max=19099), HTML(value='')))"
      ]
     },
     "metadata": {},
     "output_type": "display_data"
    },
    {
     "name": "stdout",
     "output_type": "stream",
     "text": [
      "  Epoch   2 : loss = 1431.40584898 | training error = 0.27355657040836895 | validation error = 0.28699476187621104\n"
     ]
    },
    {
     "data": {
      "application/vnd.jupyter.widget-view+json": {
       "model_id": "9d1a6c8b2b2b4f8e8d5499768df6c651",
       "version_major": 2,
       "version_minor": 0
      },
      "text/plain": [
       "HBox(children=(IntProgress(value=0, max=19099), HTML(value='')))"
      ]
     },
     "metadata": {},
     "output_type": "display_data"
    },
    {
     "name": "stdout",
     "output_type": "stream",
     "text": [
      "  Epoch   3 : loss = 1431.10491145 | training error = 0.2735413946830359 | validation error = 0.28697892986994006\n"
     ]
    },
    {
     "data": {
      "application/vnd.jupyter.widget-view+json": {
       "model_id": "98b70b71947a40e9b8fbaf20891f816d",
       "version_major": 2,
       "version_minor": 0
      },
      "text/plain": [
       "HBox(children=(IntProgress(value=0, max=19099), HTML(value='')))"
      ]
     },
     "metadata": {},
     "output_type": "display_data"
    },
    {
     "name": "stdout",
     "output_type": "stream",
     "text": [
      "  Epoch   4 : loss = 1430.88922130 | training error = 0.27353173641163137 | validation error = 0.286967966138931\n"
     ]
    },
    {
     "data": {
      "application/vnd.jupyter.widget-view+json": {
       "model_id": "130ad8d4dd294fea966740260ead00be",
       "version_major": 2,
       "version_minor": 0
      },
      "text/plain": [
       "HBox(children=(IntProgress(value=0, max=19099), HTML(value='')))"
      ]
     },
     "metadata": {},
     "output_type": "display_data"
    },
    {
     "name": "stdout",
     "output_type": "stream",
     "text": [
      "  Epoch   5 : loss = 1430.72391801 | training error = 0.27352556923531385 | validation error = 0.286960688440189\n"
     ]
    },
    {
     "data": {
      "application/vnd.jupyter.widget-view+json": {
       "model_id": "10f19ff615fd4aa885e54e7e31762740",
       "version_major": 2,
       "version_minor": 0
      },
      "text/plain": [
       "HBox(children=(IntProgress(value=0, max=19099), HTML(value='')))"
      ]
     },
     "metadata": {},
     "output_type": "display_data"
    },
    {
     "name": "stdout",
     "output_type": "stream",
     "text": [
      "  Epoch   6 : loss = 1430.59407196 | training error = 0.2735217379857685 | validation error = 0.28695604843742256\n"
     ]
    },
    {
     "data": {
      "application/vnd.jupyter.widget-view+json": {
       "model_id": "a148e15b9494458dbf0de31c067d444e",
       "version_major": 2,
       "version_minor": 0
      },
      "text/plain": [
       "HBox(children=(IntProgress(value=0, max=19099), HTML(value='')))"
      ]
     },
     "metadata": {},
     "output_type": "display_data"
    },
    {
     "name": "stdout",
     "output_type": "stream",
     "text": [
      "  Epoch   7 : loss = 1430.49009847 | training error = 0.2735194907592941 | validation error = 0.28695325163556523\n"
     ]
    },
    {
     "data": {
      "application/vnd.jupyter.widget-view+json": {
       "model_id": "6f78f356b5e84f3fac233bd48b721332",
       "version_major": 2,
       "version_minor": 0
      },
      "text/plain": [
       "HBox(children=(IntProgress(value=0, max=19099), HTML(value='')))"
      ]
     },
     "metadata": {},
     "output_type": "display_data"
    },
    {
     "name": "stdout",
     "output_type": "stream",
     "text": [
      "  Epoch   8 : loss = 1430.40536902 | training error = 0.2735183248847393 | validation error = 0.2869517429674855\n"
     ]
    },
    {
     "data": {
      "application/vnd.jupyter.widget-view+json": {
       "model_id": "f13794c898354854812f01825404baed",
       "version_major": 2,
       "version_minor": 0
      },
      "text/plain": [
       "HBox(children=(IntProgress(value=0, max=19099), HTML(value='')))"
      ]
     },
     "metadata": {},
     "output_type": "display_data"
    },
    {
     "name": "stdout",
     "output_type": "stream",
     "text": [
      "  Epoch   9 : loss = 1430.33521577 | training error = 0.2735179004561348 | validation error = 0.2869511315969922\n"
     ]
    },
    {
     "data": {
      "application/vnd.jupyter.widget-view+json": {
       "model_id": "de0710c427904d6283dfef42a93005d8",
       "version_major": 2,
       "version_minor": 0
      },
      "text/plain": [
       "HBox(children=(IntProgress(value=0, max=19099), HTML(value='')))"
      ]
     },
     "metadata": {},
     "output_type": "display_data"
    },
    {
     "name": "stdout",
     "output_type": "stream",
     "text": [
      "  Epoch  10 : loss = 1430.27627572 | training error = 0.27351798734702254 | validation error = 0.2869511422751701\n"
     ]
    },
    {
     "data": {
      "application/vnd.jupyter.widget-view+json": {
       "model_id": "ca862b73dbda494cbe3d7db3420e3cc8",
       "version_major": 2,
       "version_minor": 0
      },
      "text/plain": [
       "HBox(children=(IntProgress(value=0, max=19099), HTML(value='')))"
      ]
     },
     "metadata": {},
     "output_type": "display_data"
    },
    {
     "name": "stdout",
     "output_type": "stream",
     "text": [
      "  Epoch  11 : loss = 1430.22608302 | training error = 0.2735184284602955 | validation error = 0.28695158673883986\n"
     ]
    },
    {
     "data": {
      "application/vnd.jupyter.widget-view+json": {
       "model_id": "2004c32f4a1942af97940df6bd76e148",
       "version_major": 2,
       "version_minor": 0
      },
      "text/plain": [
       "HBox(children=(IntProgress(value=0, max=19099), HTML(value='')))"
      ]
     },
     "metadata": {},
     "output_type": "display_data"
    },
    {
     "name": "stdout",
     "output_type": "stream",
     "text": [
      "  Epoch  12 : loss = 1430.18281809 | training error = 0.2735191160609869 | validation error = 0.28695232978036045\n"
     ]
    },
    {
     "data": {
      "application/vnd.jupyter.widget-view+json": {
       "model_id": "11335bb7321a4dc5b1934c0346c3dd70",
       "version_major": 2,
       "version_minor": 0
      },
      "text/plain": [
       "HBox(children=(IntProgress(value=0, max=19099), HTML(value='')))"
      ]
     },
     "metadata": {},
     "output_type": "display_data"
    },
    {
     "name": "stdout",
     "output_type": "stream",
     "text": [
      "  Epoch  13 : loss = 1430.14510322 | training error = 0.2735199767794534 | validation error = 0.28695327929234427\n"
     ]
    },
    {
     "data": {
      "application/vnd.jupyter.widget-view+json": {
       "model_id": "e795b1c4da0645d18e795216bebb1e7d",
       "version_major": 2,
       "version_minor": 0
      },
      "text/plain": [
       "HBox(children=(IntProgress(value=0, max=19099), HTML(value='')))"
      ]
     },
     "metadata": {},
     "output_type": "display_data"
    },
    {
     "name": "stdout",
     "output_type": "stream",
     "text": [
      "  Epoch  14 : loss = 1430.11189015 | training error = 0.27352095903470225 | validation error = 0.2869543616943953\n"
     ]
    },
    {
     "data": {
      "application/vnd.jupyter.widget-view+json": {
       "model_id": "10f6a5ce0ba0471dbcc1bf599f06c214",
       "version_major": 2,
       "version_minor": 0
      },
      "text/plain": [
       "HBox(children=(IntProgress(value=0, max=19099), HTML(value='')))"
      ]
     },
     "metadata": {},
     "output_type": "display_data"
    },
    {
     "name": "stdout",
     "output_type": "stream",
     "text": [
      "  Epoch  15 : loss = 1430.08237192 | training error = 0.2735220271052608 | validation error = 0.2869555377917853\n"
     ]
    },
    {
     "data": {
      "application/vnd.jupyter.widget-view+json": {
       "model_id": "f384c87c309a420ebefee325a4de48f4",
       "version_major": 2,
       "version_minor": 0
      },
      "text/plain": [
       "HBox(children=(IntProgress(value=0, max=19099), HTML(value='')))"
      ]
     },
     "metadata": {},
     "output_type": "display_data"
    },
    {
     "name": "stdout",
     "output_type": "stream",
     "text": [
      "  Epoch  16 : loss = 1430.05592361 | training error = 0.27352315570778707 | validation error = 0.2869567688341499\n"
     ]
    },
    {
     "data": {
      "application/vnd.jupyter.widget-view+json": {
       "model_id": "6033f967c54b453ca34a4136a5649d16",
       "version_major": 2,
       "version_minor": 0
      },
      "text/plain": [
       "HBox(children=(IntProgress(value=0, max=19099), HTML(value='')))"
      ]
     },
     "metadata": {},
     "output_type": "display_data"
    },
    {
     "name": "stdout",
     "output_type": "stream",
     "text": [
      "  Epoch  17 : loss = 1430.03204178 | training error = 0.27352432580154673 | validation error = 0.28695804002670655\n"
     ]
    },
    {
     "data": {
      "application/vnd.jupyter.widget-view+json": {
       "model_id": "40589a3b7b65418b97ebbb238d8f98ac",
       "version_major": 2,
       "version_minor": 0
      },
      "text/plain": [
       "HBox(children=(IntProgress(value=0, max=19099), HTML(value='')))"
      ]
     },
     "metadata": {},
     "output_type": "display_data"
    },
    {
     "name": "stdout",
     "output_type": "stream",
     "text": [
      "  Epoch  18 : loss = 1430.01033886 | training error = 0.2735255256935881 | validation error = 0.2869593157512943\n"
     ]
    },
    {
     "data": {
      "application/vnd.jupyter.widget-view+json": {
       "model_id": "db4572e377e445ce96deb2f8dce421c2",
       "version_major": 2,
       "version_minor": 0
      },
      "text/plain": [
       "HBox(children=(IntProgress(value=0, max=19099), HTML(value='')))"
      ]
     },
     "metadata": {},
     "output_type": "display_data"
    },
    {
     "name": "stdout",
     "output_type": "stream",
     "text": [
      "  Epoch  19 : loss = 1429.99049106 | training error = 0.2735267441193741 | validation error = 0.28696059890992204\n"
     ]
    },
    {
     "data": {
      "application/vnd.jupyter.widget-view+json": {
       "model_id": "0aee7090af684c66a770d51a3505b516",
       "version_major": 2,
       "version_minor": 0
      },
      "text/plain": [
       "HBox(children=(IntProgress(value=0, max=19099), HTML(value='')))"
      ]
     },
     "metadata": {},
     "output_type": "display_data"
    },
    {
     "name": "stdout",
     "output_type": "stream",
     "text": [
      "  Epoch  20 : loss = 1429.97224974 | training error = 0.2735279730432755 | validation error = 0.2869618812361698\n",
      "==============================\n",
      "LEARNING RATE 0.05\n",
      "---------------\n"
     ]
    },
    {
     "data": {
      "application/vnd.jupyter.widget-view+json": {
       "model_id": "4b270bd57d784b3fa9b0da4b4325702e",
       "version_major": 2,
       "version_minor": 0
      },
      "text/plain": [
       "HBox(children=(IntProgress(value=0, max=20), HTML(value='')))"
      ]
     },
     "metadata": {},
     "output_type": "display_data"
    },
    {
     "data": {
      "application/vnd.jupyter.widget-view+json": {
       "model_id": "5775c27cc7424472870da3278af9d976",
       "version_major": 2,
       "version_minor": 0
      },
      "text/plain": [
       "HBox(children=(IntProgress(value=0, max=19099), HTML(value='')))"
      ]
     },
     "metadata": {},
     "output_type": "display_data"
    },
    {
     "name": "stdout",
     "output_type": "stream",
     "text": [
      "  Epoch   1 : loss = 1457.37112691 | training error = 0.2735319234833982 | validation error = 0.28697212295186786\n"
     ]
    },
    {
     "data": {
      "application/vnd.jupyter.widget-view+json": {
       "model_id": "bcd7f7a8a15846839a84313ed98ada47",
       "version_major": 2,
       "version_minor": 0
      },
      "text/plain": [
       "HBox(children=(IntProgress(value=0, max=19099), HTML(value='')))"
      ]
     },
     "metadata": {},
     "output_type": "display_data"
    },
    {
     "name": "stdout",
     "output_type": "stream",
     "text": [
      "  Epoch   2 : loss = 1430.37240578 | training error = 0.2735143282758484 | validation error = 0.2869589851521475\n"
     ]
    },
    {
     "data": {
      "application/vnd.jupyter.widget-view+json": {
       "model_id": "3ad0c1fd59fe4fc3885f4c6727607001",
       "version_major": 2,
       "version_minor": 0
      },
      "text/plain": [
       "HBox(children=(IntProgress(value=0, max=19099), HTML(value='')))"
      ]
     },
     "metadata": {},
     "output_type": "display_data"
    },
    {
     "name": "stdout",
     "output_type": "stream",
     "text": [
      "  Epoch   3 : loss = 1430.24489807 | training error = 0.273511198397371 | validation error = 0.2869558736908385\n"
     ]
    },
    {
     "data": {
      "application/vnd.jupyter.widget-view+json": {
       "model_id": "6277b1f7cb6645dfb494eaa2901d4e34",
       "version_major": 2,
       "version_minor": 0
      },
      "text/plain": [
       "HBox(children=(IntProgress(value=0, max=19099), HTML(value='')))"
      ]
     },
     "metadata": {},
     "output_type": "display_data"
    },
    {
     "name": "stdout",
     "output_type": "stream",
     "text": [
      "  Epoch   4 : loss = 1430.18062930 | training error = 0.2735103112423374 | validation error = 0.28695529886361515\n"
     ]
    },
    {
     "data": {
      "application/vnd.jupyter.widget-view+json": {
       "model_id": "96f6f21645994073a5fc811cd991c43f",
       "version_major": 2,
       "version_minor": 0
      },
      "text/plain": [
       "HBox(children=(IntProgress(value=0, max=19099), HTML(value='')))"
      ]
     },
     "metadata": {},
     "output_type": "display_data"
    },
    {
     "name": "stdout",
     "output_type": "stream",
     "text": [
      "  Epoch   5 : loss = 1430.13064127 | training error = 0.2735101293226819 | validation error = 0.28695534652058763\n"
     ]
    },
    {
     "data": {
      "application/vnd.jupyter.widget-view+json": {
       "model_id": "6c7fe999bc2c444ba292c40b10e336fa",
       "version_major": 2,
       "version_minor": 0
      },
      "text/plain": [
       "HBox(children=(IntProgress(value=0, max=19099), HTML(value='')))"
      ]
     },
     "metadata": {},
     "output_type": "display_data"
    },
    {
     "name": "stdout",
     "output_type": "stream",
     "text": [
      "  Epoch   6 : loss = 1430.08667076 | training error = 0.27351026190305555 | validation error = 0.2869555824103116\n"
     ]
    },
    {
     "data": {
      "application/vnd.jupyter.widget-view+json": {
       "model_id": "e337ff91669c4aebb120351daa6969ef",
       "version_major": 2,
       "version_minor": 0
      },
      "text/plain": [
       "HBox(children=(IntProgress(value=0, max=19099), HTML(value='')))"
      ]
     },
     "metadata": {},
     "output_type": "display_data"
    },
    {
     "name": "stdout",
     "output_type": "stream",
     "text": [
      "  Epoch   7 : loss = 1430.04657525 | training error = 0.27351058013215795 | validation error = 0.2869559413871062\n"
     ]
    },
    {
     "data": {
      "application/vnd.jupyter.widget-view+json": {
       "model_id": "1a24b55bdd8c40c293b5c1c54c5e5d9f",
       "version_major": 2,
       "version_minor": 0
      },
      "text/plain": [
       "HBox(children=(IntProgress(value=0, max=19099), HTML(value='')))"
      ]
     },
     "metadata": {},
     "output_type": "display_data"
    },
    {
     "name": "stdout",
     "output_type": "stream",
     "text": [
      "  Epoch   8 : loss = 1430.00961199 | training error = 0.273511024047588 | validation error = 0.28695640431465474\n"
     ]
    },
    {
     "data": {
      "application/vnd.jupyter.widget-view+json": {
       "model_id": "f6bea61f1fd348fea40ebd77385a52b5",
       "version_major": 2,
       "version_minor": 0
      },
      "text/plain": [
       "HBox(children=(IntProgress(value=0, max=19099), HTML(value='')))"
      ]
     },
     "metadata": {},
     "output_type": "display_data"
    },
    {
     "name": "stdout",
     "output_type": "stream",
     "text": [
      "  Epoch   9 : loss = 1429.97539697 | training error = 0.2735115548295155 | validation error = 0.28695697830686456\n"
     ]
    },
    {
     "data": {
      "application/vnd.jupyter.widget-view+json": {
       "model_id": "d81ac4d5cab1498584773288b738b3d8",
       "version_major": 2,
       "version_minor": 0
      },
      "text/plain": [
       "HBox(children=(IntProgress(value=0, max=19099), HTML(value='')))"
      ]
     },
     "metadata": {},
     "output_type": "display_data"
    },
    {
     "name": "stdout",
     "output_type": "stream",
     "text": [
      "  Epoch  10 : loss = 1429.94365246 | training error = 0.27351214449025946 | validation error = 0.28695764988859607\n"
     ]
    },
    {
     "data": {
      "application/vnd.jupyter.widget-view+json": {
       "model_id": "42a2eda772044cfaacb2f3e6dd106590",
       "version_major": 2,
       "version_minor": 0
      },
      "text/plain": [
       "HBox(children=(IntProgress(value=0, max=19099), HTML(value='')))"
      ]
     },
     "metadata": {},
     "output_type": "display_data"
    },
    {
     "name": "stdout",
     "output_type": "stream",
     "text": [
      "  Epoch  11 : loss = 1429.91414919 | training error = 0.2735127730897266 | validation error = 0.2869583933741471\n"
     ]
    },
    {
     "data": {
      "application/vnd.jupyter.widget-view+json": {
       "model_id": "641d0c7fbbd746bdaafcded17912e174",
       "version_major": 2,
       "version_minor": 0
      },
      "text/plain": [
       "HBox(children=(IntProgress(value=0, max=19099), HTML(value='')))"
      ]
     },
     "metadata": {},
     "output_type": "display_data"
    },
    {
     "name": "stdout",
     "output_type": "stream",
     "text": [
      "  Epoch  12 : loss = 1429.88668480 | training error = 0.27351342153486025 | validation error = 0.2869592061286875\n"
     ]
    },
    {
     "data": {
      "application/vnd.jupyter.widget-view+json": {
       "model_id": "404575ee3c614e629f1e88a82bd10b80",
       "version_major": 2,
       "version_minor": 0
      },
      "text/plain": [
       "HBox(children=(IntProgress(value=0, max=19099), HTML(value='')))"
      ]
     },
     "metadata": {},
     "output_type": "display_data"
    },
    {
     "name": "stdout",
     "output_type": "stream",
     "text": [
      "  Epoch  13 : loss = 1429.86108067 | training error = 0.27351407627092805 | validation error = 0.2869600698578792\n"
     ]
    },
    {
     "data": {
      "application/vnd.jupyter.widget-view+json": {
       "model_id": "f9fefaa2515d413daeeb9648f3a9cf0c",
       "version_major": 2,
       "version_minor": 0
      },
      "text/plain": [
       "HBox(children=(IntProgress(value=0, max=19099), HTML(value='')))"
      ]
     },
     "metadata": {},
     "output_type": "display_data"
    },
    {
     "name": "stdout",
     "output_type": "stream",
     "text": [
      "  Epoch  14 : loss = 1429.83717190 | training error = 0.27351472793963627 | validation error = 0.28696096835948315\n"
     ]
    },
    {
     "data": {
      "application/vnd.jupyter.widget-view+json": {
       "model_id": "7a7b83c45fd04ee399f891fd22ac2238",
       "version_major": 2,
       "version_minor": 0
      },
      "text/plain": [
       "HBox(children=(IntProgress(value=0, max=19099), HTML(value='')))"
      ]
     },
     "metadata": {},
     "output_type": "display_data"
    },
    {
     "name": "stdout",
     "output_type": "stream",
     "text": [
      "  Epoch  15 : loss = 1429.81481786 | training error = 0.27351536620481953 | validation error = 0.2869618971227278\n"
     ]
    },
    {
     "data": {
      "application/vnd.jupyter.widget-view+json": {
       "model_id": "97ff94595d2643c7838db61f69329e52",
       "version_major": 2,
       "version_minor": 0
      },
      "text/plain": [
       "HBox(children=(IntProgress(value=0, max=19099), HTML(value='')))"
      ]
     },
     "metadata": {},
     "output_type": "display_data"
    },
    {
     "name": "stdout",
     "output_type": "stream",
     "text": [
      "  Epoch  16 : loss = 1429.79388808 | training error = 0.2735159847864795 | validation error = 0.28696284654867943\n"
     ]
    },
    {
     "data": {
      "application/vnd.jupyter.widget-view+json": {
       "model_id": "967e0ded57404ec994dc9640e1aec1f8",
       "version_major": 2,
       "version_minor": 0
      },
      "text/plain": [
       "HBox(children=(IntProgress(value=0, max=19099), HTML(value='')))"
      ]
     },
     "metadata": {},
     "output_type": "display_data"
    },
    {
     "name": "stdout",
     "output_type": "stream",
     "text": [
      "  Epoch  17 : loss = 1429.77427231 | training error = 0.27351658109203675 | validation error = 0.2869637958627435\n"
     ]
    },
    {
     "data": {
      "application/vnd.jupyter.widget-view+json": {
       "model_id": "13b4870e2f05454fbe6686dc8e49d663",
       "version_major": 2,
       "version_minor": 0
      },
      "text/plain": [
       "HBox(children=(IntProgress(value=0, max=19099), HTML(value='')))"
      ]
     },
     "metadata": {},
     "output_type": "display_data"
    },
    {
     "name": "stdout",
     "output_type": "stream",
     "text": [
      "  Epoch  18 : loss = 1429.75585477 | training error = 0.2735171495402234 | validation error = 0.28696475665791954\n"
     ]
    },
    {
     "data": {
      "application/vnd.jupyter.widget-view+json": {
       "model_id": "4f449c214ac740e782402f115db038a5",
       "version_major": 2,
       "version_minor": 0
      },
      "text/plain": [
       "HBox(children=(IntProgress(value=0, max=19099), HTML(value='')))"
      ]
     },
     "metadata": {},
     "output_type": "display_data"
    },
    {
     "name": "stdout",
     "output_type": "stream",
     "text": [
      "  Epoch  19 : loss = 1429.73853294 | training error = 0.27351768885524125 | validation error = 0.2869657103532175\n"
     ]
    },
    {
     "data": {
      "application/vnd.jupyter.widget-view+json": {
       "model_id": "396391d3284740b39ec4463629d74b29",
       "version_major": 2,
       "version_minor": 0
      },
      "text/plain": [
       "HBox(children=(IntProgress(value=0, max=19099), HTML(value='')))"
      ]
     },
     "metadata": {},
     "output_type": "display_data"
    },
    {
     "name": "stdout",
     "output_type": "stream",
     "text": [
      "  Epoch  20 : loss = 1429.72223583 | training error = 0.27351819831247165 | validation error = 0.28696665173215163\n",
      "==============================\n",
      "LEARNING RATE 0.01\n",
      "---------------\n"
     ]
    },
    {
     "data": {
      "application/vnd.jupyter.widget-view+json": {
       "model_id": "37a213ae6a144d9bba6fa0d496788028",
       "version_major": 2,
       "version_minor": 0
      },
      "text/plain": [
       "HBox(children=(IntProgress(value=0, max=20), HTML(value='')))"
      ]
     },
     "metadata": {},
     "output_type": "display_data"
    },
    {
     "data": {
      "application/vnd.jupyter.widget-view+json": {
       "model_id": "295fdec403414dbab125e2ee25f53ee7",
       "version_major": 2,
       "version_minor": 0
      },
      "text/plain": [
       "HBox(children=(IntProgress(value=0, max=19099), HTML(value='')))"
      ]
     },
     "metadata": {},
     "output_type": "display_data"
    },
    {
     "name": "stdout",
     "output_type": "stream",
     "text": [
      "  Epoch   1 : loss = 1515.31300167 | training error = 0.27388336045037404 | validation error = 0.2869440715009646\n"
     ]
    },
    {
     "data": {
      "application/vnd.jupyter.widget-view+json": {
       "model_id": "0ebf61d2e62949cdb0b84e0bf5dfe799",
       "version_major": 2,
       "version_minor": 0
      },
      "text/plain": [
       "HBox(children=(IntProgress(value=0, max=19099), HTML(value='')))"
      ]
     },
     "metadata": {},
     "output_type": "display_data"
    },
    {
     "name": "stdout",
     "output_type": "stream",
     "text": [
      "  Epoch   2 : loss = 1431.40147187 | training error = 0.2736611391964851 | validation error = 0.28703602608299733\n"
     ]
    },
    {
     "data": {
      "application/vnd.jupyter.widget-view+json": {
       "model_id": "8a9f909d97f140f68ebfb81c08c41b3f",
       "version_major": 2,
       "version_minor": 0
      },
      "text/plain": [
       "HBox(children=(IntProgress(value=0, max=19099), HTML(value='')))"
      ]
     },
     "metadata": {},
     "output_type": "display_data"
    },
    {
     "name": "stdout",
     "output_type": "stream",
     "text": [
      "  Epoch   3 : loss = 1430.11378916 | training error = 0.2735845389045183 | validation error = 0.28701548777482494\n"
     ]
    },
    {
     "data": {
      "application/vnd.jupyter.widget-view+json": {
       "model_id": "77801bafdbcf4f5299c858347cfe2daa",
       "version_major": 2,
       "version_minor": 0
      },
      "text/plain": [
       "HBox(children=(IntProgress(value=0, max=19099), HTML(value='')))"
      ]
     },
     "metadata": {},
     "output_type": "display_data"
    },
    {
     "name": "stdout",
     "output_type": "stream",
     "text": [
      "  Epoch   4 : loss = 1429.56105448 | training error = 0.2735487478179251 | validation error = 0.2870068688237367\n"
     ]
    },
    {
     "data": {
      "application/vnd.jupyter.widget-view+json": {
       "model_id": "69adfd63fd0d495c9949f0e6f99a5fe8",
       "version_major": 2,
       "version_minor": 0
      },
      "text/plain": [
       "HBox(children=(IntProgress(value=0, max=19099), HTML(value='')))"
      ]
     },
     "metadata": {},
     "output_type": "display_data"
    },
    {
     "name": "stdout",
     "output_type": "stream",
     "text": [
      "  Epoch   5 : loss = 1429.30052776 | training error = 0.27353162065102843 | validation error = 0.28700687453080703\n"
     ]
    },
    {
     "data": {
      "application/vnd.jupyter.widget-view+json": {
       "model_id": "aff4878be9a34e54902322bcd309cacb",
       "version_major": 2,
       "version_minor": 0
      },
      "text/plain": [
       "HBox(children=(IntProgress(value=0, max=19099), HTML(value='')))"
      ]
     },
     "metadata": {},
     "output_type": "display_data"
    },
    {
     "name": "stdout",
     "output_type": "stream",
     "text": [
      "  Epoch   6 : loss = 1429.17554612 | training error = 0.2735233004568379 | validation error = 0.2870098222658209\n"
     ]
    },
    {
     "data": {
      "application/vnd.jupyter.widget-view+json": {
       "model_id": "972f89cfc6a744ccb39b050d70ad5f6f",
       "version_major": 2,
       "version_minor": 0
      },
      "text/plain": [
       "HBox(children=(IntProgress(value=0, max=19099), HTML(value='')))"
      ]
     },
     "metadata": {},
     "output_type": "display_data"
    },
    {
     "name": "stdout",
     "output_type": "stream",
     "text": [
      "  Epoch   7 : loss = 1429.11472022 | training error = 0.2735191956227819 | validation error = 0.28701331444390726\n"
     ]
    },
    {
     "data": {
      "application/vnd.jupyter.widget-view+json": {
       "model_id": "d540230d81d246b8b4b5b0c1d23e8828",
       "version_major": 2,
       "version_minor": 0
      },
      "text/plain": [
       "HBox(children=(IntProgress(value=0, max=19099), HTML(value='')))"
      ]
     },
     "metadata": {},
     "output_type": "display_data"
    },
    {
     "name": "stdout",
     "output_type": "stream",
     "text": [
      "  Epoch   8 : loss = 1429.08459681 | training error = 0.2735171337098601 | validation error = 0.2870164762037161\n"
     ]
    },
    {
     "data": {
      "application/vnd.jupyter.widget-view+json": {
       "model_id": "344e94d7c1ab4afabcff26cf4c373cb3",
       "version_major": 2,
       "version_minor": 0
      },
      "text/plain": [
       "HBox(children=(IntProgress(value=0, max=19099), HTML(value='')))"
      ]
     },
     "metadata": {},
     "output_type": "display_data"
    },
    {
     "name": "stdout",
     "output_type": "stream",
     "text": [
      "  Epoch   9 : loss = 1429.06931913 | training error = 0.273516069768546 | validation error = 0.28701909315243374\n"
     ]
    },
    {
     "data": {
      "application/vnd.jupyter.widget-view+json": {
       "model_id": "06ace9e0f3314a2f9b0756a4c9200e56",
       "version_major": 2,
       "version_minor": 0
      },
      "text/plain": [
       "HBox(children=(IntProgress(value=0, max=19099), HTML(value='')))"
      ]
     },
     "metadata": {},
     "output_type": "display_data"
    },
    {
     "name": "stdout",
     "output_type": "stream",
     "text": [
      "  Epoch  10 : loss = 1429.06128793 | training error = 0.2735155020023335 | validation error = 0.2870211538817168\n"
     ]
    },
    {
     "data": {
      "application/vnd.jupyter.widget-view+json": {
       "model_id": "262fefc401b64ac892943cd4e870eeb5",
       "version_major": 2,
       "version_minor": 0
      },
      "text/plain": [
       "HBox(children=(IntProgress(value=0, max=19099), HTML(value='')))"
      ]
     },
     "metadata": {},
     "output_type": "display_data"
    },
    {
     "name": "stdout",
     "output_type": "stream",
     "text": [
      "  Epoch  11 : loss = 1429.05683980 | training error = 0.27351518250930634 | validation error = 0.28702276276954436\n"
     ]
    },
    {
     "data": {
      "application/vnd.jupyter.widget-view+json": {
       "model_id": "deb04e073fb544b99efed0d44138be8f",
       "version_major": 2,
       "version_minor": 0
      },
      "text/plain": [
       "HBox(children=(IntProgress(value=0, max=19099), HTML(value='')))"
      ]
     },
     "metadata": {},
     "output_type": "display_data"
    },
    {
     "name": "stdout",
     "output_type": "stream",
     "text": [
      "  Epoch  12 : loss = 1429.05418481 | training error = 0.2735149931788274 | validation error = 0.28702399516864535\n"
     ]
    },
    {
     "data": {
      "application/vnd.jupyter.widget-view+json": {
       "model_id": "f9fa9ea00de24f2fa98b5a9e0e38d74f",
       "version_major": 2,
       "version_minor": 0
      },
      "text/plain": [
       "HBox(children=(IntProgress(value=0, max=19099), HTML(value='')))"
      ]
     },
     "metadata": {},
     "output_type": "display_data"
    },
    {
     "name": "stdout",
     "output_type": "stream",
     "text": [
      "  Epoch  13 : loss = 1429.05246718 | training error = 0.27351487024639737 | validation error = 0.28702494934044065\n"
     ]
    },
    {
     "data": {
      "application/vnd.jupyter.widget-view+json": {
       "model_id": "b44c1700934a4814a993158a7ac060de",
       "version_major": 2,
       "version_minor": 0
      },
      "text/plain": [
       "HBox(children=(IntProgress(value=0, max=19099), HTML(value='')))"
      ]
     },
     "metadata": {},
     "output_type": "display_data"
    },
    {
     "name": "stdout",
     "output_type": "stream",
     "text": [
      "  Epoch  14 : loss = 1429.05124478 | training error = 0.273514785507702 | validation error = 0.2870256997469285\n"
     ]
    },
    {
     "data": {
      "application/vnd.jupyter.widget-view+json": {
       "model_id": "d64a78468f304999a3f0755f6b21e1b2",
       "version_major": 2,
       "version_minor": 0
      },
      "text/plain": [
       "HBox(children=(IntProgress(value=0, max=19099), HTML(value='')))"
      ]
     },
     "metadata": {},
     "output_type": "display_data"
    },
    {
     "name": "stdout",
     "output_type": "stream",
     "text": [
      "  Epoch  15 : loss = 1429.05029103 | training error = 0.27351472118311565 | validation error = 0.287026290272704\n"
     ]
    },
    {
     "data": {
      "application/vnd.jupyter.widget-view+json": {
       "model_id": "e30bda22abe74336b8f5961d0fe33374",
       "version_major": 2,
       "version_minor": 0
      },
      "text/plain": [
       "HBox(children=(IntProgress(value=0, max=19099), HTML(value='')))"
      ]
     },
     "metadata": {},
     "output_type": "display_data"
    },
    {
     "name": "stdout",
     "output_type": "stream",
     "text": [
      "  Epoch  16 : loss = 1429.04949331 | training error = 0.2735146703300864 | validation error = 0.28702676195603943\n"
     ]
    },
    {
     "data": {
      "application/vnd.jupyter.widget-view+json": {
       "model_id": "efcf36306a824b08a6b57f77dcd51c18",
       "version_major": 2,
       "version_minor": 0
      },
      "text/plain": [
       "HBox(children=(IntProgress(value=0, max=19099), HTML(value='')))"
      ]
     },
     "metadata": {},
     "output_type": "display_data"
    },
    {
     "name": "stdout",
     "output_type": "stream",
     "text": [
      "  Epoch  17 : loss = 1429.04879342 | training error = 0.27351462735733373 | validation error = 0.28702714696681425\n"
     ]
    },
    {
     "data": {
      "application/vnd.jupyter.widget-view+json": {
       "model_id": "17c7a4a268f04661923eb05d534b7d17",
       "version_major": 2,
       "version_minor": 0
      },
      "text/plain": [
       "HBox(children=(IntProgress(value=0, max=19099), HTML(value='')))"
      ]
     },
     "metadata": {},
     "output_type": "display_data"
    },
    {
     "name": "stdout",
     "output_type": "stream",
     "text": [
      "  Epoch  18 : loss = 1429.04815891 | training error = 0.2735145889388649 | validation error = 0.28702746153002356\n"
     ]
    },
    {
     "data": {
      "application/vnd.jupyter.widget-view+json": {
       "model_id": "a0cec20915d74567be1141c7f6f2ad94",
       "version_major": 2,
       "version_minor": 0
      },
      "text/plain": [
       "HBox(children=(IntProgress(value=0, max=19099), HTML(value='')))"
      ]
     },
     "metadata": {},
     "output_type": "display_data"
    },
    {
     "name": "stdout",
     "output_type": "stream",
     "text": [
      "  Epoch  19 : loss = 1429.04755926 | training error = 0.2735145539765079 | validation error = 0.28702772846862945\n"
     ]
    },
    {
     "data": {
      "application/vnd.jupyter.widget-view+json": {
       "model_id": "6eec9bebeef740a1a0d4a0f8fb9e2529",
       "version_major": 2,
       "version_minor": 0
      },
      "text/plain": [
       "HBox(children=(IntProgress(value=0, max=19099), HTML(value='')))"
      ]
     },
     "metadata": {},
     "output_type": "display_data"
    },
    {
     "name": "stdout",
     "output_type": "stream",
     "text": [
      "  Epoch  20 : loss = 1429.04699918 | training error = 0.2735145215213818 | validation error = 0.287027958964532\n",
      "==============================\n",
      "LEARNING RATE 0.005\n",
      "---------------\n"
     ]
    },
    {
     "data": {
      "application/vnd.jupyter.widget-view+json": {
       "model_id": "d068499221aa4f6b83eca2f5308c08e6",
       "version_major": 2,
       "version_minor": 0
      },
      "text/plain": [
       "HBox(children=(IntProgress(value=0, max=20), HTML(value='')))"
      ]
     },
     "metadata": {},
     "output_type": "display_data"
    },
    {
     "data": {
      "application/vnd.jupyter.widget-view+json": {
       "model_id": "e65abbaad78d4a2c81432f1cd96b217c",
       "version_major": 2,
       "version_minor": 0
      },
      "text/plain": [
       "HBox(children=(IntProgress(value=0, max=19099), HTML(value='')))"
      ]
     },
     "metadata": {},
     "output_type": "display_data"
    },
    {
     "name": "stdout",
     "output_type": "stream",
     "text": [
      "  Epoch   1 : loss = 1724.38138553 | training error = 0.28040600830976575 | validation error = 0.2921626652579098\n"
     ]
    },
    {
     "data": {
      "application/vnd.jupyter.widget-view+json": {
       "model_id": "f930487cc26c4fc5994e23648ae54cdc",
       "version_major": 2,
       "version_minor": 0
      },
      "text/plain": [
       "HBox(children=(IntProgress(value=0, max=19099), HTML(value='')))"
      ]
     },
     "metadata": {},
     "output_type": "display_data"
    },
    {
     "name": "stdout",
     "output_type": "stream",
     "text": [
      "  Epoch   2 : loss = 1453.17982636 | training error = 0.274171258652087 | validation error = 0.28705745905588687\n"
     ]
    },
    {
     "data": {
      "application/vnd.jupyter.widget-view+json": {
       "model_id": "aa6171ddf36040caa83e77a7a0ee2a46",
       "version_major": 2,
       "version_minor": 0
      },
      "text/plain": [
       "HBox(children=(IntProgress(value=0, max=19099), HTML(value='')))"
      ]
     },
     "metadata": {},
     "output_type": "display_data"
    },
    {
     "name": "stdout",
     "output_type": "stream",
     "text": [
      "  Epoch   3 : loss = 1433.41180034 | training error = 0.2738261131688147 | validation error = 0.2871254060414618\n"
     ]
    },
    {
     "data": {
      "application/vnd.jupyter.widget-view+json": {
       "model_id": "112df72a0cfb419e8a1581a2790530a9",
       "version_major": 2,
       "version_minor": 0
      },
      "text/plain": [
       "HBox(children=(IntProgress(value=0, max=19099), HTML(value='')))"
      ]
     },
     "metadata": {},
     "output_type": "display_data"
    },
    {
     "name": "stdout",
     "output_type": "stream",
     "text": [
      "  Epoch   4 : loss = 1431.53513329 | training error = 0.27371717653035105 | validation error = 0.28713176080425346\n"
     ]
    },
    {
     "data": {
      "application/vnd.jupyter.widget-view+json": {
       "model_id": "4b95d6c5244d49eea8ff7cf41630a1c0",
       "version_major": 2,
       "version_minor": 0
      },
      "text/plain": [
       "HBox(children=(IntProgress(value=0, max=19099), HTML(value='')))"
      ]
     },
     "metadata": {},
     "output_type": "display_data"
    },
    {
     "name": "stdout",
     "output_type": "stream",
     "text": [
      "  Epoch   5 : loss = 1430.64608517 | training error = 0.2736492576751024 | validation error = 0.2871060089376358\n"
     ]
    },
    {
     "data": {
      "application/vnd.jupyter.widget-view+json": {
       "model_id": "44d1eeae3cae4fa995a9413bbc3fc11a",
       "version_major": 2,
       "version_minor": 0
      },
      "text/plain": [
       "HBox(children=(IntProgress(value=0, max=19099), HTML(value='')))"
      ]
     },
     "metadata": {},
     "output_type": "display_data"
    },
    {
     "name": "stdout",
     "output_type": "stream",
     "text": [
      "  Epoch   6 : loss = 1430.06900413 | training error = 0.2736042321549875 | validation error = 0.28708317923092547\n"
     ]
    },
    {
     "data": {
      "application/vnd.jupyter.widget-view+json": {
       "model_id": "5356d024f1f74548a8cea7233424f63c",
       "version_major": 2,
       "version_minor": 0
      },
      "text/plain": [
       "HBox(children=(IntProgress(value=0, max=19099), HTML(value='')))"
      ]
     },
     "metadata": {},
     "output_type": "display_data"
    },
    {
     "name": "stdout",
     "output_type": "stream",
     "text": [
      "  Epoch   7 : loss = 1429.68481845 | training error = 0.2735740939039421 | validation error = 0.287067691985062\n"
     ]
    },
    {
     "data": {
      "application/vnd.jupyter.widget-view+json": {
       "model_id": "045949fc66894a3e8c7706bf983d54ec",
       "version_major": 2,
       "version_minor": 0
      },
      "text/plain": [
       "HBox(children=(IntProgress(value=0, max=19099), HTML(value='')))"
      ]
     },
     "metadata": {},
     "output_type": "display_data"
    },
    {
     "name": "stdout",
     "output_type": "stream",
     "text": [
      "  Epoch   8 : loss = 1429.42731237 | training error = 0.27355380180877537 | validation error = 0.2870580016565639\n"
     ]
    },
    {
     "data": {
      "application/vnd.jupyter.widget-view+json": {
       "model_id": "9b1d2e814c8b4573a12e9ff5e4d5cd75",
       "version_major": 2,
       "version_minor": 0
      },
      "text/plain": [
       "HBox(children=(IntProgress(value=0, max=19099), HTML(value='')))"
      ]
     },
     "metadata": {},
     "output_type": "display_data"
    },
    {
     "name": "stdout",
     "output_type": "stream",
     "text": [
      "  Epoch   9 : loss = 1429.25383859 | training error = 0.2735400664987046 | validation error = 0.287052157644397\n"
     ]
    },
    {
     "data": {
      "application/vnd.jupyter.widget-view+json": {
       "model_id": "ce726203da4143c8bc4bc68167e81067",
       "version_major": 2,
       "version_minor": 0
      },
      "text/plain": [
       "HBox(children=(IntProgress(value=0, max=19099), HTML(value='')))"
      ]
     },
     "metadata": {},
     "output_type": "display_data"
    },
    {
     "name": "stdout",
     "output_type": "stream",
     "text": [
      "  Epoch  10 : loss = 1429.13641210 | training error = 0.27353072582453314 | validation error = 0.2870487822083205\n"
     ]
    },
    {
     "data": {
      "application/vnd.jupyter.widget-view+json": {
       "model_id": "46d578384fe04c3895f7a18b87f52d27",
       "version_major": 2,
       "version_minor": 0
      },
      "text/plain": [
       "HBox(children=(IntProgress(value=0, max=19099), HTML(value='')))"
      ]
     },
     "metadata": {},
     "output_type": "display_data"
    },
    {
     "name": "stdout",
     "output_type": "stream",
     "text": [
      "  Epoch  11 : loss = 1429.05653017 | training error = 0.2735243342949998 | validation error = 0.2870469461343508\n"
     ]
    },
    {
     "data": {
      "application/vnd.jupyter.widget-view+json": {
       "model_id": "d36d1f5e94f94f63ad62168e37806d3f",
       "version_major": 2,
       "version_minor": 0
      },
      "text/plain": [
       "HBox(children=(IntProgress(value=0, max=19099), HTML(value='')))"
      ]
     },
     "metadata": {},
     "output_type": "display_data"
    },
    {
     "name": "stdout",
     "output_type": "stream",
     "text": [
      "  Epoch  12 : loss = 1429.00191613 | training error = 0.2735199390953674 | validation error = 0.28704601669013075\n"
     ]
    },
    {
     "data": {
      "application/vnd.jupyter.widget-view+json": {
       "model_id": "64a2cc27ccf749ab8eea33fb6a38c510",
       "version_major": 2,
       "version_minor": 0
      },
      "text/plain": [
       "HBox(children=(IntProgress(value=0, max=19099), HTML(value='')))"
      ]
     },
     "metadata": {},
     "output_type": "display_data"
    },
    {
     "name": "stdout",
     "output_type": "stream",
     "text": [
      "  Epoch  13 : loss = 1428.96434154 | training error = 0.2735168952749789 | validation error = 0.2870456383210164\n"
     ]
    },
    {
     "data": {
      "application/vnd.jupyter.widget-view+json": {
       "model_id": "2e24c3071bf24473bf65118166ea8c3e",
       "version_major": 2,
       "version_minor": 0
      },
      "text/plain": [
       "HBox(children=(IntProgress(value=0, max=19099), HTML(value='')))"
      ]
     },
     "metadata": {},
     "output_type": "display_data"
    },
    {
     "name": "stdout",
     "output_type": "stream",
     "text": [
      "  Epoch  14 : loss = 1428.93834314 | training error = 0.2735147727684455 | validation error = 0.2870455495453926\n"
     ]
    },
    {
     "data": {
      "application/vnd.jupyter.widget-view+json": {
       "model_id": "b88650f008e144168bebf9e0a6168b69",
       "version_major": 2,
       "version_minor": 0
      },
      "text/plain": [
       "HBox(children=(IntProgress(value=0, max=19099), HTML(value='')))"
      ]
     },
     "metadata": {},
     "output_type": "display_data"
    },
    {
     "name": "stdout",
     "output_type": "stream",
     "text": [
      "  Epoch  15 : loss = 1428.92019892 | training error = 0.27351327884827414 | validation error = 0.28704561816236607\n"
     ]
    },
    {
     "data": {
      "application/vnd.jupyter.widget-view+json": {
       "model_id": "bc49ad8582b84233ba2e6a39ce91a82f",
       "version_major": 2,
       "version_minor": 0
      },
      "text/plain": [
       "HBox(children=(IntProgress(value=0, max=19099), HTML(value='')))"
      ]
     },
     "metadata": {},
     "output_type": "display_data"
    },
    {
     "name": "stdout",
     "output_type": "stream",
     "text": [
      "  Epoch  16 : loss = 1428.90742964 | training error = 0.27351221704430634 | validation error = 0.2870457495435669\n"
     ]
    },
    {
     "data": {
      "application/vnd.jupyter.widget-view+json": {
       "model_id": "81f53cba3f9542edafcc93d3c0f621f4",
       "version_major": 2,
       "version_minor": 0
      },
      "text/plain": [
       "HBox(children=(IntProgress(value=0, max=19099), HTML(value='')))"
      ]
     },
     "metadata": {},
     "output_type": "display_data"
    },
    {
     "name": "stdout",
     "output_type": "stream",
     "text": [
      "  Epoch  17 : loss = 1428.89834565 | training error = 0.2735114541839929 | validation error = 0.28704589398564795\n"
     ]
    },
    {
     "data": {
      "application/vnd.jupyter.widget-view+json": {
       "model_id": "ea11f558f5674331809bbb157a886e17",
       "version_major": 2,
       "version_minor": 0
      },
      "text/plain": [
       "HBox(children=(IntProgress(value=0, max=19099), HTML(value='')))"
      ]
     },
     "metadata": {},
     "output_type": "display_data"
    },
    {
     "name": "stdout",
     "output_type": "stream",
     "text": [
      "  Epoch  18 : loss = 1428.89180668 | training error = 0.27351089935450046 | validation error = 0.2870460177680487\n"
     ]
    },
    {
     "data": {
      "application/vnd.jupyter.widget-view+json": {
       "model_id": "9c081d1d8ac5479f8eda34af30fc7416",
       "version_major": 2,
       "version_minor": 0
      },
      "text/plain": [
       "HBox(children=(IntProgress(value=0, max=19099), HTML(value='')))"
      ]
     },
     "metadata": {},
     "output_type": "display_data"
    },
    {
     "name": "stdout",
     "output_type": "stream",
     "text": [
      "  Epoch  19 : loss = 1428.88704409 | training error = 0.27351049066312566 | validation error = 0.2870460989850284\n"
     ]
    },
    {
     "data": {
      "application/vnd.jupyter.widget-view+json": {
       "model_id": "20e2e0cd20ed49f5b12230ddc3570adf",
       "version_major": 2,
       "version_minor": 0
      },
      "text/plain": [
       "HBox(children=(IntProgress(value=0, max=19099), HTML(value='')))"
      ]
     },
     "metadata": {},
     "output_type": "display_data"
    },
    {
     "name": "stdout",
     "output_type": "stream",
     "text": [
      "  Epoch  20 : loss = 1428.88351821 | training error = 0.2735101873481206 | validation error = 0.28704616949392703\n",
      "==============================\n",
      "LEARNING RATE 0.001\n",
      "---------------\n"
     ]
    },
    {
     "data": {
      "application/vnd.jupyter.widget-view+json": {
       "model_id": "ba315ed520c94457a22fa8bdb0ea8761",
       "version_major": 2,
       "version_minor": 0
      },
      "text/plain": [
       "HBox(children=(IntProgress(value=0, max=20), HTML(value='')))"
      ]
     },
     "metadata": {},
     "output_type": "display_data"
    },
    {
     "data": {
      "application/vnd.jupyter.widget-view+json": {
       "model_id": "6e94611ea1674f93bc275f10df1913e4",
       "version_major": 2,
       "version_minor": 0
      },
      "text/plain": [
       "HBox(children=(IntProgress(value=0, max=19099), HTML(value='')))"
      ]
     },
     "metadata": {},
     "output_type": "display_data"
    },
    {
     "name": "stdout",
     "output_type": "stream",
     "text": [
      "  Epoch   1 : loss = 1911.08546651 | training error = 0.31202025463894123 | validation error = 0.32555770886839597\n"
     ]
    },
    {
     "data": {
      "application/vnd.jupyter.widget-view+json": {
       "model_id": "02a5681bb4b14304a989c289af71069d",
       "version_major": 2,
       "version_minor": 0
      },
      "text/plain": [
       "HBox(children=(IntProgress(value=0, max=19099), HTML(value='')))"
      ]
     },
     "metadata": {},
     "output_type": "display_data"
    },
    {
     "name": "stdout",
     "output_type": "stream",
     "text": [
      "  Epoch   2 : loss = 1809.14848607 | training error = 0.30332583249759104 | validation error = 0.3155942228951137\n"
     ]
    },
    {
     "data": {
      "application/vnd.jupyter.widget-view+json": {
       "model_id": "d70dabeaa4254734b8ea553ed5fbc810",
       "version_major": 2,
       "version_minor": 0
      },
      "text/plain": [
       "HBox(children=(IntProgress(value=0, max=19099), HTML(value='')))"
      ]
     },
     "metadata": {},
     "output_type": "display_data"
    },
    {
     "name": "stdout",
     "output_type": "stream",
     "text": [
      "  Epoch   3 : loss = 1705.31915724 | training error = 0.29436437669447085 | validation error = 0.305661544000329\n"
     ]
    },
    {
     "data": {
      "application/vnd.jupyter.widget-view+json": {
       "model_id": "599950ff68624e098ee4e117b7de1b86",
       "version_major": 2,
       "version_minor": 0
      },
      "text/plain": [
       "HBox(children=(IntProgress(value=0, max=19099), HTML(value='')))"
      ]
     },
     "metadata": {},
     "output_type": "display_data"
    },
    {
     "name": "stdout",
     "output_type": "stream",
     "text": [
      "  Epoch   4 : loss = 1611.19469617 | training error = 0.2868595445748009 | validation error = 0.2977369708494954\n"
     ]
    },
    {
     "data": {
      "application/vnd.jupyter.widget-view+json": {
       "model_id": "a47e2199603b4795883c124aef5c5152",
       "version_major": 2,
       "version_minor": 0
      },
      "text/plain": [
       "HBox(children=(IntProgress(value=0, max=19099), HTML(value='')))"
      ]
     },
     "metadata": {},
     "output_type": "display_data"
    },
    {
     "name": "stdout",
     "output_type": "stream",
     "text": [
      "  Epoch   5 : loss = 1541.14357194 | training error = 0.28162456514424933 | validation error = 0.29256522511145633\n"
     ]
    },
    {
     "data": {
      "application/vnd.jupyter.widget-view+json": {
       "model_id": "32fe88bf890343929ed9cc1ce378e477",
       "version_major": 2,
       "version_minor": 0
      },
      "text/plain": [
       "HBox(children=(IntProgress(value=0, max=19099), HTML(value='')))"
      ]
     },
     "metadata": {},
     "output_type": "display_data"
    },
    {
     "name": "stdout",
     "output_type": "stream",
     "text": [
      "  Epoch   6 : loss = 1495.78416419 | training error = 0.27834110113761695 | validation error = 0.2896004622639537\n"
     ]
    },
    {
     "data": {
      "application/vnd.jupyter.widget-view+json": {
       "model_id": "9b78a556fe854c8eab90a2b955df9811",
       "version_major": 2,
       "version_minor": 0
      },
      "text/plain": [
       "HBox(children=(IntProgress(value=0, max=19099), HTML(value='')))"
      ]
     },
     "metadata": {},
     "output_type": "display_data"
    },
    {
     "name": "stdout",
     "output_type": "stream",
     "text": [
      "  Epoch   7 : loss = 1468.36992770 | training error = 0.2763742495555207 | validation error = 0.288028377947829\n"
     ]
    },
    {
     "data": {
      "application/vnd.jupyter.widget-view+json": {
       "model_id": "4751576b25214bb5a3a3834230165db6",
       "version_major": 2,
       "version_minor": 0
      },
      "text/plain": [
       "HBox(children=(IntProgress(value=0, max=19099), HTML(value='')))"
      ]
     },
     "metadata": {},
     "output_type": "display_data"
    },
    {
     "name": "stdout",
     "output_type": "stream",
     "text": [
      "  Epoch   8 : loss = 1452.21272535 | training error = 0.2752142430613385 | validation error = 0.2872473884274997\n"
     ]
    },
    {
     "data": {
      "application/vnd.jupyter.widget-view+json": {
       "model_id": "434cab11d40b4ca3b1ef5fc49c9fbdaa",
       "version_major": 2,
       "version_minor": 0
      },
      "text/plain": [
       "HBox(children=(IntProgress(value=0, max=19099), HTML(value='')))"
      ]
     },
     "metadata": {},
     "output_type": "display_data"
    },
    {
     "name": "stdout",
     "output_type": "stream",
     "text": [
      "  Epoch   9 : loss = 1442.74802390 | training error = 0.27453266138066923 | validation error = 0.28689408165241254\n"
     ]
    },
    {
     "data": {
      "application/vnd.jupyter.widget-view+json": {
       "model_id": "fb7618be8888492ab03fd9aa345e83a8",
       "version_major": 2,
       "version_minor": 0
      },
      "text/plain": [
       "HBox(children=(IntProgress(value=0, max=19099), HTML(value='')))"
      ]
     },
     "metadata": {},
     "output_type": "display_data"
    },
    {
     "name": "stdout",
     "output_type": "stream",
     "text": [
      "  Epoch  10 : loss = 1437.20310258 | training error = 0.2741322269540965 | validation error = 0.28676370849791327\n"
     ]
    },
    {
     "data": {
      "application/vnd.jupyter.widget-view+json": {
       "model_id": "07a3e94f9508429ebb26972f0d148949",
       "version_major": 2,
       "version_minor": 0
      },
      "text/plain": [
       "HBox(children=(IntProgress(value=0, max=19099), HTML(value='')))"
      ]
     },
     "metadata": {},
     "output_type": "display_data"
    },
    {
     "name": "stdout",
     "output_type": "stream",
     "text": [
      "  Epoch  11 : loss = 1433.94853956 | training error = 0.27389653809892106 | validation error = 0.286743816486525\n"
     ]
    },
    {
     "data": {
      "application/vnd.jupyter.widget-view+json": {
       "model_id": "c68ad2ff514a42569f690e466c956746",
       "version_major": 2,
       "version_minor": 0
      },
      "text/plain": [
       "HBox(children=(IntProgress(value=0, max=19099), HTML(value='')))"
      ]
     },
     "metadata": {},
     "output_type": "display_data"
    },
    {
     "name": "stdout",
     "output_type": "stream",
     "text": [
      "  Epoch  12 : loss = 1432.03166317 | training error = 0.2737572074826205 | validation error = 0.28677380327563823\n"
     ]
    },
    {
     "data": {
      "application/vnd.jupyter.widget-view+json": {
       "model_id": "73e18f408b7c4a08850fc6c3ce1191c7",
       "version_major": 2,
       "version_minor": 0
      },
      "text/plain": [
       "HBox(children=(IntProgress(value=0, max=19099), HTML(value='')))"
      ]
     },
     "metadata": {},
     "output_type": "display_data"
    },
    {
     "name": "stdout",
     "output_type": "stream",
     "text": [
      "  Epoch  13 : loss = 1430.89510743 | training error = 0.2736741183592517 | validation error = 0.2868219393416948\n"
     ]
    },
    {
     "data": {
      "application/vnd.jupyter.widget-view+json": {
       "model_id": "90a4cf2e9cd44fb0acaed4138418d545",
       "version_major": 2,
       "version_minor": 0
      },
      "text/plain": [
       "HBox(children=(IntProgress(value=0, max=19099), HTML(value='')))"
      ]
     },
     "metadata": {},
     "output_type": "display_data"
    },
    {
     "name": "stdout",
     "output_type": "stream",
     "text": [
      "  Epoch  14 : loss = 1430.21356197 | training error = 0.2736238443264498 | validation error = 0.28687244596882355\n"
     ]
    },
    {
     "data": {
      "application/vnd.jupyter.widget-view+json": {
       "model_id": "61652f676bfa4309b082c26cae549d3b",
       "version_major": 2,
       "version_minor": 0
      },
      "text/plain": [
       "HBox(children=(IntProgress(value=0, max=19099), HTML(value='')))"
      ]
     },
     "metadata": {},
     "output_type": "display_data"
    },
    {
     "name": "stdout",
     "output_type": "stream",
     "text": [
      "  Epoch  15 : loss = 1429.79734739 | training error = 0.2735927244817101 | validation error = 0.28691819023230064\n"
     ]
    },
    {
     "data": {
      "application/vnd.jupyter.widget-view+json": {
       "model_id": "43162faafa084240a9300ee26a4f769d",
       "version_major": 2,
       "version_minor": 0
      },
      "text/plain": [
       "HBox(children=(IntProgress(value=0, max=19099), HTML(value='')))"
      ]
     },
     "metadata": {},
     "output_type": "display_data"
    },
    {
     "name": "stdout",
     "output_type": "stream",
     "text": [
      "  Epoch  16 : loss = 1429.53619210 | training error = 0.27357284376206253 | validation error = 0.28695659220454794\n"
     ]
    },
    {
     "data": {
      "application/vnd.jupyter.widget-view+json": {
       "model_id": "4f485a0118c243b1980fea642d641be4",
       "version_major": 2,
       "version_minor": 0
      },
      "text/plain": [
       "HBox(children=(IntProgress(value=0, max=19099), HTML(value='')))"
      ]
     },
     "metadata": {},
     "output_type": "display_data"
    },
    {
     "name": "stdout",
     "output_type": "stream",
     "text": [
      "  Epoch  17 : loss = 1429.36630259 | training error = 0.27355960263370915 | validation error = 0.2869873758391025\n"
     ]
    },
    {
     "data": {
      "application/vnd.jupyter.widget-view+json": {
       "model_id": "14cf7e53d2ba4defbaa9b5cee003245c",
       "version_major": 2,
       "version_minor": 0
      },
      "text/plain": [
       "HBox(children=(IntProgress(value=0, max=19099), HTML(value='')))"
      ]
     },
     "metadata": {},
     "output_type": "display_data"
    },
    {
     "name": "stdout",
     "output_type": "stream",
     "text": [
      "  Epoch  18 : loss = 1429.25072659 | training error = 0.27355035767518 | validation error = 0.2870112309348329\n"
     ]
    },
    {
     "data": {
      "application/vnd.jupyter.widget-view+json": {
       "model_id": "97daab72318541bfb02d1ba6f4dafe31",
       "version_major": 2,
       "version_minor": 0
      },
      "text/plain": [
       "HBox(children=(IntProgress(value=0, max=19099), HTML(value='')))"
      ]
     },
     "metadata": {},
     "output_type": "display_data"
    },
    {
     "name": "stdout",
     "output_type": "stream",
     "text": [
      "  Epoch  19 : loss = 1429.16812809 | training error = 0.27354356809407615 | validation error = 0.28702925680219427\n"
     ]
    },
    {
     "data": {
      "application/vnd.jupyter.widget-view+json": {
       "model_id": "17f875e0c7fa42d4992ebdcd8b088704",
       "version_major": 2,
       "version_minor": 0
      },
      "text/plain": [
       "HBox(children=(IntProgress(value=0, max=19099), HTML(value='')))"
      ]
     },
     "metadata": {},
     "output_type": "display_data"
    },
    {
     "name": "stdout",
     "output_type": "stream",
     "text": [
      "  Epoch  20 : loss = 1429.10611145 | training error = 0.2735383419828549 | validation error = 0.28704255895820185\n",
      "==============================\n"
     ]
    }
   ],
   "source": [
    "#learning_rates = [ 0.75, 0.5, 0.25, 0.1 ]\n",
    "learning_rates = [ 0.1, 0.05, 0.01, 0.005, 0.001 ]\n",
    "\n",
    "lr_results = []\n",
    "for lr in tqdm_notebook(learning_rates):\n",
    "    print(\"LEARNING RATE\", lr)\n",
    "    print(\"-\"*15)\n",
    "    model = nn.Sequential(nn.Linear(6,12), nn.Linear(12,1), nn.Sigmoid())\n",
    "    arr = train_model(model, nb_epochs=20, mini_batch_size=64, learning_rate=lr)\n",
    "    lr_results.append(arr)\n",
    "    with open(\"models/features_nn_model_lr_\"+str(lr)+\".m\", \"wb\") as f:\n",
    "        torch.save(model, f)\n",
    "    print(\"=\"*30)"
   ]
  },
  {
   "cell_type": "code",
   "execution_count": 75,
   "metadata": {
    "scrolled": true
   },
   "outputs": [
    {
     "data": {
      "image/png": "[encoded data removed]",
      "text/plain": [
       "<matplotlib.figure.Figure at 0x19d22f438>"
      ]
     },
     "metadata": {},
     "output_type": "display_data"
    },
    {
     "data": {
      "image/png": "[encoded data removed]",
      "text/plain": [
       "<matplotlib.figure.Figure at 0x1a329d080>"
      ]
     },
     "metadata": {},
     "output_type": "display_data"
    },
    {
     "data": {
      "image/png": "[encoded data removed]",
      "text/plain": [
       "<matplotlib.figure.Figure at 0x1a334b0b8>"
      ]
     },
     "metadata": {},
     "output_type": "display_data"
    },
    {
     "data": {
      "image/png": "[encoded data removed]",
      "text/plain": [
       "<matplotlib.figure.Figure at 0x1a37ffac8>"
      ]
     },
     "metadata": {},
     "output_type": "display_data"
    },
    {
     "data": {
      "image/png": "[encoded data removed]",
      "text/plain": [
       "<matplotlib.figure.Figure at 0x1a391cda0>"
      ]
     },
     "metadata": {},
     "output_type": "display_data"
    }
   ],
   "source": [
    "for res,lr in zip(lr_results, learning_rates):\n",
    "    plt.figure()\n",
    "    plt.plot(range(1,len(res[0])+1),res[0])\n",
    "    plt.xlabel(\"Nb of epochs\")\n",
    "    plt.ylabel(\"Test error\")\n",
    "    plt.xticks(range(1,len(res[0])+1))\n",
    "    plt.title(\"Learning rate \"+str(lr))\n",
    "plt.savefig(\"figures/nn_features_lr_results.png\")\n",
    "plt.show()"
   ]
  },
  {
   "cell_type": "code",
   "execution_count": 66,
   "metadata": {
    "collapsed": true
   },
   "outputs": [],
   "source": [
    "with open(\"results/nn_features_lr_results.pkl\",\"wb\") as f:\n",
    "    pickle.dump(lr_results, f)"
   ]
  },
  {
   "cell_type": "markdown",
   "metadata": {},
   "source": [
    "### Batch size"
   ]
  },
  {
   "cell_type": "code",
   "execution_count": 66,
   "metadata": {
    "scrolled": true
   },
   "outputs": [
    {
     "data": {
      "application/vnd.jupyter.widget-view+json": {
       "model_id": "2b295e2d719d4a0da4706e3117c3eec3",
       "version_major": 2,
       "version_minor": 0
      },
      "text/plain": [
       "HBox(children=(IntProgress(value=0, max=5), HTML(value='')))"
      ]
     },
     "metadata": {},
     "output_type": "display_data"
    },
    {
     "name": "stdout",
     "output_type": "stream",
     "text": [
      "BATCH SIZE 16\n",
      "---------------\n"
     ]
    },
    {
     "data": {
      "application/vnd.jupyter.widget-view+json": {
       "model_id": "e65c3cf5834342e5bf579de934b0cadf",
       "version_major": 2,
       "version_minor": 0
      },
      "text/plain": [
       "HBox(children=(IntProgress(value=0, max=20), HTML(value='')))"
      ]
     },
     "metadata": {},
     "output_type": "display_data"
    },
    {
     "data": {
      "application/vnd.jupyter.widget-view+json": {
       "model_id": "ad469ec472b34487a8216fa86ff9fa74",
       "version_major": 2,
       "version_minor": 0
      },
      "text/plain": [
       "HBox(children=(IntProgress(value=0, max=76396), HTML(value='')))"
      ]
     },
     "metadata": {},
     "output_type": "display_data"
    },
    {
     "name": "stdout",
     "output_type": "stream",
     "text": [
      "\n",
      "  Epoch   1 : loss = 5760.57744921 | training error = 0.27800179957172516 | validation error = 0.29152678742619037\n"
     ]
    },
    {
     "data": {
      "application/vnd.jupyter.widget-view+json": {
       "model_id": "498a605e20514169bb7ee713c3cb91b4",
       "version_major": 2,
       "version_minor": 0
      },
      "text/plain": [
       "HBox(children=(IntProgress(value=0, max=76396), HTML(value='')))"
      ]
     },
     "metadata": {},
     "output_type": "display_data"
    },
    {
     "name": "stdout",
     "output_type": "stream",
     "text": [
      "  Epoch   2 : loss = 5752.35026866 | training error = 0.27799051674428177 | validation error = 0.29150730489848614\n"
     ]
    },
    {
     "data": {
      "application/vnd.jupyter.widget-view+json": {
       "model_id": "be2e0591f7ac49c5a542a38856f7944c",
       "version_major": 2,
       "version_minor": 0
      },
      "text/plain": [
       "HBox(children=(IntProgress(value=0, max=76396), HTML(value='')))"
      ]
     },
     "metadata": {},
     "output_type": "display_data"
    },
    {
     "name": "stdout",
     "output_type": "stream",
     "text": [
      "  Epoch   3 : loss = 5752.30463484 | training error = 0.2779885613318492 | validation error = 0.291505532914225\n"
     ]
    },
    {
     "data": {
      "application/vnd.jupyter.widget-view+json": {
       "model_id": "9a8ff92190774cbcaee9a3c3d24b5496",
       "version_major": 2,
       "version_minor": 0
      },
      "text/plain": [
       "HBox(children=(IntProgress(value=0, max=76396), HTML(value='')))"
      ]
     },
     "metadata": {},
     "output_type": "display_data"
    },
    {
     "name": "stdout",
     "output_type": "stream",
     "text": [
      "  Epoch   4 : loss = 5752.29601284 | training error = 0.27798794588885134 | validation error = 0.2915049002462433\n"
     ]
    },
    {
     "data": {
      "application/vnd.jupyter.widget-view+json": {
       "model_id": "7e030e91110644de9744557ff791dd2b",
       "version_major": 2,
       "version_minor": 0
      },
      "text/plain": [
       "HBox(children=(IntProgress(value=0, max=76396), HTML(value='')))"
      ]
     },
     "metadata": {},
     "output_type": "display_data"
    },
    {
     "name": "stdout",
     "output_type": "stream",
     "text": [
      "  Epoch   5 : loss = 5752.29308744 | training error = 0.2779877121926339 | validation error = 0.2915045657502088\n"
     ]
    },
    {
     "data": {
      "application/vnd.jupyter.widget-view+json": {
       "model_id": "338c7b336a0c46788823b6f63198ba05",
       "version_major": 2,
       "version_minor": 0
      },
      "text/plain": [
       "HBox(children=(IntProgress(value=0, max=76396), HTML(value='')))"
      ]
     },
     "metadata": {},
     "output_type": "display_data"
    },
    {
     "name": "stdout",
     "output_type": "stream",
     "text": [
      "  Epoch   6 : loss = 5752.29191498 | training error = 0.27798761683339696 | validation error = 0.29150439403431333\n"
     ]
    },
    {
     "data": {
      "application/vnd.jupyter.widget-view+json": {
       "model_id": "cce7146dfb9143ed93e99cbfe7f3a58c",
       "version_major": 2,
       "version_minor": 0
      },
      "text/plain": [
       "HBox(children=(IntProgress(value=0, max=76396), HTML(value='')))"
      ]
     },
     "metadata": {},
     "output_type": "display_data"
    },
    {
     "name": "stdout",
     "output_type": "stream",
     "text": [
      "  Epoch   7 : loss = 5752.29141619 | training error = 0.2779875645180082 | validation error = 0.2915042894589079\n"
     ]
    },
    {
     "data": {
      "application/vnd.jupyter.widget-view+json": {
       "model_id": "2691352eb4ed4f32ba8a034e5135148e",
       "version_major": 2,
       "version_minor": 0
      },
      "text/plain": [
       "HBox(children=(IntProgress(value=0, max=76396), HTML(value='')))"
      ]
     },
     "metadata": {},
     "output_type": "display_data"
    },
    {
     "name": "stdout",
     "output_type": "stream",
     "text": [
      "  Epoch   8 : loss = 5752.29120404 | training error = 0.27798754719785324 | validation error = 0.291504243744541\n"
     ]
    },
    {
     "data": {
      "application/vnd.jupyter.widget-view+json": {
       "model_id": "1fe9d13c66904836861541d055d6d40d",
       "version_major": 2,
       "version_minor": 0
      },
      "text/plain": [
       "HBox(children=(IntProgress(value=0, max=76396), HTML(value='')))"
      ]
     },
     "metadata": {},
     "output_type": "display_data"
    },
    {
     "name": "stdout",
     "output_type": "stream",
     "text": [
      "  Epoch   9 : loss = 5752.29111018 | training error = 0.27798753383900154 | validation error = 0.29150421723847353\n"
     ]
    },
    {
     "data": {
      "application/vnd.jupyter.widget-view+json": {
       "model_id": "8696494d09f04228bc5725105c47050d",
       "version_major": 2,
       "version_minor": 0
      },
      "text/plain": [
       "HBox(children=(IntProgress(value=0, max=76396), HTML(value='')))"
      ]
     },
     "metadata": {},
     "output_type": "display_data"
    },
    {
     "ename": "KeyboardInterrupt",
     "evalue": "",
     "output_type": "error",
     "traceback": [
      "\u001b[0;31m---------------------------------------------------------------------------\u001b[0m",
      "\u001b[0;31mKeyboardInterrupt\u001b[0m                         Traceback (most recent call last)",
      "\u001b[0;32m<ipython-input-66-20b0110e4814>\u001b[0m in \u001b[0;36m<module>\u001b[0;34m()\u001b[0m\n\u001b[1;32m      6\u001b[0m     \u001b[0mprint\u001b[0m\u001b[0;34m(\u001b[0m\u001b[0;34m\"-\"\u001b[0m\u001b[0;34m*\u001b[0m\u001b[0;36m15\u001b[0m\u001b[0;34m)\u001b[0m\u001b[0;34m\u001b[0m\u001b[0m\n\u001b[1;32m      7\u001b[0m     \u001b[0mmodel\u001b[0m \u001b[0;34m=\u001b[0m \u001b[0mnn\u001b[0m\u001b[0;34m.\u001b[0m\u001b[0mSequential\u001b[0m\u001b[0;34m(\u001b[0m\u001b[0mnn\u001b[0m\u001b[0;34m.\u001b[0m\u001b[0mLinear\u001b[0m\u001b[0;34m(\u001b[0m\u001b[0;36m6\u001b[0m\u001b[0;34m,\u001b[0m\u001b[0;36m12\u001b[0m\u001b[0;34m)\u001b[0m\u001b[0;34m,\u001b[0m \u001b[0mnn\u001b[0m\u001b[0;34m.\u001b[0m\u001b[0mLinear\u001b[0m\u001b[0;34m(\u001b[0m\u001b[0;36m12\u001b[0m\u001b[0;34m,\u001b[0m\u001b[0;36m1\u001b[0m\u001b[0;34m)\u001b[0m\u001b[0;34m,\u001b[0m \u001b[0mnn\u001b[0m\u001b[0;34m.\u001b[0m\u001b[0mSigmoid\u001b[0m\u001b[0;34m(\u001b[0m\u001b[0;34m)\u001b[0m\u001b[0;34m)\u001b[0m\u001b[0;34m\u001b[0m\u001b[0m\n\u001b[0;32m----> 8\u001b[0;31m     \u001b[0marr\u001b[0m \u001b[0;34m=\u001b[0m \u001b[0mtrain_model\u001b[0m\u001b[0;34m(\u001b[0m\u001b[0mmodel\u001b[0m\u001b[0;34m,\u001b[0m \u001b[0mnb_epochs\u001b[0m\u001b[0;34m=\u001b[0m\u001b[0;36m20\u001b[0m\u001b[0;34m,\u001b[0m \u001b[0mmini_batch_size\u001b[0m\u001b[0;34m=\u001b[0m\u001b[0mbsize\u001b[0m\u001b[0;34m)\u001b[0m\u001b[0;34m\u001b[0m\u001b[0m\n\u001b[0m\u001b[1;32m      9\u001b[0m     \u001b[0mbsize_results\u001b[0m\u001b[0;34m.\u001b[0m\u001b[0mappend\u001b[0m\u001b[0;34m(\u001b[0m\u001b[0marr\u001b[0m\u001b[0;34m)\u001b[0m\u001b[0;34m\u001b[0m\u001b[0m\n\u001b[1;32m     10\u001b[0m     \u001b[0;32mwith\u001b[0m \u001b[0mopen\u001b[0m\u001b[0;34m(\u001b[0m\u001b[0;34m\"models/features_nn_model_bsize_\"\u001b[0m\u001b[0;34m+\u001b[0m\u001b[0mstr\u001b[0m\u001b[0;34m(\u001b[0m\u001b[0mbsize\u001b[0m\u001b[0;34m)\u001b[0m\u001b[0;34m+\u001b[0m\u001b[0;34m\".m\"\u001b[0m\u001b[0;34m,\u001b[0m \u001b[0;34m\"wb\"\u001b[0m\u001b[0;34m)\u001b[0m \u001b[0;32mas\u001b[0m \u001b[0mf\u001b[0m\u001b[0;34m:\u001b[0m\u001b[0;34m\u001b[0m\u001b[0m\n",
      "\u001b[0;32m<ipython-input-57-d36931057008>\u001b[0m in \u001b[0;36mtrain_model\u001b[0;34m(model, nb_epochs, learning_rate, mini_batch_size, opt)\u001b[0m\n\u001b[1;32m     15\u001b[0m                 \u001b[0mloss\u001b[0m \u001b[0;34m=\u001b[0m \u001b[0mcriterion\u001b[0m\u001b[0;34m(\u001b[0m\u001b[0moutput\u001b[0m\u001b[0;34m,\u001b[0m \u001b[0mtrain_target\u001b[0m\u001b[0;34m[\u001b[0m\u001b[0mb\u001b[0m\u001b[0;34m:\u001b[0m\u001b[0;34m]\u001b[0m\u001b[0;34m)\u001b[0m\u001b[0;34m\u001b[0m\u001b[0m\n\u001b[1;32m     16\u001b[0m             \u001b[0;32melse\u001b[0m\u001b[0;34m:\u001b[0m\u001b[0;34m\u001b[0m\u001b[0m\n\u001b[0;32m---> 17\u001b[0;31m                 \u001b[0moutput\u001b[0m \u001b[0;34m=\u001b[0m \u001b[0mmodel\u001b[0m\u001b[0;34m(\u001b[0m\u001b[0mtrain_input\u001b[0m\u001b[0;34m.\u001b[0m\u001b[0mnarrow\u001b[0m\u001b[0;34m(\u001b[0m\u001b[0;36m0\u001b[0m\u001b[0;34m,\u001b[0m \u001b[0mb\u001b[0m\u001b[0;34m,\u001b[0m \u001b[0mmini_batch_size\u001b[0m\u001b[0;34m)\u001b[0m\u001b[0;34m)\u001b[0m\u001b[0;34m\u001b[0m\u001b[0m\n\u001b[0m\u001b[1;32m     18\u001b[0m                 \u001b[0mloss\u001b[0m \u001b[0;34m=\u001b[0m \u001b[0mcriterion\u001b[0m\u001b[0;34m(\u001b[0m\u001b[0moutput\u001b[0m\u001b[0;34m,\u001b[0m \u001b[0mtrain_target\u001b[0m\u001b[0;34m.\u001b[0m\u001b[0mnarrow\u001b[0m\u001b[0;34m(\u001b[0m\u001b[0;36m0\u001b[0m\u001b[0;34m,\u001b[0m \u001b[0mb\u001b[0m\u001b[0;34m,\u001b[0m \u001b[0mmini_batch_size\u001b[0m\u001b[0;34m)\u001b[0m\u001b[0;34m)\u001b[0m\u001b[0;34m\u001b[0m\u001b[0m\n\u001b[1;32m     19\u001b[0m \u001b[0;34m\u001b[0m\u001b[0m\n",
      "\u001b[0;32m/usr/local/Cellar/python3/3.6.3/Frameworks/Python.framework/Versions/3.6/lib/python3.6/site-packages/torch/nn/modules/module.py\u001b[0m in \u001b[0;36m__call__\u001b[0;34m(self, *input, **kwargs)\u001b[0m\n\u001b[1;32m    355\u001b[0m             \u001b[0mresult\u001b[0m \u001b[0;34m=\u001b[0m \u001b[0mself\u001b[0m\u001b[0;34m.\u001b[0m\u001b[0m_slow_forward\u001b[0m\u001b[0;34m(\u001b[0m\u001b[0;34m*\u001b[0m\u001b[0minput\u001b[0m\u001b[0;34m,\u001b[0m \u001b[0;34m**\u001b[0m\u001b[0mkwargs\u001b[0m\u001b[0;34m)\u001b[0m\u001b[0;34m\u001b[0m\u001b[0m\n\u001b[1;32m    356\u001b[0m         \u001b[0;32melse\u001b[0m\u001b[0;34m:\u001b[0m\u001b[0;34m\u001b[0m\u001b[0m\n\u001b[0;32m--> 357\u001b[0;31m             \u001b[0mresult\u001b[0m \u001b[0;34m=\u001b[0m \u001b[0mself\u001b[0m\u001b[0;34m.\u001b[0m\u001b[0mforward\u001b[0m\u001b[0;34m(\u001b[0m\u001b[0;34m*\u001b[0m\u001b[0minput\u001b[0m\u001b[0;34m,\u001b[0m \u001b[0;34m**\u001b[0m\u001b[0mkwargs\u001b[0m\u001b[0;34m)\u001b[0m\u001b[0;34m\u001b[0m\u001b[0m\n\u001b[0m\u001b[1;32m    358\u001b[0m         \u001b[0;32mfor\u001b[0m \u001b[0mhook\u001b[0m \u001b[0;32min\u001b[0m \u001b[0mself\u001b[0m\u001b[0;34m.\u001b[0m\u001b[0m_forward_hooks\u001b[0m\u001b[0;34m.\u001b[0m\u001b[0mvalues\u001b[0m\u001b[0;34m(\u001b[0m\u001b[0;34m)\u001b[0m\u001b[0;34m:\u001b[0m\u001b[0;34m\u001b[0m\u001b[0m\n\u001b[1;32m    359\u001b[0m             \u001b[0mhook_result\u001b[0m \u001b[0;34m=\u001b[0m \u001b[0mhook\u001b[0m\u001b[0;34m(\u001b[0m\u001b[0mself\u001b[0m\u001b[0;34m,\u001b[0m \u001b[0minput\u001b[0m\u001b[0;34m,\u001b[0m \u001b[0mresult\u001b[0m\u001b[0;34m)\u001b[0m\u001b[0;34m\u001b[0m\u001b[0m\n",
      "\u001b[0;32m/usr/local/Cellar/python3/3.6.3/Frameworks/Python.framework/Versions/3.6/lib/python3.6/site-packages/torch/nn/modules/container.py\u001b[0m in \u001b[0;36mforward\u001b[0;34m(self, input)\u001b[0m\n\u001b[1;32m     65\u001b[0m     \u001b[0;32mdef\u001b[0m \u001b[0mforward\u001b[0m\u001b[0;34m(\u001b[0m\u001b[0mself\u001b[0m\u001b[0;34m,\u001b[0m \u001b[0minput\u001b[0m\u001b[0;34m)\u001b[0m\u001b[0;34m:\u001b[0m\u001b[0;34m\u001b[0m\u001b[0m\n\u001b[1;32m     66\u001b[0m         \u001b[0;32mfor\u001b[0m \u001b[0mmodule\u001b[0m \u001b[0;32min\u001b[0m \u001b[0mself\u001b[0m\u001b[0;34m.\u001b[0m\u001b[0m_modules\u001b[0m\u001b[0;34m.\u001b[0m\u001b[0mvalues\u001b[0m\u001b[0;34m(\u001b[0m\u001b[0;34m)\u001b[0m\u001b[0;34m:\u001b[0m\u001b[0;34m\u001b[0m\u001b[0m\n\u001b[0;32m---> 67\u001b[0;31m             \u001b[0minput\u001b[0m \u001b[0;34m=\u001b[0m \u001b[0mmodule\u001b[0m\u001b[0;34m(\u001b[0m\u001b[0minput\u001b[0m\u001b[0;34m)\u001b[0m\u001b[0;34m\u001b[0m\u001b[0m\n\u001b[0m\u001b[1;32m     68\u001b[0m         \u001b[0;32mreturn\u001b[0m \u001b[0minput\u001b[0m\u001b[0;34m\u001b[0m\u001b[0m\n\u001b[1;32m     69\u001b[0m \u001b[0;34m\u001b[0m\u001b[0m\n",
      "\u001b[0;32m/usr/local/Cellar/python3/3.6.3/Frameworks/Python.framework/Versions/3.6/lib/python3.6/site-packages/torch/nn/modules/module.py\u001b[0m in \u001b[0;36m__call__\u001b[0;34m(self, *input, **kwargs)\u001b[0m\n\u001b[1;32m    355\u001b[0m             \u001b[0mresult\u001b[0m \u001b[0;34m=\u001b[0m \u001b[0mself\u001b[0m\u001b[0;34m.\u001b[0m\u001b[0m_slow_forward\u001b[0m\u001b[0;34m(\u001b[0m\u001b[0;34m*\u001b[0m\u001b[0minput\u001b[0m\u001b[0;34m,\u001b[0m \u001b[0;34m**\u001b[0m\u001b[0mkwargs\u001b[0m\u001b[0;34m)\u001b[0m\u001b[0;34m\u001b[0m\u001b[0m\n\u001b[1;32m    356\u001b[0m         \u001b[0;32melse\u001b[0m\u001b[0;34m:\u001b[0m\u001b[0;34m\u001b[0m\u001b[0m\n\u001b[0;32m--> 357\u001b[0;31m             \u001b[0mresult\u001b[0m \u001b[0;34m=\u001b[0m \u001b[0mself\u001b[0m\u001b[0;34m.\u001b[0m\u001b[0mforward\u001b[0m\u001b[0;34m(\u001b[0m\u001b[0;34m*\u001b[0m\u001b[0minput\u001b[0m\u001b[0;34m,\u001b[0m \u001b[0;34m**\u001b[0m\u001b[0mkwargs\u001b[0m\u001b[0;34m)\u001b[0m\u001b[0;34m\u001b[0m\u001b[0m\n\u001b[0m\u001b[1;32m    358\u001b[0m         \u001b[0;32mfor\u001b[0m \u001b[0mhook\u001b[0m \u001b[0;32min\u001b[0m \u001b[0mself\u001b[0m\u001b[0;34m.\u001b[0m\u001b[0m_forward_hooks\u001b[0m\u001b[0;34m.\u001b[0m\u001b[0mvalues\u001b[0m\u001b[0;34m(\u001b[0m\u001b[0;34m)\u001b[0m\u001b[0;34m:\u001b[0m\u001b[0;34m\u001b[0m\u001b[0m\n\u001b[1;32m    359\u001b[0m             \u001b[0mhook_result\u001b[0m \u001b[0;34m=\u001b[0m \u001b[0mhook\u001b[0m\u001b[0;34m(\u001b[0m\u001b[0mself\u001b[0m\u001b[0;34m,\u001b[0m \u001b[0minput\u001b[0m\u001b[0;34m,\u001b[0m \u001b[0mresult\u001b[0m\u001b[0;34m)\u001b[0m\u001b[0;34m\u001b[0m\u001b[0m\n",
      "\u001b[0;32m/usr/local/Cellar/python3/3.6.3/Frameworks/Python.framework/Versions/3.6/lib/python3.6/site-packages/torch/nn/modules/linear.py\u001b[0m in \u001b[0;36mforward\u001b[0;34m(self, input)\u001b[0m\n\u001b[1;32m     53\u001b[0m \u001b[0;34m\u001b[0m\u001b[0m\n\u001b[1;32m     54\u001b[0m     \u001b[0;32mdef\u001b[0m \u001b[0mforward\u001b[0m\u001b[0;34m(\u001b[0m\u001b[0mself\u001b[0m\u001b[0;34m,\u001b[0m \u001b[0minput\u001b[0m\u001b[0;34m)\u001b[0m\u001b[0;34m:\u001b[0m\u001b[0;34m\u001b[0m\u001b[0m\n\u001b[0;32m---> 55\u001b[0;31m         \u001b[0;32mreturn\u001b[0m \u001b[0mF\u001b[0m\u001b[0;34m.\u001b[0m\u001b[0mlinear\u001b[0m\u001b[0;34m(\u001b[0m\u001b[0minput\u001b[0m\u001b[0;34m,\u001b[0m \u001b[0mself\u001b[0m\u001b[0;34m.\u001b[0m\u001b[0mweight\u001b[0m\u001b[0;34m,\u001b[0m \u001b[0mself\u001b[0m\u001b[0;34m.\u001b[0m\u001b[0mbias\u001b[0m\u001b[0;34m)\u001b[0m\u001b[0;34m\u001b[0m\u001b[0m\n\u001b[0m\u001b[1;32m     56\u001b[0m \u001b[0;34m\u001b[0m\u001b[0m\n\u001b[1;32m     57\u001b[0m     \u001b[0;32mdef\u001b[0m \u001b[0m__repr__\u001b[0m\u001b[0;34m(\u001b[0m\u001b[0mself\u001b[0m\u001b[0;34m)\u001b[0m\u001b[0;34m:\u001b[0m\u001b[0;34m\u001b[0m\u001b[0m\n",
      "\u001b[0;32m/usr/local/Cellar/python3/3.6.3/Frameworks/Python.framework/Versions/3.6/lib/python3.6/site-packages/torch/nn/functional.py\u001b[0m in \u001b[0;36mlinear\u001b[0;34m(input, weight, bias)\u001b[0m\n\u001b[1;32m    833\u001b[0m     \u001b[0;32mif\u001b[0m \u001b[0minput\u001b[0m\u001b[0;34m.\u001b[0m\u001b[0mdim\u001b[0m\u001b[0;34m(\u001b[0m\u001b[0;34m)\u001b[0m \u001b[0;34m==\u001b[0m \u001b[0;36m2\u001b[0m \u001b[0;32mand\u001b[0m \u001b[0mbias\u001b[0m \u001b[0;32mis\u001b[0m \u001b[0;32mnot\u001b[0m \u001b[0;32mNone\u001b[0m\u001b[0;34m:\u001b[0m\u001b[0;34m\u001b[0m\u001b[0m\n\u001b[1;32m    834\u001b[0m         \u001b[0;31m# fused op is marginally faster\u001b[0m\u001b[0;34m\u001b[0m\u001b[0;34m\u001b[0m\u001b[0m\n\u001b[0;32m--> 835\u001b[0;31m         \u001b[0;32mreturn\u001b[0m \u001b[0mtorch\u001b[0m\u001b[0;34m.\u001b[0m\u001b[0maddmm\u001b[0m\u001b[0;34m(\u001b[0m\u001b[0mbias\u001b[0m\u001b[0;34m,\u001b[0m \u001b[0minput\u001b[0m\u001b[0;34m,\u001b[0m \u001b[0mweight\u001b[0m\u001b[0;34m.\u001b[0m\u001b[0mt\u001b[0m\u001b[0;34m(\u001b[0m\u001b[0;34m)\u001b[0m\u001b[0;34m)\u001b[0m\u001b[0;34m\u001b[0m\u001b[0m\n\u001b[0m\u001b[1;32m    836\u001b[0m \u001b[0;34m\u001b[0m\u001b[0m\n\u001b[1;32m    837\u001b[0m     \u001b[0moutput\u001b[0m \u001b[0;34m=\u001b[0m \u001b[0minput\u001b[0m\u001b[0;34m.\u001b[0m\u001b[0mmatmul\u001b[0m\u001b[0;34m(\u001b[0m\u001b[0mweight\u001b[0m\u001b[0;34m.\u001b[0m\u001b[0mt\u001b[0m\u001b[0;34m(\u001b[0m\u001b[0;34m)\u001b[0m\u001b[0;34m)\u001b[0m\u001b[0;34m\u001b[0m\u001b[0m\n",
      "\u001b[0;31mKeyboardInterrupt\u001b[0m: "
     ]
    }
   ],
   "source": [
    "batch_sizes = [ 2**n for n in range(4,9) ]\n",
    "\n",
    "bsize_results = []\n",
    "for bsize in tqdm_notebook(batch_sizes):\n",
    "    print(\"BATCH SIZE\", bsize)\n",
    "    print(\"-\"*15)\n",
    "    model = nn.Sequential(nn.Linear(6,12), nn.Linear(12,1), nn.Sigmoid())\n",
    "    arr = train_model(model, nb_epochs=20, mini_batch_size=bsize)\n",
    "    bsize_results.append(arr)\n",
    "    with open(\"models/features_nn_model_bsize_\"+str(bsize)+\".m\", \"wb\") as f:\n",
    "        torch.save(model, f)\n",
    "    print(\"=\"*30)"
   ]
  },
  {
   "cell_type": "code",
   "execution_count": 62,
   "metadata": {
    "scrolled": true
   },
   "outputs": [
    {
     "data": {
      "image/png": "[encoded data removed]",
      "text/plain": [
       "<matplotlib.figure.Figure at 0x16c334be0>"
      ]
     },
     "metadata": {},
     "output_type": "display_data"
    },
    {
     "data": {
      "image/png": "[encoded data removed]",
      "text/plain": [
       "<matplotlib.figure.Figure at 0x198895a20>"
      ]
     },
     "metadata": {},
     "output_type": "display_data"
    },
    {
     "data": {
      "image/png": "[encoded data removed]",
      "text/plain": [
       "<matplotlib.figure.Figure at 0x198a39a90>"
      ]
     },
     "metadata": {},
     "output_type": "display_data"
    },
    {
     "data": {
      "image/png": "[encoded data removed]",
      "text/plain": [
       "<matplotlib.figure.Figure at 0x198abcb00>"
      ]
     },
     "metadata": {},
     "output_type": "display_data"
    },
    {
     "data": {
      "image/png": "[encoded data removed]",
      "text/plain": [
       "<matplotlib.figure.Figure at 0x198b08278>"
      ]
     },
     "metadata": {},
     "output_type": "display_data"
    }
   ],
   "source": [
    "for res,bsize in zip(bsize_results,batch_sizes):\n",
    "    plt.figure()\n",
    "    plt.plot(range(1,len(res[0])+1),res[0])\n",
    "    plt.xlabel(\"Nb of epochs\")\n",
    "    plt.ylabel(\"Test error\")\n",
    "    plt.xticks([1]+list(range(5,len(res[0])+1,5)))\n",
    "    plt.title(\"Batch size \"+str(bsize))\n",
    "plt.savefig(\"figures/nn_features_bsize_results.png\")\n",
    "plt.show()"
   ]
  },
  {
   "cell_type": "code",
   "execution_count": 60,
   "metadata": {
    "scrolled": true
   },
   "outputs": [
    {
     "data": {
      "image/png": "[encoded data removed]",
      "text/plain": [
       "<matplotlib.figure.Figure at 0x19894bd30>"
      ]
     },
     "metadata": {},
     "output_type": "display_data"
    },
    {
     "data": {
      "image/png": "[encoded data removed]",
      "text/plain": [
       "<matplotlib.figure.Figure at 0x16c877400>"
      ]
     },
     "metadata": {},
     "output_type": "display_data"
    },
    {
     "data": {
      "image/png": "[encoded data removed]",
      "text/plain": [
       "<matplotlib.figure.Figure at 0x1978291d0>"
      ]
     },
     "metadata": {},
     "output_type": "display_data"
    },
    {
     "data": {
      "image/png": "[encoded data removed]",
      "text/plain": [
       "<matplotlib.figure.Figure at 0x19822fba8>"
      ]
     },
     "metadata": {},
     "output_type": "display_data"
    },
    {
     "data": {
      "image/png": "[encoded data removed]",
      "text/plain": [
       "<matplotlib.figure.Figure at 0x1982b51d0>"
      ]
     },
     "metadata": {},
     "output_type": "display_data"
    }
   ],
   "source": [
    "for res,bsize in zip(bsize_results,batch_sizes):\n",
    "    plt.figure()\n",
    "    plt.plot(range(1,len(res[0])+1),res[0])\n",
    "    plt.xlabel(\"Nb of epochs\")\n",
    "    plt.ylabel(\"Test error\")\n",
    "    plt.xticks([1]+list(range(5,len(res[0])+1,5)))\n",
    "    plt.title(\"Batch size \"+str(bsize))\n",
    "plt.savefig(\"figures/nn_features_bsize_results.png\")\n",
    "plt.show()"
   ]
  },
  {
   "cell_type": "code",
   "execution_count": 66,
   "metadata": {
    "collapsed": true
   },
   "outputs": [],
   "source": [
    "with open(\"results/nn_features_bsize_results.pkl\",\"wb\") as f:\n",
    "    pickle.dump(bsize_results, f)"
   ]
  },
  {
   "cell_type": "code",
   "execution_count": null,
   "metadata": {
    "collapsed": true
   },
   "outputs": [],
   "source": []
  },
  {
   "cell_type": "code",
   "execution_count": 78,
   "metadata": {},
   "outputs": [
    {
     "data": {
      "application/vnd.jupyter.widget-view+json": {
       "model_id": "a59208334546484babcfd54d20f26d07",
       "version_major": 2,
       "version_minor": 0
      },
      "text/plain": [
       "HBox(children=(IntProgress(value=0), HTML(value='')))"
      ]
     },
     "metadata": {},
     "output_type": "display_data"
    },
    {
     "data": {
      "application/vnd.jupyter.widget-view+json": {
       "model_id": "91da3dfd3bbc463593a9918438202489",
       "version_major": 2,
       "version_minor": 0
      },
      "text/plain": [
       "HBox(children=(IntProgress(value=0, max=76396), HTML(value='')))"
      ]
     },
     "metadata": {},
     "output_type": "display_data"
    },
    {
     "name": "stdout",
     "output_type": "stream",
     "text": [
      "  Epoch   1 : loss = 5749.05225977 | training error = 0.2738321026855732 | validation error = 0.2873171788504929\n"
     ]
    },
    {
     "data": {
      "application/vnd.jupyter.widget-view+json": {
       "model_id": "c39ffcbfe77b4ec5b8dcf6e7c7ebf67e",
       "version_major": 2,
       "version_minor": 0
      },
      "text/plain": [
       "HBox(children=(IntProgress(value=0, max=76396), HTML(value='')))"
      ]
     },
     "metadata": {},
     "output_type": "display_data"
    },
    {
     "name": "stdout",
     "output_type": "stream",
     "text": [
      "  Epoch   2 : loss = 5722.70351575 | training error = 0.2736960146449279 | validation error = 0.2871480378758179\n"
     ]
    },
    {
     "data": {
      "application/vnd.jupyter.widget-view+json": {
       "model_id": "df37d55b294e4f71afc42cefb27e9cb1",
       "version_major": 2,
       "version_minor": 0
      },
      "text/plain": [
       "HBox(children=(IntProgress(value=0, max=76396), HTML(value='')))"
      ]
     },
     "metadata": {},
     "output_type": "display_data"
    },
    {
     "name": "stdout",
     "output_type": "stream",
     "text": [
      "  Epoch   3 : loss = 5721.32229267 | training error = 0.2736439320186805 | validation error = 0.28708496812355816\n"
     ]
    },
    {
     "data": {
      "application/vnd.jupyter.widget-view+json": {
       "model_id": "c566563b30f74efab42b2b15a8817c31",
       "version_major": 2,
       "version_minor": 0
      },
      "text/plain": [
       "HBox(children=(IntProgress(value=0, max=76396), HTML(value='')))"
      ]
     },
     "metadata": {},
     "output_type": "display_data"
    },
    {
     "name": "stdout",
     "output_type": "stream",
     "text": [
      "  Epoch   4 : loss = 5720.55391020 | training error = 0.27362009256613795 | validation error = 0.28705717622754373\n"
     ]
    },
    {
     "data": {
      "application/vnd.jupyter.widget-view+json": {
       "model_id": "deec88eb290943f3ad78ad8f04066e01",
       "version_major": 2,
       "version_minor": 0
      },
      "text/plain": [
       "HBox(children=(IntProgress(value=0, max=76396), HTML(value='')))"
      ]
     },
     "metadata": {},
     "output_type": "display_data"
    },
    {
     "name": "stdout",
     "output_type": "stream",
     "text": [
      "  Epoch   5 : loss = 5720.07555303 | training error = 0.2736080489953071 | validation error = 0.2870438185525265\n"
     ]
    },
    {
     "data": {
      "application/vnd.jupyter.widget-view+json": {
       "model_id": "6b6e245190254948bdd01c44c1601d05",
       "version_major": 2,
       "version_minor": 0
      },
      "text/plain": [
       "HBox(children=(IntProgress(value=0, max=76396), HTML(value='')))"
      ]
     },
     "metadata": {},
     "output_type": "display_data"
    },
    {
     "name": "stdout",
     "output_type": "stream",
     "text": [
      "  Epoch   6 : loss = 5719.74953355 | training error = 0.27360167722321765 | validation error = 0.2870372008005388\n"
     ]
    },
    {
     "data": {
      "application/vnd.jupyter.widget-view+json": {
       "model_id": "f11e7dccd2784a348d5705f46fde461e",
       "version_major": 2,
       "version_minor": 0
      },
      "text/plain": [
       "HBox(children=(IntProgress(value=0, max=76396), HTML(value='')))"
      ]
     },
     "metadata": {},
     "output_type": "display_data"
    },
    {
     "name": "stdout",
     "output_type": "stream",
     "text": [
      "  Epoch   7 : loss = 5719.51111254 | training error = 0.2735983082739238 | validation error = 0.28703401726926625\n"
     ]
    },
    {
     "data": {
      "application/vnd.jupyter.widget-view+json": {
       "model_id": "68c9df5d9b9a4b06bfe1fe5aa2acf1e9",
       "version_major": 2,
       "version_minor": 0
      },
      "text/plain": [
       "HBox(children=(IntProgress(value=0, max=76396), HTML(value='')))"
      ]
     },
     "metadata": {},
     "output_type": "display_data"
    },
    {
     "name": "stdout",
     "output_type": "stream",
     "text": [
      "  Epoch   8 : loss = 5719.32724272 | training error = 0.2735966240147394 | validation error = 0.2870326777298227\n"
     ]
    },
    {
     "data": {
      "application/vnd.jupyter.widget-view+json": {
       "model_id": "c2fd530f3b804575a0557c545efab1f9",
       "version_major": 2,
       "version_minor": 0
      },
      "text/plain": [
       "HBox(children=(IntProgress(value=0, max=76396), HTML(value='')))"
      ]
     },
     "metadata": {},
     "output_type": "display_data"
    },
    {
     "name": "stdout",
     "output_type": "stream",
     "text": [
      "  Epoch   9 : loss = 5719.17975443 | training error = 0.2735959342583396 | validation error = 0.2870323920125942\n"
     ]
    },
    {
     "data": {
      "application/vnd.jupyter.widget-view+json": {
       "model_id": "2c78b7dd14ef47c9bb542b5a5f9195f7",
       "version_major": 2,
       "version_minor": 0
      },
      "text/plain": [
       "HBox(children=(IntProgress(value=0, max=76396), HTML(value='')))"
      ]
     },
     "metadata": {},
     "output_type": "display_data"
    },
    {
     "name": "stdout",
     "output_type": "stream",
     "text": [
      "  Epoch  10 : loss = 5719.05805430 | training error = 0.27359582915534564 | validation error = 0.2870327155662708\n"
     ]
    },
    {
     "data": {
      "application/vnd.jupyter.widget-view+json": {
       "model_id": "94c93bbb31574eeeabdf239298a95e7b",
       "version_major": 2,
       "version_minor": 0
      },
      "text/plain": [
       "HBox(children=(IntProgress(value=0, max=76396), HTML(value='')))"
      ]
     },
     "metadata": {},
     "output_type": "display_data"
    },
    {
     "name": "stdout",
     "output_type": "stream",
     "text": [
      "  Epoch  11 : loss = 5718.95547003 | training error = 0.27359606907907186 | validation error = 0.287033399406207\n"
     ]
    },
    {
     "data": {
      "application/vnd.jupyter.widget-view+json": {
       "model_id": "de94afe5db6d4a80a41458a90e6f0e00",
       "version_major": 2,
       "version_minor": 0
      },
      "text/plain": [
       "HBox(children=(IntProgress(value=0, max=76396), HTML(value='')))"
      ]
     },
     "metadata": {},
     "output_type": "display_data"
    },
    {
     "name": "stdout",
     "output_type": "stream",
     "text": [
      "  Epoch  12 : loss = 5718.86768873 | training error = 0.2735964962086562 | validation error = 0.2870343082007764\n"
     ]
    },
    {
     "data": {
      "application/vnd.jupyter.widget-view+json": {
       "model_id": "4dae406f576a44008c03620fd55d2a00",
       "version_major": 2,
       "version_minor": 0
      },
      "text/plain": [
       "HBox(children=(IntProgress(value=0, max=76396), HTML(value='')))"
      ]
     },
     "metadata": {},
     "output_type": "display_data"
    },
    {
     "name": "stdout",
     "output_type": "stream",
     "text": [
      "  Epoch  13 : loss = 5718.79171131 | training error = 0.27359701445376633 | validation error = 0.2870353175473586\n"
     ]
    },
    {
     "data": {
      "application/vnd.jupyter.widget-view+json": {
       "model_id": "57fcc76f28dc4492b3299ffd27262243",
       "version_major": 2,
       "version_minor": 0
      },
      "text/plain": [
       "HBox(children=(IntProgress(value=0, max=76396), HTML(value='')))"
      ]
     },
     "metadata": {},
     "output_type": "display_data"
    },
    {
     "name": "stdout",
     "output_type": "stream",
     "text": [
      "  Epoch  14 : loss = 5718.72537087 | training error = 0.2735975573776947 | validation error = 0.2870363926011143\n"
     ]
    },
    {
     "data": {
      "application/vnd.jupyter.widget-view+json": {
       "model_id": "4051bfd24daa4a66add01470365880bf",
       "version_major": 2,
       "version_minor": 0
      },
      "text/plain": [
       "HBox(children=(IntProgress(value=0, max=76396), HTML(value='')))"
      ]
     },
     "metadata": {},
     "output_type": "display_data"
    },
    {
     "name": "stdout",
     "output_type": "stream",
     "text": [
      "  Epoch  15 : loss = 5718.66707472 | training error = 0.2735980803887755 | validation error = 0.2870374939713918\n"
     ]
    },
    {
     "data": {
      "application/vnd.jupyter.widget-view+json": {
       "model_id": "4a573235834a47f6bf02261ca5ff5811",
       "version_major": 2,
       "version_minor": 0
      },
      "text/plain": [
       "HBox(children=(IntProgress(value=0, max=76396), HTML(value='')))"
      ]
     },
     "metadata": {},
     "output_type": "display_data"
    },
    {
     "name": "stdout",
     "output_type": "stream",
     "text": [
      "  Epoch  16 : loss = 5718.61557808 | training error = 0.27359855800421096 | validation error = 0.28703857958484347\n"
     ]
    },
    {
     "data": {
      "application/vnd.jupyter.widget-view+json": {
       "model_id": "ab69816fdd0b4936b79daf6fd8481b4e",
       "version_major": 2,
       "version_minor": 0
      },
      "text/plain": [
       "HBox(children=(IntProgress(value=0, max=76396), HTML(value='')))"
      ]
     },
     "metadata": {},
     "output_type": "display_data"
    },
    {
     "name": "stdout",
     "output_type": "stream",
     "text": [
      "  Epoch  17 : loss = 5715.48171573 | training error = 0.27351108796936685 | validation error = 0.2870145624372396\n"
     ]
    },
    {
     "data": {
      "application/vnd.jupyter.widget-view+json": {
       "model_id": "54b84612fc4e488ba657c23cd47ad8aa",
       "version_major": 2,
       "version_minor": 0
      },
      "text/plain": [
       "HBox(children=(IntProgress(value=0, max=76396), HTML(value='')))"
      ]
     },
     "metadata": {},
     "output_type": "display_data"
    },
    {
     "name": "stdout",
     "output_type": "stream",
     "text": [
      "  Epoch  18 : loss = 5715.30710193 | training error = 0.27350974935688077 | validation error = 0.2870389769707275\n"
     ]
    },
    {
     "data": {
      "application/vnd.jupyter.widget-view+json": {
       "model_id": "ebc4eaa0cad64da5a83514e14deec63b",
       "version_major": 2,
       "version_minor": 0
      },
      "text/plain": [
       "HBox(children=(IntProgress(value=0, max=76396), HTML(value='')))"
      ]
     },
     "metadata": {},
     "output_type": "display_data"
    },
    {
     "name": "stdout",
     "output_type": "stream",
     "text": [
      "  Epoch  19 : loss = 5715.28303306 | training error = 0.2735094027636241 | validation error = 0.28704591661050616\n"
     ]
    },
    {
     "data": {
      "application/vnd.jupyter.widget-view+json": {
       "model_id": "cb9d5c1509ac4c799a865ba44a29314a",
       "version_major": 2,
       "version_minor": 0
      },
      "text/plain": [
       "HBox(children=(IntProgress(value=0, max=76396), HTML(value='')))"
      ]
     },
     "metadata": {},
     "output_type": "display_data"
    },
    {
     "name": "stdout",
     "output_type": "stream",
     "text": [
      "  Epoch  20 : loss = 5715.27623733 | training error = 0.2735092799680584 | validation error = 0.287047853259868\n"
     ]
    },
    {
     "data": {
      "application/vnd.jupyter.widget-view+json": {
       "model_id": "bb052f5e100749f1b4e420beda7cb68b",
       "version_major": 2,
       "version_minor": 0
      },
      "text/plain": [
       "HBox(children=(IntProgress(value=0, max=76396), HTML(value='')))"
      ]
     },
     "metadata": {},
     "output_type": "display_data"
    },
    {
     "name": "stdout",
     "output_type": "stream",
     "text": [
      "  Epoch  21 : loss = 5715.27350712 | training error = 0.273509227962799 | validation error = 0.2870483790619945\n"
     ]
    },
    {
     "data": {
      "application/vnd.jupyter.widget-view+json": {
       "model_id": "af528314215d42e9927f657d972c3982",
       "version_major": 2,
       "version_minor": 0
      },
      "text/plain": [
       "HBox(children=(IntProgress(value=0, max=76396), HTML(value='')))"
      ]
     },
     "metadata": {},
     "output_type": "display_data"
    },
    {
     "name": "stdout",
     "output_type": "stream",
     "text": [
      "  Epoch  22 : loss = 5715.27215594 | training error = 0.27350920231149717 | validation error = 0.28704850657656905\n"
     ]
    },
    {
     "data": {
      "application/vnd.jupyter.widget-view+json": {
       "model_id": "fd56881f898c42c493186c9576e08b2f",
       "version_major": 2,
       "version_minor": 0
      },
      "text/plain": [
       "HBox(children=(IntProgress(value=0, max=76396), HTML(value='')))"
      ]
     },
     "metadata": {},
     "output_type": "display_data"
    },
    {
     "name": "stdout",
     "output_type": "stream",
     "text": [
      "  Epoch  23 : loss = 5715.27136512 | training error = 0.2735091922053027 | validation error = 0.28704851687535005\n"
     ]
    },
    {
     "data": {
      "application/vnd.jupyter.widget-view+json": {
       "model_id": "6a6cc44558cb4719b9e723979872f045",
       "version_major": 2,
       "version_minor": 0
      },
      "text/plain": [
       "HBox(children=(IntProgress(value=0, max=76396), HTML(value='')))"
      ]
     },
     "metadata": {},
     "output_type": "display_data"
    },
    {
     "name": "stdout",
     "output_type": "stream",
     "text": [
      "  Epoch  24 : loss = 5715.27086000 | training error = 0.2735091834920151 | validation error = 0.2870485202145531\n"
     ]
    },
    {
     "data": {
      "application/vnd.jupyter.widget-view+json": {
       "model_id": "247ffbf417344116a1dd1b212469c246",
       "version_major": 2,
       "version_minor": 0
      },
      "text/plain": [
       "HBox(children=(IntProgress(value=0, max=76396), HTML(value='')))"
      ]
     },
     "metadata": {},
     "output_type": "display_data"
    },
    {
     "name": "stdout",
     "output_type": "stream",
     "text": [
      "  Epoch  25 : loss = 5715.27051188 | training error = 0.27350918212792097 | validation error = 0.28704851911631296\n"
     ]
    },
    {
     "data": {
      "application/vnd.jupyter.widget-view+json": {
       "model_id": "8a4ec945a2a74632923e0cfbfeaa67dc",
       "version_major": 2,
       "version_minor": 0
      },
      "text/plain": [
       "HBox(children=(IntProgress(value=0, max=76396), HTML(value='')))"
      ]
     },
     "metadata": {},
     "output_type": "display_data"
    },
    {
     "name": "stdout",
     "output_type": "stream",
     "text": [
      "  Epoch  26 : loss = 5715.27026222 | training error = 0.27350918030526195 | validation error = 0.2870485274808899\n"
     ]
    },
    {
     "data": {
      "application/vnd.jupyter.widget-view+json": {
       "model_id": "fd9abc0f6e6e421cafe7bbf601654675",
       "version_major": 2,
       "version_minor": 0
      },
      "text/plain": [
       "HBox(children=(IntProgress(value=0, max=76396), HTML(value='')))"
      ]
     },
     "metadata": {},
     "output_type": "display_data"
    },
    {
     "name": "stdout",
     "output_type": "stream",
     "text": [
      "  Epoch  27 : loss = 5715.27006464 | training error = 0.27350918212475045 | validation error = 0.2870485174181519\n"
     ]
    },
    {
     "data": {
      "application/vnd.jupyter.widget-view+json": {
       "model_id": "7e075227078d425d83fe311e8627aa82",
       "version_major": 2,
       "version_minor": 0
      },
      "text/plain": [
       "HBox(children=(IntProgress(value=0, max=76396), HTML(value='')))"
      ]
     },
     "metadata": {},
     "output_type": "display_data"
    },
    {
     "name": "stdout",
     "output_type": "stream",
     "text": [
      "  Epoch  28 : loss = 5715.26990227 | training error = 0.273509181988449 | validation error = 0.28704851356300215\n"
     ]
    },
    {
     "data": {
      "application/vnd.jupyter.widget-view+json": {
       "model_id": "77dfa2f9288a4e40aa2917eaabc9858e",
       "version_major": 2,
       "version_minor": 0
      },
      "text/plain": [
       "HBox(children=(IntProgress(value=0, max=76396), HTML(value='')))"
      ]
     },
     "metadata": {},
     "output_type": "display_data"
    },
    {
     "name": "stdout",
     "output_type": "stream",
     "text": [
      "  Epoch  29 : loss = 5714.78154455 | training error = 0.27350257017469237 | validation error = 0.2870649673145265\n"
     ]
    },
    {
     "data": {
      "application/vnd.jupyter.widget-view+json": {
       "model_id": "c5868c151d6e42129b4c7e4bd71f5493",
       "version_major": 2,
       "version_minor": 0
      },
      "text/plain": [
       "HBox(children=(IntProgress(value=0, max=76396), HTML(value='')))"
      ]
     },
     "metadata": {},
     "output_type": "display_data"
    },
    {
     "name": "stdout",
     "output_type": "stream",
     "text": [
      "  Epoch  30 : loss = 5714.76729031 | training error = 0.27350257318116644 | validation error = 0.2870664378340414\n"
     ]
    },
    {
     "data": {
      "application/vnd.jupyter.widget-view+json": {
       "model_id": "3beaa754375e4876b5ada6a307c46de3",
       "version_major": 2,
       "version_minor": 0
      },
      "text/plain": [
       "HBox(children=(IntProgress(value=0, max=76396), HTML(value='')))"
      ]
     },
     "metadata": {},
     "output_type": "display_data"
    },
    {
     "name": "stdout",
     "output_type": "stream",
     "text": [
      "  Epoch  31 : loss = 5714.76707093 | training error = 0.27350256300884535 | validation error = 0.28706768298251106\n"
     ]
    },
    {
     "data": {
      "application/vnd.jupyter.widget-view+json": {
       "model_id": "3da383261e754b4db513a8a6521321fc",
       "version_major": 2,
       "version_minor": 0
      },
      "text/plain": [
       "HBox(children=(IntProgress(value=0, max=76396), HTML(value='')))"
      ]
     },
     "metadata": {},
     "output_type": "display_data"
    },
    {
     "name": "stdout",
     "output_type": "stream",
     "text": [
      "  Epoch  32 : loss = 5714.76667114 | training error = 0.273502553428724 | validation error = 0.28706877598661346\n"
     ]
    },
    {
     "data": {
      "application/vnd.jupyter.widget-view+json": {
       "model_id": "5fe870f032c548c297983e50beb8d19a",
       "version_major": 2,
       "version_minor": 0
      },
      "text/plain": [
       "HBox(children=(IntProgress(value=0, max=76396), HTML(value='')))"
      ]
     },
     "metadata": {},
     "output_type": "display_data"
    },
    {
     "name": "stdout",
     "output_type": "stream",
     "text": [
      "  Epoch  33 : loss = 5714.76630461 | training error = 0.2735025453078554 | validation error = 0.2870697343214345\n"
     ]
    },
    {
     "data": {
      "application/vnd.jupyter.widget-view+json": {
       "model_id": "7f255c01b3e54d48a1e830a1c527c26c",
       "version_major": 2,
       "version_minor": 0
      },
      "text/plain": [
       "HBox(children=(IntProgress(value=0, max=76396), HTML(value='')))"
      ]
     },
     "metadata": {},
     "output_type": "display_data"
    },
    {
     "name": "stdout",
     "output_type": "stream",
     "text": [
      "  Epoch  34 : loss = 5714.76600202 | training error = 0.27350253882672143 | validation error = 0.28707057632013105\n"
     ]
    },
    {
     "data": {
      "application/vnd.jupyter.widget-view+json": {
       "model_id": "387562a81005493890556d1ebe44b462",
       "version_major": 2,
       "version_minor": 0
      },
      "text/plain": [
       "HBox(children=(IntProgress(value=0, max=76396), HTML(value='')))"
      ]
     },
     "metadata": {},
     "output_type": "display_data"
    },
    {
     "name": "stdout",
     "output_type": "stream",
     "text": [
      "  Epoch  35 : loss = 5714.76576732 | training error = 0.2735025337142076 | validation error = 0.28707131706430744\n"
     ]
    },
    {
     "data": {
      "application/vnd.jupyter.widget-view+json": {
       "model_id": "a2b75ddc677b4f6b9958b02c69458179",
       "version_major": 2,
       "version_minor": 0
      },
      "text/plain": [
       "HBox(children=(IntProgress(value=0, max=76396), HTML(value='')))"
      ]
     },
     "metadata": {},
     "output_type": "display_data"
    },
    {
     "name": "stdout",
     "output_type": "stream",
     "text": [
      "  Epoch  36 : loss = 5714.76556697 | training error = 0.27350252942939857 | validation error = 0.2870719628654664\n"
     ]
    },
    {
     "data": {
      "application/vnd.jupyter.widget-view+json": {
       "model_id": "f1a858e29f1f4341aa84a2074ae38ef1",
       "version_major": 2,
       "version_minor": 0
      },
      "text/plain": [
       "HBox(children=(IntProgress(value=0, max=76396), HTML(value='')))"
      ]
     },
     "metadata": {},
     "output_type": "display_data"
    },
    {
     "name": "stdout",
     "output_type": "stream",
     "text": [
      "  Epoch  37 : loss = 5714.76540721 | training error = 0.27350252668946484 | validation error = 0.28707252764042274\n"
     ]
    },
    {
     "data": {
      "application/vnd.jupyter.widget-view+json": {
       "model_id": "ba483470581140f7a82069a734a13c71",
       "version_major": 2,
       "version_minor": 0
      },
      "text/plain": [
       "HBox(children=(IntProgress(value=0, max=76396), HTML(value='')))"
      ]
     },
     "metadata": {},
     "output_type": "display_data"
    },
    {
     "name": "stdout",
     "output_type": "stream",
     "text": [
      "  Epoch  38 : loss = 5714.76528263 | training error = 0.2735025234521591 | validation error = 0.28707301814673397\n"
     ]
    },
    {
     "data": {
      "application/vnd.jupyter.widget-view+json": {
       "model_id": "4fcf06639d574fa9a4cc6f9a7b3b4a4f",
       "version_major": 2,
       "version_minor": 0
      },
      "text/plain": [
       "HBox(children=(IntProgress(value=0, max=76396), HTML(value='')))"
      ]
     },
     "metadata": {},
     "output_type": "display_data"
    },
    {
     "name": "stdout",
     "output_type": "stream",
     "text": [
      "  Epoch  39 : loss = 5714.76518072 | training error = 0.27350252148027515 | validation error = 0.28707345128914985\n"
     ]
    },
    {
     "data": {
      "application/vnd.jupyter.widget-view+json": {
       "model_id": "228c0957dd2d4649a622ad3ee55dc520",
       "version_major": 2,
       "version_minor": 0
      },
      "text/plain": [
       "HBox(children=(IntProgress(value=0, max=76396), HTML(value='')))"
      ]
     },
     "metadata": {},
     "output_type": "display_data"
    },
    {
     "name": "stdout",
     "output_type": "stream",
     "text": [
      "  Epoch  40 : loss = 5714.69871692 | training error = 0.2735019272379451 | validation error = 0.2870772783326725\n"
     ]
    },
    {
     "data": {
      "application/vnd.jupyter.widget-view+json": {
       "model_id": "2681808be05543178a31cde1bf528baf",
       "version_major": 2,
       "version_minor": 0
      },
      "text/plain": [
       "HBox(children=(IntProgress(value=0, max=76396), HTML(value='')))"
      ]
     },
     "metadata": {},
     "output_type": "display_data"
    },
    {
     "name": "stdout",
     "output_type": "stream",
     "text": [
      "  Epoch  41 : loss = 5714.68519975 | training error = 0.2735017604408784 | validation error = 0.2870788475889905\n"
     ]
    },
    {
     "data": {
      "application/vnd.jupyter.widget-view+json": {
       "model_id": "c79a6445fc0843e7afcadb27e0301c88",
       "version_major": 2,
       "version_minor": 0
      },
      "text/plain": [
       "HBox(children=(IntProgress(value=0, max=76396), HTML(value='')))"
      ]
     },
     "metadata": {},
     "output_type": "display_data"
    },
    {
     "name": "stdout",
     "output_type": "stream",
     "text": [
      "  Epoch  42 : loss = 5714.68071569 | training error = 0.27350169109654016 | validation error = 0.2870794419838512\n"
     ]
    },
    {
     "data": {
      "application/vnd.jupyter.widget-view+json": {
       "model_id": "e3b8afe1c72f462a8dde05014bc63bc8",
       "version_major": 2,
       "version_minor": 0
      },
      "text/plain": [
       "HBox(children=(IntProgress(value=0, max=76396), HTML(value='')))"
      ]
     },
     "metadata": {},
     "output_type": "display_data"
    },
    {
     "name": "stdout",
     "output_type": "stream",
     "text": [
      "  Epoch  43 : loss = 5714.67856205 | training error = 0.2735016527232432 | validation error = 0.2870796483261767\n"
     ]
    },
    {
     "data": {
      "application/vnd.jupyter.widget-view+json": {
       "model_id": "1f0b7726edf348b8bb2dc1e8903d052b",
       "version_major": 2,
       "version_minor": 0
      },
      "text/plain": [
       "HBox(children=(IntProgress(value=0, max=76396), HTML(value='')))"
      ]
     },
     "metadata": {},
     "output_type": "display_data"
    },
    {
     "name": "stdout",
     "output_type": "stream",
     "text": [
      "  Epoch  44 : loss = 5714.67729141 | training error = 0.27350162910053955 | validation error = 0.28707970276243155\n"
     ]
    },
    {
     "data": {
      "application/vnd.jupyter.widget-view+json": {
       "model_id": "adac268b16a44dedbf9f666b474e08c2",
       "version_major": 2,
       "version_minor": 0
      },
      "text/plain": [
       "HBox(children=(IntProgress(value=0, max=76396), HTML(value='')))"
      ]
     },
     "metadata": {},
     "output_type": "display_data"
    },
    {
     "name": "stdout",
     "output_type": "stream",
     "text": [
      "  Epoch  45 : loss = 5714.67647888 | training error = 0.2735016131905294 | validation error = 0.2870797097311894\n"
     ]
    },
    {
     "data": {
      "application/vnd.jupyter.widget-view+json": {
       "model_id": "1389449eaae34281984df8d0b9d9feec",
       "version_major": 2,
       "version_minor": 0
      },
      "text/plain": [
       "HBox(children=(IntProgress(value=0, max=76396), HTML(value='')))"
      ]
     },
     "metadata": {},
     "output_type": "display_data"
    },
    {
     "name": "stdout",
     "output_type": "stream",
     "text": [
      "  Epoch  46 : loss = 5714.67593305 | training error = 0.2735016020462398 | validation error = 0.287079710125958\n"
     ]
    },
    {
     "data": {
      "application/vnd.jupyter.widget-view+json": {
       "model_id": "916f236d21d44d0692194d282576f0d9",
       "version_major": 2,
       "version_minor": 0
      },
      "text/plain": [
       "HBox(children=(IntProgress(value=0, max=76396), HTML(value='')))"
      ]
     },
     "metadata": {},
     "output_type": "display_data"
    },
    {
     "name": "stdout",
     "output_type": "stream",
     "text": [
      "  Epoch  47 : loss = 5714.67554330 | training error = 0.27350159443176564 | validation error = 0.2870797130171679\n"
     ]
    },
    {
     "data": {
      "application/vnd.jupyter.widget-view+json": {
       "model_id": "60effd1f86244f5d9097d9271b220144",
       "version_major": 2,
       "version_minor": 0
      },
      "text/plain": [
       "HBox(children=(IntProgress(value=0, max=76396), HTML(value='')))"
      ]
     },
     "metadata": {},
     "output_type": "display_data"
    },
    {
     "name": "stdout",
     "output_type": "stream",
     "text": [
      "  Epoch  48 : loss = 5714.67527141 | training error = 0.2735015889177042 | validation error = 0.2870797238238919\n"
     ]
    },
    {
     "data": {
      "application/vnd.jupyter.widget-view+json": {
       "model_id": "5f5378e1cb254270b2bef3e8a33b4386",
       "version_major": 2,
       "version_minor": 0
      },
      "text/plain": [
       "HBox(children=(IntProgress(value=0, max=76396), HTML(value='')))"
      ]
     },
     "metadata": {},
     "output_type": "display_data"
    },
    {
     "name": "stdout",
     "output_type": "stream",
     "text": [
      "  Epoch  49 : loss = 5714.67507228 | training error = 0.273501584854137 | validation error = 0.28707973868048337\n"
     ]
    },
    {
     "data": {
      "application/vnd.jupyter.widget-view+json": {
       "model_id": "8b1e08794728408885e2010feb8ac355",
       "version_major": 2,
       "version_minor": 0
      },
      "text/plain": [
       "HBox(children=(IntProgress(value=0, max=76396), HTML(value='')))"
      ]
     },
     "metadata": {},
     "output_type": "display_data"
    },
    {
     "name": "stdout",
     "output_type": "stream",
     "text": [
      "  Epoch  50 : loss = 5714.67492748 | training error = 0.27350158183535617 | validation error = 0.2870797595866642\n"
     ]
    },
    {
     "data": {
      "application/vnd.jupyter.widget-view+json": {
       "model_id": "9aa3b537476b4efd8ab3b60be34b6bbc",
       "version_major": 2,
       "version_minor": 0
      },
      "text/plain": [
       "HBox(children=(IntProgress(value=0, max=76396), HTML(value='')))"
      ]
     },
     "metadata": {},
     "output_type": "display_data"
    },
    {
     "name": "stdout",
     "output_type": "stream",
     "text": [
      "  Epoch  51 : loss = 5714.66414476 | training error = 0.27350157463615316 | validation error = 0.28708059663913776\n"
     ]
    },
    {
     "data": {
      "application/vnd.jupyter.widget-view+json": {
       "model_id": "37f26a0da38f4e23b3b2fb15067d68bf",
       "version_major": 2,
       "version_minor": 0
      },
      "text/plain": [
       "HBox(children=(IntProgress(value=0, max=76396), HTML(value='')))"
      ]
     },
     "metadata": {},
     "output_type": "display_data"
    },
    {
     "name": "stdout",
     "output_type": "stream",
     "text": [
      "  Epoch  52 : loss = 5714.66386955 | training error = 0.27350156883562404 | validation error = 0.28708141758947286\n"
     ]
    },
    {
     "data": {
      "application/vnd.jupyter.widget-view+json": {
       "model_id": "47ab5262e6c04f1f84671234329dd38f",
       "version_major": 2,
       "version_minor": 0
      },
      "text/plain": [
       "HBox(children=(IntProgress(value=0, max=76396), HTML(value='')))"
      ]
     },
     "metadata": {},
     "output_type": "display_data"
    },
    {
     "name": "stdout",
     "output_type": "stream",
     "text": [
      "  Epoch  53 : loss = 5714.66365432 | training error = 0.27350156437970125 | validation error = 0.287082223850678\n"
     ]
    },
    {
     "data": {
      "application/vnd.jupyter.widget-view+json": {
       "model_id": "8d62d2d40a694bbd8d1a7022a0538cd7",
       "version_major": 2,
       "version_minor": 0
      },
      "text/plain": [
       "HBox(children=(IntProgress(value=0, max=76396), HTML(value='')))"
      ]
     },
     "metadata": {},
     "output_type": "display_data"
    },
    {
     "name": "stdout",
     "output_type": "stream",
     "text": [
      "  Epoch  54 : loss = 5714.66349144 | training error = 0.2735015611125796 | validation error = 0.28708301628562555\n"
     ]
    },
    {
     "data": {
      "application/vnd.jupyter.widget-view+json": {
       "model_id": "563d0471bf914c968d3a5c8e9f92be11",
       "version_major": 2,
       "version_minor": 0
      },
      "text/plain": [
       "HBox(children=(IntProgress(value=0, max=76396), HTML(value='')))"
      ]
     },
     "metadata": {},
     "output_type": "display_data"
    },
    {
     "name": "stdout",
     "output_type": "stream",
     "text": [
      "  Epoch  55 : loss = 5714.66337298 | training error = 0.27350155868882337 | validation error = 0.2870837956461914\n"
     ]
    },
    {
     "data": {
      "application/vnd.jupyter.widget-view+json": {
       "model_id": "9c12ea267587403f8a146c3b1dd956f6",
       "version_major": 2,
       "version_minor": 0
      },
      "text/plain": [
       "HBox(children=(IntProgress(value=0, max=76396), HTML(value='')))"
      ]
     },
     "metadata": {},
     "output_type": "display_data"
    },
    {
     "name": "stdout",
     "output_type": "stream",
     "text": [
      "  Epoch  56 : loss = 5714.66329096 | training error = 0.27350155724366004 | validation error = 0.28708456335267235\n"
     ]
    },
    {
     "data": {
      "application/vnd.jupyter.widget-view+json": {
       "model_id": "5ed91cdabcb349f7a9dcbcb53b7b70c2",
       "version_major": 2,
       "version_minor": 0
      },
      "text/plain": [
       "HBox(children=(IntProgress(value=0, max=76396), HTML(value='')))"
      ]
     },
     "metadata": {},
     "output_type": "display_data"
    },
    {
     "name": "stdout",
     "output_type": "stream",
     "text": [
      "  Epoch  57 : loss = 5714.66324571 | training error = 0.2735015567347723 | validation error = 0.287085319735852\n"
     ]
    },
    {
     "data": {
      "application/vnd.jupyter.widget-view+json": {
       "model_id": "e87e185be15d43d19662c659b88876c5",
       "version_major": 2,
       "version_minor": 0
      },
      "text/plain": [
       "HBox(children=(IntProgress(value=0, max=76396), HTML(value='')))"
      ]
     },
     "metadata": {},
     "output_type": "display_data"
    },
    {
     "name": "stdout",
     "output_type": "stream",
     "text": [
      "  Epoch  58 : loss = 5714.66323391 | training error = 0.27350155684776417 | validation error = 0.2870860661904239\n"
     ]
    },
    {
     "data": {
      "application/vnd.jupyter.widget-view+json": {
       "model_id": "252e581fe8044ec3a93df5c0c57f72ac",
       "version_major": 2,
       "version_minor": 0
      },
      "text/plain": [
       "HBox(children=(IntProgress(value=0, max=76396), HTML(value='')))"
      ]
     },
     "metadata": {},
     "output_type": "display_data"
    },
    {
     "name": "stdout",
     "output_type": "stream",
     "text": [
      "  Epoch  59 : loss = 5714.66325023 | training error = 0.2735015576278314 | validation error = 0.2870868031480177\n"
     ]
    },
    {
     "data": {
      "application/vnd.jupyter.widget-view+json": {
       "model_id": "999bc0034adc40e2bf52a6ef4a336263",
       "version_major": 2,
       "version_minor": 0
      },
      "text/plain": [
       "HBox(children=(IntProgress(value=0, max=76396), HTML(value='')))"
      ]
     },
     "metadata": {},
     "output_type": "display_data"
    },
    {
     "name": "stdout",
     "output_type": "stream",
     "text": [
      "  Epoch  60 : loss = 5714.66329479 | training error = 0.27350155891482936 | validation error = 0.28708753204341253\n"
     ]
    },
    {
     "data": {
      "application/vnd.jupyter.widget-view+json": {
       "model_id": "f697ebb9e6d64b1bacc883835230e3be",
       "version_major": 2,
       "version_minor": 0
      },
      "text/plain": [
       "HBox(children=(IntProgress(value=0, max=76396), HTML(value='')))"
      ]
     },
     "metadata": {},
     "output_type": "display_data"
    },
    {
     "name": "stdout",
     "output_type": "stream",
     "text": [
      "  Epoch  61 : loss = 5714.66336302 | training error = 0.27350156091546424 | validation error = 0.2870882517841296\n"
     ]
    },
    {
     "data": {
      "application/vnd.jupyter.widget-view+json": {
       "model_id": "ef79c86145294f1a82940390c5346784",
       "version_major": 2,
       "version_minor": 0
      },
      "text/plain": [
       "HBox(children=(IntProgress(value=0, max=76396), HTML(value='')))"
      ]
     },
     "metadata": {},
     "output_type": "display_data"
    },
    {
     "name": "stdout",
     "output_type": "stream",
     "text": [
      "  Epoch  62 : loss = 5714.66180066 | training error = 0.2735015614268098 | validation error = 0.2870883332982073\n"
     ]
    },
    {
     "data": {
      "application/vnd.jupyter.widget-view+json": {
       "model_id": "8e5acbe7425f4043ab9ae829f8dc2988",
       "version_major": 2,
       "version_minor": 0
      },
      "text/plain": [
       "HBox(children=(IntProgress(value=0, max=76396), HTML(value='')))"
      ]
     },
     "metadata": {},
     "output_type": "display_data"
    },
    {
     "name": "stdout",
     "output_type": "stream",
     "text": [
      "  Epoch  63 : loss = 5714.66182205 | training error = 0.27350156191859354 | validation error = 0.28708841456287454\n"
     ]
    },
    {
     "data": {
      "application/vnd.jupyter.widget-view+json": {
       "model_id": "ac2b49d01628420f9b4ddee9456dff74",
       "version_major": 2,
       "version_minor": 0
      },
      "text/plain": [
       "HBox(children=(IntProgress(value=0, max=76396), HTML(value='')))"
      ]
     },
     "metadata": {},
     "output_type": "display_data"
    },
    {
     "name": "stdout",
     "output_type": "stream",
     "text": [
      "  Epoch  64 : loss = 5714.66184694 | training error = 0.27350156248603713 | validation error = 0.2870884952962664\n"
     ]
    },
    {
     "data": {
      "application/vnd.jupyter.widget-view+json": {
       "model_id": "31a4af055fc54b2e898801a525df4db9",
       "version_major": 2,
       "version_minor": 0
      },
      "text/plain": [
       "HBox(children=(IntProgress(value=0, max=76396), HTML(value='')))"
      ]
     },
     "metadata": {},
     "output_type": "display_data"
    },
    {
     "name": "stdout",
     "output_type": "stream",
     "text": [
      "  Epoch  65 : loss = 5714.66187648 | training error = 0.27350156312412477 | validation error = 0.28708857575695435\n"
     ]
    },
    {
     "data": {
      "application/vnd.jupyter.widget-view+json": {
       "model_id": "8fa97e279ab247b18ed67531b563744d",
       "version_major": 2,
       "version_minor": 0
      },
      "text/plain": [
       "HBox(children=(IntProgress(value=0, max=76396), HTML(value='')))"
      ]
     },
     "metadata": {},
     "output_type": "display_data"
    },
    {
     "name": "stdout",
     "output_type": "stream",
     "text": [
      "  Epoch  66 : loss = 5714.66190072 | training error = 0.27350156389347796 | validation error = 0.28708865646566006\n"
     ]
    },
    {
     "data": {
      "application/vnd.jupyter.widget-view+json": {
       "model_id": "4b1ff9dcac4d43f69ccff80a3ffe2f6c",
       "version_major": 2,
       "version_minor": 0
      },
      "text/plain": [
       "HBox(children=(IntProgress(value=0, max=76396), HTML(value='')))"
      ]
     },
     "metadata": {},
     "output_type": "display_data"
    },
    {
     "name": "stdout",
     "output_type": "stream",
     "text": [
      "  Epoch  67 : loss = 5714.66192999 | training error = 0.2735015647513121 | validation error = 0.2870887372274015\n"
     ]
    },
    {
     "data": {
      "application/vnd.jupyter.widget-view+json": {
       "model_id": "f287fe7f55d84d3c9ea87a6d318f401c",
       "version_major": 2,
       "version_minor": 0
      },
      "text/plain": [
       "HBox(children=(IntProgress(value=0, max=76396), HTML(value='')))"
      ]
     },
     "metadata": {},
     "output_type": "display_data"
    },
    {
     "name": "stdout",
     "output_type": "stream",
     "text": [
      "  Epoch  68 : loss = 5714.66195848 | training error = 0.27350156522041896 | validation error = 0.2870888170310845\n"
     ]
    },
    {
     "data": {
      "application/vnd.jupyter.widget-view+json": {
       "model_id": "c94b0fe7d2e54989bd9e94495e3e1591",
       "version_major": 2,
       "version_minor": 0
      },
      "text/plain": [
       "HBox(children=(IntProgress(value=0, max=76396), HTML(value='')))"
      ]
     },
     "metadata": {},
     "output_type": "display_data"
    },
    {
     "name": "stdout",
     "output_type": "stream",
     "text": [
      "  Epoch  69 : loss = 5714.66198879 | training error = 0.2735015663677891 | validation error = 0.287088897376143\n"
     ]
    },
    {
     "data": {
      "application/vnd.jupyter.widget-view+json": {
       "model_id": "728b0916ab984cb68437db05719c9d67",
       "version_major": 2,
       "version_minor": 0
      },
      "text/plain": [
       "HBox(children=(IntProgress(value=0, max=76396), HTML(value='')))"
      ]
     },
     "metadata": {},
     "output_type": "display_data"
    },
    {
     "name": "stdout",
     "output_type": "stream",
     "text": [
      "  Epoch  70 : loss = 5714.66202548 | training error = 0.2735015669773963 | validation error = 0.2870889770061382\n"
     ]
    },
    {
     "data": {
      "application/vnd.jupyter.widget-view+json": {
       "model_id": "1e25b5059ab14b638b7d09d08522dbda",
       "version_major": 2,
       "version_minor": 0
      },
      "text/plain": [
       "HBox(children=(IntProgress(value=0, max=76396), HTML(value='')))"
      ]
     },
     "metadata": {},
     "output_type": "display_data"
    },
    {
     "name": "stdout",
     "output_type": "stream",
     "text": [
      "  Epoch  71 : loss = 5714.66206414 | training error = 0.273501567960217 | validation error = 0.2870890567690972\n"
     ]
    },
    {
     "data": {
      "application/vnd.jupyter.widget-view+json": {
       "model_id": "744df152cfd847358b7d681dbe0a90b7",
       "version_major": 2,
       "version_minor": 0
      },
      "text/plain": [
       "HBox(children=(IntProgress(value=0, max=76396), HTML(value='')))"
      ]
     },
     "metadata": {},
     "output_type": "display_data"
    },
    {
     "name": "stdout",
     "output_type": "stream",
     "text": [
      "  Epoch  72 : loss = 5714.66209869 | training error = 0.2735015689050028 | validation error = 0.28708913564073074\n"
     ]
    },
    {
     "data": {
      "application/vnd.jupyter.widget-view+json": {
       "model_id": "a4f8b00234344d629dcc1506ce593d63",
       "version_major": 2,
       "version_minor": 0
      },
      "text/plain": [
       "HBox(children=(IntProgress(value=0, max=76396), HTML(value='')))"
      ]
     },
     "metadata": {},
     "output_type": "display_data"
    },
    {
     "name": "stdout",
     "output_type": "stream",
     "text": [
      "  Epoch  73 : loss = 5714.66194307 | training error = 0.2735015689984512 | validation error = 0.28708914010109743\n"
     ]
    },
    {
     "data": {
      "application/vnd.jupyter.widget-view+json": {
       "model_id": "6c335c0e2a2f4ab0826a37bea389c9a9",
       "version_major": 2,
       "version_minor": 0
      },
      "text/plain": [
       "HBox(children=(IntProgress(value=0, max=76396), HTML(value='')))"
      ]
     },
     "metadata": {},
     "output_type": "display_data"
    },
    {
     "name": "stdout",
     "output_type": "stream",
     "text": [
      "  Epoch  74 : loss = 5714.66194353 | training error = 0.27350156889330546 | validation error = 0.28708914443493433\n"
     ]
    },
    {
     "data": {
      "application/vnd.jupyter.widget-view+json": {
       "model_id": "217f42435c974d3383c95e388d381d18",
       "version_major": 2,
       "version_minor": 0
      },
      "text/plain": [
       "HBox(children=(IntProgress(value=0, max=76396), HTML(value='')))"
      ]
     },
     "metadata": {},
     "output_type": "display_data"
    },
    {
     "name": "stdout",
     "output_type": "stream",
     "text": [
      "  Epoch  75 : loss = 5714.66194926 | training error = 0.2735015690227937 | validation error = 0.2870891489929401\n"
     ]
    },
    {
     "data": {
      "application/vnd.jupyter.widget-view+json": {
       "model_id": "55e0cd929b0b4e7fb3c14571f2831e67",
       "version_major": 2,
       "version_minor": 0
      },
      "text/plain": [
       "HBox(children=(IntProgress(value=0, max=76396), HTML(value='')))"
      ]
     },
     "metadata": {},
     "output_type": "display_data"
    },
    {
     "name": "stdout",
     "output_type": "stream",
     "text": [
      "  Epoch  76 : loss = 5714.66195285 | training error = 0.2735015689541615 | validation error = 0.28708915340236074\n"
     ]
    },
    {
     "data": {
      "application/vnd.jupyter.widget-view+json": {
       "model_id": "451c188e00ea468490982ed908684eb5",
       "version_major": 2,
       "version_minor": 0
      },
      "text/plain": [
       "HBox(children=(IntProgress(value=0, max=76396), HTML(value='')))"
      ]
     },
     "metadata": {},
     "output_type": "display_data"
    },
    {
     "name": "stdout",
     "output_type": "stream",
     "text": [
      "  Epoch  77 : loss = 5714.66195363 | training error = 0.27350156918854335 | validation error = 0.28708915807530727\n"
     ]
    },
    {
     "data": {
      "application/vnd.jupyter.widget-view+json": {
       "model_id": "60f5d8c65c6b49138c328b14b24c57ad",
       "version_major": 2,
       "version_minor": 0
      },
      "text/plain": [
       "HBox(children=(IntProgress(value=0, max=76396), HTML(value='')))"
      ]
     },
     "metadata": {},
     "output_type": "display_data"
    },
    {
     "name": "stdout",
     "output_type": "stream",
     "text": [
      "  Epoch  78 : loss = 5714.66195840 | training error = 0.2735015692975682 | validation error = 0.2870891627537318\n"
     ]
    },
    {
     "data": {
      "application/vnd.jupyter.widget-view+json": {
       "model_id": "e0548c8c7ded489aa030c9115f0707aa",
       "version_major": 2,
       "version_minor": 0
      },
      "text/plain": [
       "HBox(children=(IntProgress(value=0, max=76396), HTML(value='')))"
      ]
     },
     "metadata": {},
     "output_type": "display_data"
    },
    {
     "name": "stdout",
     "output_type": "stream",
     "text": [
      "  Epoch  79 : loss = 5714.66196001 | training error = 0.27350156933686776 | validation error = 0.2870891672668355\n"
     ]
    },
    {
     "data": {
      "application/vnd.jupyter.widget-view+json": {
       "model_id": "547fcaf9a3244d3e839508a181411f14",
       "version_major": 2,
       "version_minor": 0
      },
      "text/plain": [
       "HBox(children=(IntProgress(value=0, max=76396), HTML(value='')))"
      ]
     },
     "metadata": {},
     "output_type": "display_data"
    },
    {
     "name": "stdout",
     "output_type": "stream",
     "text": [
      "  Epoch  80 : loss = 5714.66196625 | training error = 0.27350156953609084 | validation error = 0.2870891718225653\n"
     ]
    },
    {
     "data": {
      "application/vnd.jupyter.widget-view+json": {
       "model_id": "c3a16df2b2764feba3fe74a43ee90766",
       "version_major": 2,
       "version_minor": 0
      },
      "text/plain": [
       "HBox(children=(IntProgress(value=0, max=76396), HTML(value='')))"
      ]
     },
     "metadata": {},
     "output_type": "display_data"
    },
    {
     "name": "stdout",
     "output_type": "stream",
     "text": [
      "  Epoch  81 : loss = 5714.66197009 | training error = 0.27350156947098253 | validation error = 0.28708917617181395\n"
     ]
    },
    {
     "data": {
      "application/vnd.jupyter.widget-view+json": {
       "model_id": "0fc8e580e7a141d5aa8dfa6fc670047c",
       "version_major": 2,
       "version_minor": 0
      },
      "text/plain": [
       "HBox(children=(IntProgress(value=0, max=76396), HTML(value='')))"
      ]
     },
     "metadata": {},
     "output_type": "display_data"
    },
    {
     "name": "stdout",
     "output_type": "stream",
     "text": [
      "  Epoch  82 : loss = 5714.66197419 | training error = 0.2735015696008456 | validation error = 0.28708918073132605\n"
     ]
    },
    {
     "data": {
      "application/vnd.jupyter.widget-view+json": {
       "model_id": "4596e0775a83407fbc9af81c8c2bc925",
       "version_major": 2,
       "version_minor": 0
      },
      "text/plain": [
       "HBox(children=(IntProgress(value=0, max=76396), HTML(value='')))"
      ]
     },
     "metadata": {},
     "output_type": "display_data"
    },
    {
     "name": "stdout",
     "output_type": "stream",
     "text": [
      "  Epoch  83 : loss = 5714.66197411 | training error = 0.273501569552715 | validation error = 0.28708918519477167\n"
     ]
    },
    {
     "data": {
      "application/vnd.jupyter.widget-view+json": {
       "model_id": "01ee6a9582bb43c0b40d9a094b08c720",
       "version_major": 2,
       "version_minor": 0
      },
      "text/plain": [
       "HBox(children=(IntProgress(value=0, max=76396), HTML(value='')))"
      ]
     },
     "metadata": {},
     "output_type": "display_data"
    },
    {
     "name": "stdout",
     "output_type": "stream",
     "text": [
      "  Epoch  84 : loss = 5714.66196557 | training error = 0.273501569552715 | validation error = 0.28708918519477167\n"
     ]
    },
    {
     "data": {
      "application/vnd.jupyter.widget-view+json": {
       "model_id": "5aaf0279f4fa48739871a06bcf3f8052",
       "version_major": 2,
       "version_minor": 0
      },
      "text/plain": [
       "HBox(children=(IntProgress(value=0, max=76396), HTML(value='')))"
      ]
     },
     "metadata": {},
     "output_type": "display_data"
    },
    {
     "name": "stdout",
     "output_type": "stream",
     "text": [
      "  Epoch  85 : loss = 5714.66196557 | training error = 0.273501569552715 | validation error = 0.28708918519477167\n"
     ]
    },
    {
     "data": {
      "application/vnd.jupyter.widget-view+json": {
       "model_id": "014ef5feea60466583d2b6236109a2d3",
       "version_major": 2,
       "version_minor": 0
      },
      "text/plain": [
       "HBox(children=(IntProgress(value=0, max=76396), HTML(value='')))"
      ]
     },
     "metadata": {},
     "output_type": "display_data"
    },
    {
     "name": "stdout",
     "output_type": "stream",
     "text": [
      "  Epoch  86 : loss = 5714.66196557 | training error = 0.273501569552715 | validation error = 0.28708918519477167\n"
     ]
    },
    {
     "data": {
      "application/vnd.jupyter.widget-view+json": {
       "model_id": "10aa1869200544b5ba2661612b91869f",
       "version_major": 2,
       "version_minor": 0
      },
      "text/plain": [
       "HBox(children=(IntProgress(value=0, max=76396), HTML(value='')))"
      ]
     },
     "metadata": {},
     "output_type": "display_data"
    },
    {
     "name": "stdout",
     "output_type": "stream",
     "text": [
      "  Epoch  87 : loss = 5714.66196557 | training error = 0.273501569552715 | validation error = 0.28708918519477167\n"
     ]
    },
    {
     "data": {
      "application/vnd.jupyter.widget-view+json": {
       "model_id": "732f8e9d22114a58b0c46bedb5db108b",
       "version_major": 2,
       "version_minor": 0
      },
      "text/plain": [
       "HBox(children=(IntProgress(value=0, max=76396), HTML(value='')))"
      ]
     },
     "metadata": {},
     "output_type": "display_data"
    },
    {
     "name": "stdout",
     "output_type": "stream",
     "text": [
      "  Epoch  88 : loss = 5714.66196557 | training error = 0.273501569552715 | validation error = 0.28708918519477167\n"
     ]
    },
    {
     "data": {
      "application/vnd.jupyter.widget-view+json": {
       "model_id": "9326c72dc28b483689bcdc498df33861",
       "version_major": 2,
       "version_minor": 0
      },
      "text/plain": [
       "HBox(children=(IntProgress(value=0, max=76396), HTML(value='')))"
      ]
     },
     "metadata": {},
     "output_type": "display_data"
    },
    {
     "name": "stdout",
     "output_type": "stream",
     "text": [
      "  Epoch  89 : loss = 5714.66196557 | training error = 0.273501569552715 | validation error = 0.28708918519477167\n"
     ]
    },
    {
     "data": {
      "application/vnd.jupyter.widget-view+json": {
       "model_id": "ed7560d0e2ed4a6ea19bed26c142bfdd",
       "version_major": 2,
       "version_minor": 0
      },
      "text/plain": [
       "HBox(children=(IntProgress(value=0, max=76396), HTML(value='')))"
      ]
     },
     "metadata": {},
     "output_type": "display_data"
    },
    {
     "name": "stdout",
     "output_type": "stream",
     "text": [
      "  Epoch  90 : loss = 5714.66196557 | training error = 0.273501569552715 | validation error = 0.28708918519477167\n"
     ]
    },
    {
     "data": {
      "application/vnd.jupyter.widget-view+json": {
       "model_id": "74cabaf3cf854172a5ff74ebfe9919e1",
       "version_major": 2,
       "version_minor": 0
      },
      "text/plain": [
       "HBox(children=(IntProgress(value=0, max=76396), HTML(value='')))"
      ]
     },
     "metadata": {},
     "output_type": "display_data"
    },
    {
     "name": "stdout",
     "output_type": "stream",
     "text": [
      "  Epoch  91 : loss = 5714.66196557 | training error = 0.273501569552715 | validation error = 0.28708918519477167\n"
     ]
    },
    {
     "data": {
      "application/vnd.jupyter.widget-view+json": {
       "model_id": "a6f5921e60ea44e59c5ee3a744c8dba9",
       "version_major": 2,
       "version_minor": 0
      },
      "text/plain": [
       "HBox(children=(IntProgress(value=0, max=76396), HTML(value='')))"
      ]
     },
     "metadata": {},
     "output_type": "display_data"
    },
    {
     "name": "stdout",
     "output_type": "stream",
     "text": [
      "  Epoch  92 : loss = 5714.66196557 | training error = 0.273501569552715 | validation error = 0.28708918519477167\n"
     ]
    },
    {
     "data": {
      "application/vnd.jupyter.widget-view+json": {
       "model_id": "f650003b183b4b13b3b38bde94e109a4",
       "version_major": 2,
       "version_minor": 0
      },
      "text/plain": [
       "HBox(children=(IntProgress(value=0, max=76396), HTML(value='')))"
      ]
     },
     "metadata": {},
     "output_type": "display_data"
    },
    {
     "name": "stdout",
     "output_type": "stream",
     "text": [
      "  Epoch  93 : loss = 5714.66196557 | training error = 0.273501569552715 | validation error = 0.28708918519477167\n"
     ]
    },
    {
     "data": {
      "application/vnd.jupyter.widget-view+json": {
       "model_id": "1dd406b072e944b6a9f641d44d2c73ba",
       "version_major": 2,
       "version_minor": 0
      },
      "text/plain": [
       "HBox(children=(IntProgress(value=0, max=76396), HTML(value='')))"
      ]
     },
     "metadata": {},
     "output_type": "display_data"
    },
    {
     "name": "stdout",
     "output_type": "stream",
     "text": [
      "  Epoch  94 : loss = 5714.66196557 | training error = 0.273501569552715 | validation error = 0.28708918519477167\n"
     ]
    },
    {
     "data": {
      "application/vnd.jupyter.widget-view+json": {
       "model_id": "9805839d8e4c417394028214ac663006",
       "version_major": 2,
       "version_minor": 0
      },
      "text/plain": [
       "HBox(children=(IntProgress(value=0, max=76396), HTML(value='')))"
      ]
     },
     "metadata": {},
     "output_type": "display_data"
    },
    {
     "name": "stdout",
     "output_type": "stream",
     "text": [
      "  Epoch  95 : loss = 5714.66196557 | training error = 0.273501569552715 | validation error = 0.28708918519477167\n"
     ]
    },
    {
     "data": {
      "application/vnd.jupyter.widget-view+json": {
       "model_id": "57348a45827d4a70ae3f904d2f6292c5",
       "version_major": 2,
       "version_minor": 0
      },
      "text/plain": [
       "HBox(children=(IntProgress(value=0, max=76396), HTML(value='')))"
      ]
     },
     "metadata": {},
     "output_type": "display_data"
    },
    {
     "name": "stdout",
     "output_type": "stream",
     "text": [
      "  Epoch  96 : loss = 5714.66196557 | training error = 0.273501569552715 | validation error = 0.28708918519477167\n"
     ]
    },
    {
     "data": {
      "application/vnd.jupyter.widget-view+json": {
       "model_id": "e8e0cfd49d434108afbcac46ac1d9a0a",
       "version_major": 2,
       "version_minor": 0
      },
      "text/plain": [
       "HBox(children=(IntProgress(value=0, max=76396), HTML(value='')))"
      ]
     },
     "metadata": {},
     "output_type": "display_data"
    },
    {
     "name": "stdout",
     "output_type": "stream",
     "text": [
      "  Epoch  97 : loss = 5714.66196557 | training error = 0.273501569552715 | validation error = 0.28708918519477167\n"
     ]
    },
    {
     "data": {
      "application/vnd.jupyter.widget-view+json": {
       "model_id": "1d106678bd5d47fdb0242c54d7a16957",
       "version_major": 2,
       "version_minor": 0
      },
      "text/plain": [
       "HBox(children=(IntProgress(value=0, max=76396), HTML(value='')))"
      ]
     },
     "metadata": {},
     "output_type": "display_data"
    },
    {
     "name": "stdout",
     "output_type": "stream",
     "text": [
      "  Epoch  98 : loss = 5714.66196557 | training error = 0.273501569552715 | validation error = 0.28708918519477167\n"
     ]
    },
    {
     "data": {
      "application/vnd.jupyter.widget-view+json": {
       "model_id": "4416649c4d564eec809cc664cc16054b",
       "version_major": 2,
       "version_minor": 0
      },
      "text/plain": [
       "HBox(children=(IntProgress(value=0, max=76396), HTML(value='')))"
      ]
     },
     "metadata": {},
     "output_type": "display_data"
    },
    {
     "name": "stdout",
     "output_type": "stream",
     "text": [
      "  Epoch  99 : loss = 5714.66196557 | training error = 0.273501569552715 | validation error = 0.28708918519477167\n"
     ]
    },
    {
     "data": {
      "application/vnd.jupyter.widget-view+json": {
       "model_id": "44230cee7aa24d3c93394d5978b797a5",
       "version_major": 2,
       "version_minor": 0
      },
      "text/plain": [
       "HBox(children=(IntProgress(value=0, max=76396), HTML(value='')))"
      ]
     },
     "metadata": {},
     "output_type": "display_data"
    },
    {
     "name": "stdout",
     "output_type": "stream",
     "text": [
      "  Epoch 100 : loss = 5714.66196557 | training error = 0.273501569552715 | validation error = 0.28708918519477167\n"
     ]
    }
   ],
   "source": [
    "#model_lr_reducer = nn.Sequential(nn.Linear(6,20), nn.BatchNorm1d(20), nn.Linear(20,10), nn.BatchNorm1d(10), nn.Linear(10,1), nn.Sigmoid())\n",
    "model_lr_reducer = nn.Sequential(nn.Linear(6,12), nn.Linear(12,1), nn.Sigmoid())\n",
    "reducer_res = train_model(model_lr_reducer, nb_epochs=100, mini_batch_size=16, learning_rate=0.05)"
   ]
  },
  {
   "cell_type": "code",
   "execution_count": 79,
   "metadata": {},
   "outputs": [
    {
     "data": {
      "image/png": "[encoded data removed]",
      "text/plain": [
       "<matplotlib.figure.Figure at 0x19b10e0b8>"
      ]
     },
     "metadata": {},
     "output_type": "display_data"
    }
   ],
   "source": [
    "plt.figure()\n",
    "plt.plot(range(1,len(reducer_res[0])+1),reducer_res[0])\n",
    "plt.xlabel(\"Nb of epochs\")\n",
    "plt.ylabel(\"Test error\")\n",
    "plt.xticks(range(0,len(reducer_res[0])+1,10))\n",
    "plt.show()"
   ]
  },
  {
   "cell_type": "code",
   "execution_count": 80,
   "metadata": {},
   "outputs": [
    {
     "data": {
      "text/plain": [
       "0.2870145624372396"
      ]
     },
     "execution_count": 80,
     "metadata": {},
     "output_type": "execute_result"
    }
   ],
   "source": [
    "reducer_res[1]"
   ]
  },
  {
   "cell_type": "code",
   "execution_count": null,
   "metadata": {
    "collapsed": true
   },
   "outputs": [],
   "source": []
  }
 ],
 "metadata": {
  "kernelspec": {
   "display_name": "Python 3",
   "language": "python",
   "name": "python3"
  },
  "language_info": {
   "codemirror_mode": {
    "name": "ipython",
    "version": 3
   },
   "file_extension": ".py",
   "mimetype": "text/x-python",
   "name": "python",
   "nbconvert_exporter": "python",
   "pygments_lexer": "ipython3",
   "version": "3.6.3"
  }
 },
 "nbformat": 4,
 "nbformat_minor": 2
}
