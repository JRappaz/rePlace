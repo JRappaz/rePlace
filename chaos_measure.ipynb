{
 "cells": [
  {
   "cell_type": "code",
   "execution_count": 47,
   "metadata": {
    "collapsed": true
   },
   "outputs": [],
   "source": [
    "import pandas as pd\n",
    "import numpy as np\n",
    "\n",
    "import matplotlib.pyplot as plt\n",
    "from matplotlib.colors import ListedColormap\n",
    "from tqdm import tqdm, tqdm_notebook"
   ]
  },
  {
   "cell_type": "code",
   "execution_count": 2,
   "metadata": {
    "scrolled": true
   },
   "outputs": [
    {
     "data": {
      "text/html": [
       "<div>\n",
       "<style>\n",
       "    .dataframe thead tr:only-child th {\n",
       "        text-align: right;\n",
       "    }\n",
       "\n",
       "    .dataframe thead th {\n",
       "        text-align: left;\n",
       "    }\n",
       "\n",
       "    .dataframe tbody tr th {\n",
       "        vertical-align: top;\n",
       "    }\n",
       "</style>\n",
       "<table border=\"1\" class=\"dataframe\">\n",
       "  <thead>\n",
       "    <tr style=\"text-align: right;\">\n",
       "      <th></th>\n",
       "      <th>ts</th>\n",
       "      <th>user</th>\n",
       "      <th>x_coordinate</th>\n",
       "      <th>y_coordinate</th>\n",
       "      <th>color</th>\n",
       "      <th>pixel</th>\n",
       "      <th>local_agreement</th>\n",
       "      <th>previous_agreement</th>\n",
       "      <th>previous_user</th>\n",
       "    </tr>\n",
       "  </thead>\n",
       "  <tbody>\n",
       "    <tr>\n",
       "      <th>13216722</th>\n",
       "      <td>1490918688000</td>\n",
       "      <td>2puPLvQ6X2zTSpfBkHXhxlIVo40=</td>\n",
       "      <td>505</td>\n",
       "      <td>510</td>\n",
       "      <td>1</td>\n",
       "      <td>511015</td>\n",
       "      <td>0.000</td>\n",
       "      <td>0.000000</td>\n",
       "      <td>None</td>\n",
       "    </tr>\n",
       "    <tr>\n",
       "      <th>15577615</th>\n",
       "      <td>1490918728000</td>\n",
       "      <td>2puPLvQ6X2zTSpfBkHXhxlIVo40=</td>\n",
       "      <td>490</td>\n",
       "      <td>504</td>\n",
       "      <td>1</td>\n",
       "      <td>504994</td>\n",
       "      <td>0.000</td>\n",
       "      <td>0.000000</td>\n",
       "      <td>None</td>\n",
       "    </tr>\n",
       "    <tr>\n",
       "      <th>5985698</th>\n",
       "      <td>1490918781000</td>\n",
       "      <td>2puPLvQ6X2zTSpfBkHXhxlIVo40=</td>\n",
       "      <td>518</td>\n",
       "      <td>498</td>\n",
       "      <td>0</td>\n",
       "      <td>499016</td>\n",
       "      <td>0.000</td>\n",
       "      <td>0.000000</td>\n",
       "      <td>None</td>\n",
       "    </tr>\n",
       "    <tr>\n",
       "      <th>16342824</th>\n",
       "      <td>1490919337000</td>\n",
       "      <td>GP2B74SRyrZ3HIflSFoAzM+jS3U=</td>\n",
       "      <td>474</td>\n",
       "      <td>495</td>\n",
       "      <td>11</td>\n",
       "      <td>495969</td>\n",
       "      <td>0.000</td>\n",
       "      <td>0.000000</td>\n",
       "      <td>None</td>\n",
       "    </tr>\n",
       "    <tr>\n",
       "      <th>5693574</th>\n",
       "      <td>1490919349000</td>\n",
       "      <td>GP2B74SRyrZ3HIflSFoAzM+jS3U=</td>\n",
       "      <td>477</td>\n",
       "      <td>495</td>\n",
       "      <td>11</td>\n",
       "      <td>495972</td>\n",
       "      <td>0.000</td>\n",
       "      <td>0.000000</td>\n",
       "      <td>None</td>\n",
       "    </tr>\n",
       "    <tr>\n",
       "      <th>9251462</th>\n",
       "      <td>1490919361000</td>\n",
       "      <td>GP2B74SRyrZ3HIflSFoAzM+jS3U=</td>\n",
       "      <td>472</td>\n",
       "      <td>496</td>\n",
       "      <td>11</td>\n",
       "      <td>496968</td>\n",
       "      <td>0.000</td>\n",
       "      <td>0.000000</td>\n",
       "      <td>None</td>\n",
       "    </tr>\n",
       "    <tr>\n",
       "      <th>2145079</th>\n",
       "      <td>1490919379000</td>\n",
       "      <td>GP2B74SRyrZ3HIflSFoAzM+jS3U=</td>\n",
       "      <td>473</td>\n",
       "      <td>497</td>\n",
       "      <td>11</td>\n",
       "      <td>497970</td>\n",
       "      <td>1.000</td>\n",
       "      <td>0.000000</td>\n",
       "      <td>None</td>\n",
       "    </tr>\n",
       "    <tr>\n",
       "      <th>966759</th>\n",
       "      <td>1490919398000</td>\n",
       "      <td>GP2B74SRyrZ3HIflSFoAzM+jS3U=</td>\n",
       "      <td>474</td>\n",
       "      <td>498</td>\n",
       "      <td>11</td>\n",
       "      <td>498972</td>\n",
       "      <td>1.000</td>\n",
       "      <td>1.000000</td>\n",
       "      <td>None</td>\n",
       "    </tr>\n",
       "    <tr>\n",
       "      <th>4497938</th>\n",
       "      <td>1490919410000</td>\n",
       "      <td>GP2B74SRyrZ3HIflSFoAzM+jS3U=</td>\n",
       "      <td>475</td>\n",
       "      <td>498</td>\n",
       "      <td>11</td>\n",
       "      <td>498973</td>\n",
       "      <td>1.000</td>\n",
       "      <td>1.000000</td>\n",
       "      <td>None</td>\n",
       "    </tr>\n",
       "    <tr>\n",
       "      <th>13970911</th>\n",
       "      <td>1490919426000</td>\n",
       "      <td>GP2B74SRyrZ3HIflSFoAzM+jS3U=</td>\n",
       "      <td>476</td>\n",
       "      <td>498</td>\n",
       "      <td>11</td>\n",
       "      <td>498974</td>\n",
       "      <td>1.000</td>\n",
       "      <td>1.000000</td>\n",
       "      <td>None</td>\n",
       "    </tr>\n",
       "    <tr>\n",
       "      <th>12804041</th>\n",
       "      <td>1490919465000</td>\n",
       "      <td>GP2B74SRyrZ3HIflSFoAzM+jS3U=</td>\n",
       "      <td>477</td>\n",
       "      <td>498</td>\n",
       "      <td>11</td>\n",
       "      <td>498975</td>\n",
       "      <td>1.000</td>\n",
       "      <td>1.000000</td>\n",
       "      <td>None</td>\n",
       "    </tr>\n",
       "    <tr>\n",
       "      <th>3316652</th>\n",
       "      <td>1490919480000</td>\n",
       "      <td>GP2B74SRyrZ3HIflSFoAzM+jS3U=</td>\n",
       "      <td>478</td>\n",
       "      <td>497</td>\n",
       "      <td>11</td>\n",
       "      <td>497975</td>\n",
       "      <td>1.000</td>\n",
       "      <td>1.000000</td>\n",
       "      <td>None</td>\n",
       "    </tr>\n",
       "    <tr>\n",
       "      <th>6868433</th>\n",
       "      <td>1490919494000</td>\n",
       "      <td>GP2B74SRyrZ3HIflSFoAzM+jS3U=</td>\n",
       "      <td>479</td>\n",
       "      <td>496</td>\n",
       "      <td>11</td>\n",
       "      <td>496975</td>\n",
       "      <td>1.000</td>\n",
       "      <td>1.000000</td>\n",
       "      <td>None</td>\n",
       "    </tr>\n",
       "    <tr>\n",
       "      <th>3523627</th>\n",
       "      <td>1490919557000</td>\n",
       "      <td>2puPLvQ6X2zTSpfBkHXhxlIVo40=</td>\n",
       "      <td>544</td>\n",
       "      <td>529</td>\n",
       "      <td>15</td>\n",
       "      <td>530073</td>\n",
       "      <td>0.000</td>\n",
       "      <td>0.000000</td>\n",
       "      <td>None</td>\n",
       "    </tr>\n",
       "    <tr>\n",
       "      <th>3330332</th>\n",
       "      <td>1490919589000</td>\n",
       "      <td>GP2B74SRyrZ3HIflSFoAzM+jS3U=</td>\n",
       "      <td>444</td>\n",
       "      <td>497</td>\n",
       "      <td>11</td>\n",
       "      <td>497941</td>\n",
       "      <td>0.000</td>\n",
       "      <td>0.000000</td>\n",
       "      <td>None</td>\n",
       "    </tr>\n",
       "    <tr>\n",
       "      <th>13987344</th>\n",
       "      <td>1490919601000</td>\n",
       "      <td>GP2B74SRyrZ3HIflSFoAzM+jS3U=</td>\n",
       "      <td>444</td>\n",
       "      <td>498</td>\n",
       "      <td>11</td>\n",
       "      <td>498942</td>\n",
       "      <td>1.000</td>\n",
       "      <td>0.000000</td>\n",
       "      <td>None</td>\n",
       "    </tr>\n",
       "    <tr>\n",
       "      <th>8052294</th>\n",
       "      <td>1490919613000</td>\n",
       "      <td>GP2B74SRyrZ3HIflSFoAzM+jS3U=</td>\n",
       "      <td>444</td>\n",
       "      <td>499</td>\n",
       "      <td>11</td>\n",
       "      <td>499943</td>\n",
       "      <td>1.000</td>\n",
       "      <td>1.000000</td>\n",
       "      <td>None</td>\n",
       "    </tr>\n",
       "    <tr>\n",
       "      <th>4499222</th>\n",
       "      <td>1490919625000</td>\n",
       "      <td>GP2B74SRyrZ3HIflSFoAzM+jS3U=</td>\n",
       "      <td>445</td>\n",
       "      <td>498</td>\n",
       "      <td>11</td>\n",
       "      <td>498943</td>\n",
       "      <td>1.000</td>\n",
       "      <td>0.666667</td>\n",
       "      <td>None</td>\n",
       "    </tr>\n",
       "    <tr>\n",
       "      <th>12786946</th>\n",
       "      <td>1490919638000</td>\n",
       "      <td>GP2B74SRyrZ3HIflSFoAzM+jS3U=</td>\n",
       "      <td>444</td>\n",
       "      <td>496</td>\n",
       "      <td>11</td>\n",
       "      <td>496940</td>\n",
       "      <td>1.000</td>\n",
       "      <td>0.000000</td>\n",
       "      <td>None</td>\n",
       "    </tr>\n",
       "    <tr>\n",
       "      <th>4515798</th>\n",
       "      <td>1490919649000</td>\n",
       "      <td>GP2B74SRyrZ3HIflSFoAzM+jS3U=</td>\n",
       "      <td>444</td>\n",
       "      <td>500</td>\n",
       "      <td>11</td>\n",
       "      <td>500944</td>\n",
       "      <td>1.000</td>\n",
       "      <td>1.000000</td>\n",
       "      <td>None</td>\n",
       "    </tr>\n",
       "    <tr>\n",
       "      <th>8063475</th>\n",
       "      <td>1490919662000</td>\n",
       "      <td>GP2B74SRyrZ3HIflSFoAzM+jS3U=</td>\n",
       "      <td>446</td>\n",
       "      <td>498</td>\n",
       "      <td>11</td>\n",
       "      <td>498944</td>\n",
       "      <td>1.000</td>\n",
       "      <td>1.000000</td>\n",
       "      <td>None</td>\n",
       "    </tr>\n",
       "    <tr>\n",
       "      <th>16345935</th>\n",
       "      <td>1490919674000</td>\n",
       "      <td>GP2B74SRyrZ3HIflSFoAzM+jS3U=</td>\n",
       "      <td>447</td>\n",
       "      <td>498</td>\n",
       "      <td>11</td>\n",
       "      <td>498945</td>\n",
       "      <td>1.000</td>\n",
       "      <td>1.000000</td>\n",
       "      <td>None</td>\n",
       "    </tr>\n",
       "    <tr>\n",
       "      <th>6871959</th>\n",
       "      <td>1490919685000</td>\n",
       "      <td>GP2B74SRyrZ3HIflSFoAzM+jS3U=</td>\n",
       "      <td>447</td>\n",
       "      <td>496</td>\n",
       "      <td>11</td>\n",
       "      <td>496943</td>\n",
       "      <td>0.000</td>\n",
       "      <td>0.000000</td>\n",
       "      <td>None</td>\n",
       "    </tr>\n",
       "    <tr>\n",
       "      <th>5688462</th>\n",
       "      <td>1490919697000</td>\n",
       "      <td>GP2B74SRyrZ3HIflSFoAzM+jS3U=</td>\n",
       "      <td>447</td>\n",
       "      <td>497</td>\n",
       "      <td>11</td>\n",
       "      <td>497944</td>\n",
       "      <td>1.000</td>\n",
       "      <td>0.666667</td>\n",
       "      <td>None</td>\n",
       "    </tr>\n",
       "    <tr>\n",
       "      <th>11591473</th>\n",
       "      <td>1490919709000</td>\n",
       "      <td>GP2B74SRyrZ3HIflSFoAzM+jS3U=</td>\n",
       "      <td>447</td>\n",
       "      <td>499</td>\n",
       "      <td>11</td>\n",
       "      <td>499946</td>\n",
       "      <td>1.000</td>\n",
       "      <td>1.000000</td>\n",
       "      <td>None</td>\n",
       "    </tr>\n",
       "    <tr>\n",
       "      <th>16326676</th>\n",
       "      <td>1490919720000</td>\n",
       "      <td>GP2B74SRyrZ3HIflSFoAzM+jS3U=</td>\n",
       "      <td>447</td>\n",
       "      <td>500</td>\n",
       "      <td>11</td>\n",
       "      <td>500947</td>\n",
       "      <td>1.000</td>\n",
       "      <td>1.000000</td>\n",
       "      <td>None</td>\n",
       "    </tr>\n",
       "    <tr>\n",
       "      <th>959657</th>\n",
       "      <td>1490919734000</td>\n",
       "      <td>GP2B74SRyrZ3HIflSFoAzM+jS3U=</td>\n",
       "      <td>449</td>\n",
       "      <td>500</td>\n",
       "      <td>11</td>\n",
       "      <td>500949</td>\n",
       "      <td>0.000</td>\n",
       "      <td>0.000000</td>\n",
       "      <td>None</td>\n",
       "    </tr>\n",
       "    <tr>\n",
       "      <th>12802170</th>\n",
       "      <td>1490919749000</td>\n",
       "      <td>GP2B74SRyrZ3HIflSFoAzM+jS3U=</td>\n",
       "      <td>449</td>\n",
       "      <td>499</td>\n",
       "      <td>11</td>\n",
       "      <td>499948</td>\n",
       "      <td>1.000</td>\n",
       "      <td>0.000000</td>\n",
       "      <td>None</td>\n",
       "    </tr>\n",
       "    <tr>\n",
       "      <th>10437120</th>\n",
       "      <td>1490919761000</td>\n",
       "      <td>GP2B74SRyrZ3HIflSFoAzM+jS3U=</td>\n",
       "      <td>449</td>\n",
       "      <td>498</td>\n",
       "      <td>11</td>\n",
       "      <td>498947</td>\n",
       "      <td>1.000</td>\n",
       "      <td>1.000000</td>\n",
       "      <td>None</td>\n",
       "    </tr>\n",
       "    <tr>\n",
       "      <th>15143427</th>\n",
       "      <td>1490919776000</td>\n",
       "      <td>GP2B74SRyrZ3HIflSFoAzM+jS3U=</td>\n",
       "      <td>449</td>\n",
       "      <td>496</td>\n",
       "      <td>11</td>\n",
       "      <td>496945</td>\n",
       "      <td>0.000</td>\n",
       "      <td>0.000000</td>\n",
       "      <td>None</td>\n",
       "    </tr>\n",
       "    <tr>\n",
       "      <th>...</th>\n",
       "      <td>...</td>\n",
       "      <td>...</td>\n",
       "      <td>...</td>\n",
       "      <td>...</td>\n",
       "      <td>...</td>\n",
       "      <td>...</td>\n",
       "      <td>...</td>\n",
       "      <td>...</td>\n",
       "      <td>...</td>\n",
       "    </tr>\n",
       "    <tr>\n",
       "      <th>14325690</th>\n",
       "      <td>1491238720000</td>\n",
       "      <td>lgaE/V/9zREHrLMuFIswAvPxmew=</td>\n",
       "      <td>490</td>\n",
       "      <td>939</td>\n",
       "      <td>0</td>\n",
       "      <td>940429</td>\n",
       "      <td>1.000</td>\n",
       "      <td>0.444444</td>\n",
       "      <td>uXPBSOm7UWAq3tnatig0jWbgTbY=</td>\n",
       "    </tr>\n",
       "    <tr>\n",
       "      <th>1221925</th>\n",
       "      <td>1491238720000</td>\n",
       "      <td>AQmb3gPSEONE7ywYrgIrUD/6VOk=</td>\n",
       "      <td>535</td>\n",
       "      <td>514</td>\n",
       "      <td>0</td>\n",
       "      <td>515049</td>\n",
       "      <td>1.000</td>\n",
       "      <td>0.555556</td>\n",
       "      <td>3jymlWWJbQwYO7Q1ZsUAU/sHNHg=</td>\n",
       "    </tr>\n",
       "    <tr>\n",
       "      <th>5579922</th>\n",
       "      <td>1491238721000</td>\n",
       "      <td>JtncaxQYlYJe535JW7wH604O7sM=</td>\n",
       "      <td>930</td>\n",
       "      <td>150</td>\n",
       "      <td>8</td>\n",
       "      <td>151080</td>\n",
       "      <td>0.000</td>\n",
       "      <td>1.000000</td>\n",
       "      <td>OIrUCd4cPFitLXD6LOBurIZvP1A=</td>\n",
       "    </tr>\n",
       "    <tr>\n",
       "      <th>8730203</th>\n",
       "      <td>1491238723000</td>\n",
       "      <td>R6/JLa2UQy4SSXazJ81ldTrTA6k=</td>\n",
       "      <td>205</td>\n",
       "      <td>400</td>\n",
       "      <td>3</td>\n",
       "      <td>400605</td>\n",
       "      <td>0.875</td>\n",
       "      <td>0.444444</td>\n",
       "      <td>D75EIH8kwyJU9tP+x+8pLSbT/8M=</td>\n",
       "    </tr>\n",
       "    <tr>\n",
       "      <th>15042877</th>\n",
       "      <td>1491238723000</td>\n",
       "      <td>JkZxChxZxLrt7BCs/3v3KqH1KyA=</td>\n",
       "      <td>714</td>\n",
       "      <td>594</td>\n",
       "      <td>8</td>\n",
       "      <td>595308</td>\n",
       "      <td>0.250</td>\n",
       "      <td>0.000000</td>\n",
       "      <td>5hzUeHiupRWE+TNYkdNqr3Ua6o4=</td>\n",
       "    </tr>\n",
       "    <tr>\n",
       "      <th>969313</th>\n",
       "      <td>1491238723000</td>\n",
       "      <td>wRDEikdUFABLi64CdvIncN6lasY=</td>\n",
       "      <td>944</td>\n",
       "      <td>913</td>\n",
       "      <td>11</td>\n",
       "      <td>914857</td>\n",
       "      <td>0.250</td>\n",
       "      <td>0.000000</td>\n",
       "      <td>mN4zLwMPLm0CjKn8pY5jZSZ7wbw=</td>\n",
       "    </tr>\n",
       "    <tr>\n",
       "      <th>6356674</th>\n",
       "      <td>1491238724000</td>\n",
       "      <td>visF/IyLL+xPQEE6/MSOEurx/vk=</td>\n",
       "      <td>222</td>\n",
       "      <td>693</td>\n",
       "      <td>3</td>\n",
       "      <td>693915</td>\n",
       "      <td>0.250</td>\n",
       "      <td>0.000000</td>\n",
       "      <td>aBeCcs73OnRIwpE/gpvkjZZDEwI=</td>\n",
       "    </tr>\n",
       "    <tr>\n",
       "      <th>13656390</th>\n",
       "      <td>1491238726000</td>\n",
       "      <td>LALILWSncasKyhzJgOyMOY24YK8=</td>\n",
       "      <td>516</td>\n",
       "      <td>190</td>\n",
       "      <td>5</td>\n",
       "      <td>190706</td>\n",
       "      <td>0.125</td>\n",
       "      <td>0.222222</td>\n",
       "      <td>jyI99HPFYk7X9Dl0WJzdgLLEpuA=</td>\n",
       "    </tr>\n",
       "    <tr>\n",
       "      <th>11232411</th>\n",
       "      <td>1491238726000</td>\n",
       "      <td>kDtg2LPGrR3AkLCdLYw9X+oCZ5o=</td>\n",
       "      <td>516</td>\n",
       "      <td>190</td>\n",
       "      <td>5</td>\n",
       "      <td>190706</td>\n",
       "      <td>0.125</td>\n",
       "      <td>0.222222</td>\n",
       "      <td>LALILWSncasKyhzJgOyMOY24YK8=</td>\n",
       "    </tr>\n",
       "    <tr>\n",
       "      <th>5222662</th>\n",
       "      <td>1491238726000</td>\n",
       "      <td>L+KzpDktalEvyYQBTbmT8HfkCxY=</td>\n",
       "      <td>221</td>\n",
       "      <td>733</td>\n",
       "      <td>3</td>\n",
       "      <td>733954</td>\n",
       "      <td>0.250</td>\n",
       "      <td>0.111111</td>\n",
       "      <td>jf3q+Ja6qh760VbDCxBYqS8CZFM=</td>\n",
       "    </tr>\n",
       "    <tr>\n",
       "      <th>216141</th>\n",
       "      <td>1491238726000</td>\n",
       "      <td>0r6zRKav30W654lzM3e9nXxVDOw=</td>\n",
       "      <td>229</td>\n",
       "      <td>719</td>\n",
       "      <td>2</td>\n",
       "      <td>719948</td>\n",
       "      <td>0.250</td>\n",
       "      <td>0.000000</td>\n",
       "      <td>Y+YKSbo2U2fkRNHqxCYOMSPMbqk=</td>\n",
       "    </tr>\n",
       "    <tr>\n",
       "      <th>6243994</th>\n",
       "      <td>1491238727000</td>\n",
       "      <td>O3rlOmb0o2qZie8tKKHl9smeUPw=</td>\n",
       "      <td>512</td>\n",
       "      <td>920</td>\n",
       "      <td>3</td>\n",
       "      <td>921432</td>\n",
       "      <td>0.000</td>\n",
       "      <td>0.666667</td>\n",
       "      <td>g6CGMq+OaCDIO/EfeoLKzIOihu0=</td>\n",
       "    </tr>\n",
       "    <tr>\n",
       "      <th>14718826</th>\n",
       "      <td>1491238728000</td>\n",
       "      <td>FGEpX5TflJZWgP0JWFQLCUX9lfE=</td>\n",
       "      <td>529</td>\n",
       "      <td>946</td>\n",
       "      <td>4</td>\n",
       "      <td>947475</td>\n",
       "      <td>0.250</td>\n",
       "      <td>0.000000</td>\n",
       "      <td>lGnY5q+Zqa/Y8EUH4hrDiXlRJl0=</td>\n",
       "    </tr>\n",
       "    <tr>\n",
       "      <th>2237993</th>\n",
       "      <td>1491238728000</td>\n",
       "      <td>1PfXnewEPekPq8y1KpfsNfsfEWk=</td>\n",
       "      <td>611</td>\n",
       "      <td>736</td>\n",
       "      <td>13</td>\n",
       "      <td>737347</td>\n",
       "      <td>0.250</td>\n",
       "      <td>0.000000</td>\n",
       "      <td>HRl1yV0MP/WeoctJb0+/b/WVmiY=</td>\n",
       "    </tr>\n",
       "    <tr>\n",
       "      <th>8550219</th>\n",
       "      <td>1491238729000</td>\n",
       "      <td>bMAgsYEDoGXd+rd9tgNIfAQnnok=</td>\n",
       "      <td>71</td>\n",
       "      <td>618</td>\n",
       "      <td>3</td>\n",
       "      <td>618689</td>\n",
       "      <td>0.500</td>\n",
       "      <td>0.000000</td>\n",
       "      <td>mi3ksj93FxmWMzc4zmnwjuk8pIU=</td>\n",
       "    </tr>\n",
       "    <tr>\n",
       "      <th>9353907</th>\n",
       "      <td>1491238730000</td>\n",
       "      <td>RDMAkA2mrSlzKXelr+PmWONKDVs=</td>\n",
       "      <td>471</td>\n",
       "      <td>495</td>\n",
       "      <td>13</td>\n",
       "      <td>495966</td>\n",
       "      <td>0.875</td>\n",
       "      <td>0.222222</td>\n",
       "      <td>eSJMCzeOlDbGIwDNRHcjBY4EFpI=</td>\n",
       "    </tr>\n",
       "    <tr>\n",
       "      <th>1554046</th>\n",
       "      <td>1491238730000</td>\n",
       "      <td>F28YOX58ABSEYj1Eo4HPMr6o1kg=</td>\n",
       "      <td>138</td>\n",
       "      <td>426</td>\n",
       "      <td>3</td>\n",
       "      <td>426564</td>\n",
       "      <td>0.375</td>\n",
       "      <td>0.333333</td>\n",
       "      <td>RXJpJYSNMNY003C3o6O93SmyJGE=</td>\n",
       "    </tr>\n",
       "    <tr>\n",
       "      <th>4483553</th>\n",
       "      <td>1491238730000</td>\n",
       "      <td>+Xo/mdr65t1oz86/XxxP9rvQmCE=</td>\n",
       "      <td>161</td>\n",
       "      <td>155</td>\n",
       "      <td>10</td>\n",
       "      <td>155316</td>\n",
       "      <td>0.000</td>\n",
       "      <td>0.000000</td>\n",
       "      <td>z+My1TrgUH/Ozc8d+FgH5c6U4AU=</td>\n",
       "    </tr>\n",
       "    <tr>\n",
       "      <th>4874492</th>\n",
       "      <td>1491238730000</td>\n",
       "      <td>O1iw7N48Xdam60UlD+0ItY7myEA=</td>\n",
       "      <td>701</td>\n",
       "      <td>594</td>\n",
       "      <td>0</td>\n",
       "      <td>595295</td>\n",
       "      <td>0.625</td>\n",
       "      <td>0.000000</td>\n",
       "      <td>PDOCSM2WHz2Uff0V6l7cLiOSz2Q=</td>\n",
       "    </tr>\n",
       "    <tr>\n",
       "      <th>7528745</th>\n",
       "      <td>1491238731000</td>\n",
       "      <td>DR1BA6BNps7RgPV0XRVJ+sNggoM=</td>\n",
       "      <td>43</td>\n",
       "      <td>457</td>\n",
       "      <td>3</td>\n",
       "      <td>457500</td>\n",
       "      <td>0.250</td>\n",
       "      <td>0.000000</td>\n",
       "      <td>NG7mYBN3mkyQVtAzy6EGGZl78gY=</td>\n",
       "    </tr>\n",
       "    <tr>\n",
       "      <th>13378383</th>\n",
       "      <td>1491238731000</td>\n",
       "      <td>HSfaPHVfRSH92RAylebvQM8lJFU=</td>\n",
       "      <td>11</td>\n",
       "      <td>433</td>\n",
       "      <td>3</td>\n",
       "      <td>433444</td>\n",
       "      <td>0.500</td>\n",
       "      <td>0.000000</td>\n",
       "      <td>rGKmYUZAKEh0GTCBOOcVbkmy0jM=</td>\n",
       "    </tr>\n",
       "    <tr>\n",
       "      <th>16444145</th>\n",
       "      <td>1491238732000</td>\n",
       "      <td>qnHKJsXHi0LLIHNQG762oaTm3sM=</td>\n",
       "      <td>347</td>\n",
       "      <td>576</td>\n",
       "      <td>13</td>\n",
       "      <td>576923</td>\n",
       "      <td>0.000</td>\n",
       "      <td>0.000000</td>\n",
       "      <td>VkOZSPaQ3AHtH+swxOZZP17bwCU=</td>\n",
       "    </tr>\n",
       "    <tr>\n",
       "      <th>6172365</th>\n",
       "      <td>1491238732000</td>\n",
       "      <td>bp3cZOM1nHjXyqgnQoGsub7sE+c=</td>\n",
       "      <td>132</td>\n",
       "      <td>66</td>\n",
       "      <td>3</td>\n",
       "      <td>66198</td>\n",
       "      <td>0.250</td>\n",
       "      <td>0.000000</td>\n",
       "      <td>AsU0XpOFze7w5TS42jmto059kzg=</td>\n",
       "    </tr>\n",
       "    <tr>\n",
       "      <th>9770760</th>\n",
       "      <td>1491238732000</td>\n",
       "      <td>UGr9cAzz56HA9ularvtXPm1CKj0=</td>\n",
       "      <td>437</td>\n",
       "      <td>804</td>\n",
       "      <td>3</td>\n",
       "      <td>805241</td>\n",
       "      <td>0.750</td>\n",
       "      <td>0.000000</td>\n",
       "      <td>Q2OoqbxlXURovcXKPOWB9FontDM=</td>\n",
       "    </tr>\n",
       "    <tr>\n",
       "      <th>12113767</th>\n",
       "      <td>1491238732000</td>\n",
       "      <td>4v/kA+5NRVDQ9mLn4pFoswq6A5Y=</td>\n",
       "      <td>192</td>\n",
       "      <td>442</td>\n",
       "      <td>3</td>\n",
       "      <td>442634</td>\n",
       "      <td>1.000</td>\n",
       "      <td>0.000000</td>\n",
       "      <td>sNy+jXRuZmTL5C2EbkM/SeNWy3I=</td>\n",
       "    </tr>\n",
       "    <tr>\n",
       "      <th>6258419</th>\n",
       "      <td>1491238733000</td>\n",
       "      <td>uLIYXambhhJnq+XQsp3/v4hOSg8=</td>\n",
       "      <td>31</td>\n",
       "      <td>16</td>\n",
       "      <td>3</td>\n",
       "      <td>16047</td>\n",
       "      <td>1.000</td>\n",
       "      <td>0.666667</td>\n",
       "      <td>LHfdnEUAuyiVnuz+qpQDPDTtn6A=</td>\n",
       "    </tr>\n",
       "    <tr>\n",
       "      <th>13003783</th>\n",
       "      <td>1491238733000</td>\n",
       "      <td>4tD092krB0kr/mIgPzbkdWRbbuA=</td>\n",
       "      <td>159</td>\n",
       "      <td>602</td>\n",
       "      <td>15</td>\n",
       "      <td>602761</td>\n",
       "      <td>0.750</td>\n",
       "      <td>0.111111</td>\n",
       "      <td>tgGazc9kIMJs5fjYhmGUCVsWI0Q=</td>\n",
       "    </tr>\n",
       "    <tr>\n",
       "      <th>12753324</th>\n",
       "      <td>1491238733000</td>\n",
       "      <td>c34iVZhk/TWfZvgLERa92dv4nXI=</td>\n",
       "      <td>33</td>\n",
       "      <td>70</td>\n",
       "      <td>10</td>\n",
       "      <td>70103</td>\n",
       "      <td>0.000</td>\n",
       "      <td>0.000000</td>\n",
       "      <td>a9t034OvAD+Efqt5q5/OTj8VHS8=</td>\n",
       "    </tr>\n",
       "    <tr>\n",
       "      <th>7772192</th>\n",
       "      <td>1491238733000</td>\n",
       "      <td>0zJQ/whk/woFFZpfA53DCstaOV8=</td>\n",
       "      <td>176</td>\n",
       "      <td>159</td>\n",
       "      <td>5</td>\n",
       "      <td>159335</td>\n",
       "      <td>0.000</td>\n",
       "      <td>0.000000</td>\n",
       "      <td>PytPooiEwh+WGmyWINVB/8D6lfc=</td>\n",
       "    </tr>\n",
       "    <tr>\n",
       "      <th>14753590</th>\n",
       "      <td>1491238734000</td>\n",
       "      <td>WcPEECDEtqTri0VN5AJggUWOi/A=</td>\n",
       "      <td>605</td>\n",
       "      <td>160</td>\n",
       "      <td>5</td>\n",
       "      <td>160765</td>\n",
       "      <td>1.000</td>\n",
       "      <td>0.888889</td>\n",
       "      <td>YiHmmCgm4wq6Yi1BCznorVu88uY=</td>\n",
       "    </tr>\n",
       "  </tbody>\n",
       "</table>\n",
       "<p>16559407 rows × 9 columns</p>\n",
       "</div>"
      ],
      "text/plain": [
       "                     ts                          user  x_coordinate  \\\n",
       "13216722  1490918688000  2puPLvQ6X2zTSpfBkHXhxlIVo40=           505   \n",
       "15577615  1490918728000  2puPLvQ6X2zTSpfBkHXhxlIVo40=           490   \n",
       "5985698   1490918781000  2puPLvQ6X2zTSpfBkHXhxlIVo40=           518   \n",
       "16342824  1490919337000  GP2B74SRyrZ3HIflSFoAzM+jS3U=           474   \n",
       "5693574   1490919349000  GP2B74SRyrZ3HIflSFoAzM+jS3U=           477   \n",
       "9251462   1490919361000  GP2B74SRyrZ3HIflSFoAzM+jS3U=           472   \n",
       "2145079   1490919379000  GP2B74SRyrZ3HIflSFoAzM+jS3U=           473   \n",
       "966759    1490919398000  GP2B74SRyrZ3HIflSFoAzM+jS3U=           474   \n",
       "4497938   1490919410000  GP2B74SRyrZ3HIflSFoAzM+jS3U=           475   \n",
       "13970911  1490919426000  GP2B74SRyrZ3HIflSFoAzM+jS3U=           476   \n",
       "12804041  1490919465000  GP2B74SRyrZ3HIflSFoAzM+jS3U=           477   \n",
       "3316652   1490919480000  GP2B74SRyrZ3HIflSFoAzM+jS3U=           478   \n",
       "6868433   1490919494000  GP2B74SRyrZ3HIflSFoAzM+jS3U=           479   \n",
       "3523627   1490919557000  2puPLvQ6X2zTSpfBkHXhxlIVo40=           544   \n",
       "3330332   1490919589000  GP2B74SRyrZ3HIflSFoAzM+jS3U=           444   \n",
       "13987344  1490919601000  GP2B74SRyrZ3HIflSFoAzM+jS3U=           444   \n",
       "8052294   1490919613000  GP2B74SRyrZ3HIflSFoAzM+jS3U=           444   \n",
       "4499222   1490919625000  GP2B74SRyrZ3HIflSFoAzM+jS3U=           445   \n",
       "12786946  1490919638000  GP2B74SRyrZ3HIflSFoAzM+jS3U=           444   \n",
       "4515798   1490919649000  GP2B74SRyrZ3HIflSFoAzM+jS3U=           444   \n",
       "8063475   1490919662000  GP2B74SRyrZ3HIflSFoAzM+jS3U=           446   \n",
       "16345935  1490919674000  GP2B74SRyrZ3HIflSFoAzM+jS3U=           447   \n",
       "6871959   1490919685000  GP2B74SRyrZ3HIflSFoAzM+jS3U=           447   \n",
       "5688462   1490919697000  GP2B74SRyrZ3HIflSFoAzM+jS3U=           447   \n",
       "11591473  1490919709000  GP2B74SRyrZ3HIflSFoAzM+jS3U=           447   \n",
       "16326676  1490919720000  GP2B74SRyrZ3HIflSFoAzM+jS3U=           447   \n",
       "959657    1490919734000  GP2B74SRyrZ3HIflSFoAzM+jS3U=           449   \n",
       "12802170  1490919749000  GP2B74SRyrZ3HIflSFoAzM+jS3U=           449   \n",
       "10437120  1490919761000  GP2B74SRyrZ3HIflSFoAzM+jS3U=           449   \n",
       "15143427  1490919776000  GP2B74SRyrZ3HIflSFoAzM+jS3U=           449   \n",
       "...                 ...                           ...           ...   \n",
       "14325690  1491238720000  lgaE/V/9zREHrLMuFIswAvPxmew=           490   \n",
       "1221925   1491238720000  AQmb3gPSEONE7ywYrgIrUD/6VOk=           535   \n",
       "5579922   1491238721000  JtncaxQYlYJe535JW7wH604O7sM=           930   \n",
       "8730203   1491238723000  R6/JLa2UQy4SSXazJ81ldTrTA6k=           205   \n",
       "15042877  1491238723000  JkZxChxZxLrt7BCs/3v3KqH1KyA=           714   \n",
       "969313    1491238723000  wRDEikdUFABLi64CdvIncN6lasY=           944   \n",
       "6356674   1491238724000  visF/IyLL+xPQEE6/MSOEurx/vk=           222   \n",
       "13656390  1491238726000  LALILWSncasKyhzJgOyMOY24YK8=           516   \n",
       "11232411  1491238726000  kDtg2LPGrR3AkLCdLYw9X+oCZ5o=           516   \n",
       "5222662   1491238726000  L+KzpDktalEvyYQBTbmT8HfkCxY=           221   \n",
       "216141    1491238726000  0r6zRKav30W654lzM3e9nXxVDOw=           229   \n",
       "6243994   1491238727000  O3rlOmb0o2qZie8tKKHl9smeUPw=           512   \n",
       "14718826  1491238728000  FGEpX5TflJZWgP0JWFQLCUX9lfE=           529   \n",
       "2237993   1491238728000  1PfXnewEPekPq8y1KpfsNfsfEWk=           611   \n",
       "8550219   1491238729000  bMAgsYEDoGXd+rd9tgNIfAQnnok=            71   \n",
       "9353907   1491238730000  RDMAkA2mrSlzKXelr+PmWONKDVs=           471   \n",
       "1554046   1491238730000  F28YOX58ABSEYj1Eo4HPMr6o1kg=           138   \n",
       "4483553   1491238730000  +Xo/mdr65t1oz86/XxxP9rvQmCE=           161   \n",
       "4874492   1491238730000  O1iw7N48Xdam60UlD+0ItY7myEA=           701   \n",
       "7528745   1491238731000  DR1BA6BNps7RgPV0XRVJ+sNggoM=            43   \n",
       "13378383  1491238731000  HSfaPHVfRSH92RAylebvQM8lJFU=            11   \n",
       "16444145  1491238732000  qnHKJsXHi0LLIHNQG762oaTm3sM=           347   \n",
       "6172365   1491238732000  bp3cZOM1nHjXyqgnQoGsub7sE+c=           132   \n",
       "9770760   1491238732000  UGr9cAzz56HA9ularvtXPm1CKj0=           437   \n",
       "12113767  1491238732000  4v/kA+5NRVDQ9mLn4pFoswq6A5Y=           192   \n",
       "6258419   1491238733000  uLIYXambhhJnq+XQsp3/v4hOSg8=            31   \n",
       "13003783  1491238733000  4tD092krB0kr/mIgPzbkdWRbbuA=           159   \n",
       "12753324  1491238733000  c34iVZhk/TWfZvgLERa92dv4nXI=            33   \n",
       "7772192   1491238733000  0zJQ/whk/woFFZpfA53DCstaOV8=           176   \n",
       "14753590  1491238734000  WcPEECDEtqTri0VN5AJggUWOi/A=           605   \n",
       "\n",
       "          y_coordinate  color   pixel  local_agreement  previous_agreement  \\\n",
       "13216722           510      1  511015            0.000            0.000000   \n",
       "15577615           504      1  504994            0.000            0.000000   \n",
       "5985698            498      0  499016            0.000            0.000000   \n",
       "16342824           495     11  495969            0.000            0.000000   \n",
       "5693574            495     11  495972            0.000            0.000000   \n",
       "9251462            496     11  496968            0.000            0.000000   \n",
       "2145079            497     11  497970            1.000            0.000000   \n",
       "966759             498     11  498972            1.000            1.000000   \n",
       "4497938            498     11  498973            1.000            1.000000   \n",
       "13970911           498     11  498974            1.000            1.000000   \n",
       "12804041           498     11  498975            1.000            1.000000   \n",
       "3316652            497     11  497975            1.000            1.000000   \n",
       "6868433            496     11  496975            1.000            1.000000   \n",
       "3523627            529     15  530073            0.000            0.000000   \n",
       "3330332            497     11  497941            0.000            0.000000   \n",
       "13987344           498     11  498942            1.000            0.000000   \n",
       "8052294            499     11  499943            1.000            1.000000   \n",
       "4499222            498     11  498943            1.000            0.666667   \n",
       "12786946           496     11  496940            1.000            0.000000   \n",
       "4515798            500     11  500944            1.000            1.000000   \n",
       "8063475            498     11  498944            1.000            1.000000   \n",
       "16345935           498     11  498945            1.000            1.000000   \n",
       "6871959            496     11  496943            0.000            0.000000   \n",
       "5688462            497     11  497944            1.000            0.666667   \n",
       "11591473           499     11  499946            1.000            1.000000   \n",
       "16326676           500     11  500947            1.000            1.000000   \n",
       "959657             500     11  500949            0.000            0.000000   \n",
       "12802170           499     11  499948            1.000            0.000000   \n",
       "10437120           498     11  498947            1.000            1.000000   \n",
       "15143427           496     11  496945            0.000            0.000000   \n",
       "...                ...    ...     ...              ...                 ...   \n",
       "14325690           939      0  940429            1.000            0.444444   \n",
       "1221925            514      0  515049            1.000            0.555556   \n",
       "5579922            150      8  151080            0.000            1.000000   \n",
       "8730203            400      3  400605            0.875            0.444444   \n",
       "15042877           594      8  595308            0.250            0.000000   \n",
       "969313             913     11  914857            0.250            0.000000   \n",
       "6356674            693      3  693915            0.250            0.000000   \n",
       "13656390           190      5  190706            0.125            0.222222   \n",
       "11232411           190      5  190706            0.125            0.222222   \n",
       "5222662            733      3  733954            0.250            0.111111   \n",
       "216141             719      2  719948            0.250            0.000000   \n",
       "6243994            920      3  921432            0.000            0.666667   \n",
       "14718826           946      4  947475            0.250            0.000000   \n",
       "2237993            736     13  737347            0.250            0.000000   \n",
       "8550219            618      3  618689            0.500            0.000000   \n",
       "9353907            495     13  495966            0.875            0.222222   \n",
       "1554046            426      3  426564            0.375            0.333333   \n",
       "4483553            155     10  155316            0.000            0.000000   \n",
       "4874492            594      0  595295            0.625            0.000000   \n",
       "7528745            457      3  457500            0.250            0.000000   \n",
       "13378383           433      3  433444            0.500            0.000000   \n",
       "16444145           576     13  576923            0.000            0.000000   \n",
       "6172365             66      3   66198            0.250            0.000000   \n",
       "9770760            804      3  805241            0.750            0.000000   \n",
       "12113767           442      3  442634            1.000            0.000000   \n",
       "6258419             16      3   16047            1.000            0.666667   \n",
       "13003783           602     15  602761            0.750            0.111111   \n",
       "12753324            70     10   70103            0.000            0.000000   \n",
       "7772192            159      5  159335            0.000            0.000000   \n",
       "14753590           160      5  160765            1.000            0.888889   \n",
       "\n",
       "                         previous_user  \n",
       "13216722                          None  \n",
       "15577615                          None  \n",
       "5985698                           None  \n",
       "16342824                          None  \n",
       "5693574                           None  \n",
       "9251462                           None  \n",
       "2145079                           None  \n",
       "966759                            None  \n",
       "4497938                           None  \n",
       "13970911                          None  \n",
       "12804041                          None  \n",
       "3316652                           None  \n",
       "6868433                           None  \n",
       "3523627                           None  \n",
       "3330332                           None  \n",
       "13987344                          None  \n",
       "8052294                           None  \n",
       "4499222                           None  \n",
       "12786946                          None  \n",
       "4515798                           None  \n",
       "8063475                           None  \n",
       "16345935                          None  \n",
       "6871959                           None  \n",
       "5688462                           None  \n",
       "11591473                          None  \n",
       "16326676                          None  \n",
       "959657                            None  \n",
       "12802170                          None  \n",
       "10437120                          None  \n",
       "15143427                          None  \n",
       "...                                ...  \n",
       "14325690  uXPBSOm7UWAq3tnatig0jWbgTbY=  \n",
       "1221925   3jymlWWJbQwYO7Q1ZsUAU/sHNHg=  \n",
       "5579922   OIrUCd4cPFitLXD6LOBurIZvP1A=  \n",
       "8730203   D75EIH8kwyJU9tP+x+8pLSbT/8M=  \n",
       "15042877  5hzUeHiupRWE+TNYkdNqr3Ua6o4=  \n",
       "969313    mN4zLwMPLm0CjKn8pY5jZSZ7wbw=  \n",
       "6356674   aBeCcs73OnRIwpE/gpvkjZZDEwI=  \n",
       "13656390  jyI99HPFYk7X9Dl0WJzdgLLEpuA=  \n",
       "11232411  LALILWSncasKyhzJgOyMOY24YK8=  \n",
       "5222662   jf3q+Ja6qh760VbDCxBYqS8CZFM=  \n",
       "216141    Y+YKSbo2U2fkRNHqxCYOMSPMbqk=  \n",
       "6243994   g6CGMq+OaCDIO/EfeoLKzIOihu0=  \n",
       "14718826  lGnY5q+Zqa/Y8EUH4hrDiXlRJl0=  \n",
       "2237993   HRl1yV0MP/WeoctJb0+/b/WVmiY=  \n",
       "8550219   mi3ksj93FxmWMzc4zmnwjuk8pIU=  \n",
       "9353907   eSJMCzeOlDbGIwDNRHcjBY4EFpI=  \n",
       "1554046   RXJpJYSNMNY003C3o6O93SmyJGE=  \n",
       "4483553   z+My1TrgUH/Ozc8d+FgH5c6U4AU=  \n",
       "4874492   PDOCSM2WHz2Uff0V6l7cLiOSz2Q=  \n",
       "7528745   NG7mYBN3mkyQVtAzy6EGGZl78gY=  \n",
       "13378383  rGKmYUZAKEh0GTCBOOcVbkmy0jM=  \n",
       "16444145  VkOZSPaQ3AHtH+swxOZZP17bwCU=  \n",
       "6172365   AsU0XpOFze7w5TS42jmto059kzg=  \n",
       "9770760   Q2OoqbxlXURovcXKPOWB9FontDM=  \n",
       "12113767  sNy+jXRuZmTL5C2EbkM/SeNWy3I=  \n",
       "6258419   LHfdnEUAuyiVnuz+qpQDPDTtn6A=  \n",
       "13003783  tgGazc9kIMJs5fjYhmGUCVsWI0Q=  \n",
       "12753324  a9t034OvAD+Efqt5q5/OTj8VHS8=  \n",
       "7772192   PytPooiEwh+WGmyWINVB/8D6lfc=  \n",
       "14753590  YiHmmCgm4wq6Yi1BCznorVu88uY=  \n",
       "\n",
       "[16559407 rows x 9 columns]"
      ]
     },
     "execution_count": 2,
     "metadata": {},
     "output_type": "execute_result"
    }
   ],
   "source": [
    "df = pd.read_pickle(\"data/full_data.pkl\")\n",
    "df"
   ]
  },
  {
   "cell_type": "code",
   "execution_count": 3,
   "metadata": {
    "collapsed": true
   },
   "outputs": [],
   "source": [
    "df['local_agreement'] = df['local_agreement'] - 0.5"
   ]
  },
  {
   "cell_type": "code",
   "execution_count": 18,
   "metadata": {
    "scrolled": true
   },
   "outputs": [
    {
     "data": {
      "application/vnd.jupyter.widget-view+json": {
       "model_id": "6194490d8fad4288a334b717014ec891",
       "version_major": 2,
       "version_minor": 0
      },
      "text/plain": [
       "HBox(children=(IntProgress(value=0, description='x loop', max=20), HTML(value='')))"
      ]
     },
     "metadata": {},
     "output_type": "display_data"
    },
    {
     "data": {
      "application/vnd.jupyter.widget-view+json": {
       "model_id": "ed4281e506ad4762a4c715159de55a5e",
       "version_major": 2,
       "version_minor": 0
      },
      "text/plain": [
       "HBox(children=(IntProgress(value=0, description='y loop', max=20), HTML(value='')))"
      ]
     },
     "metadata": {},
     "output_type": "display_data"
    },
    {
     "data": {
      "application/vnd.jupyter.widget-view+json": {
       "model_id": "aba05a13af544bc88bae443a3ad314b5",
       "version_major": 2,
       "version_minor": 0
      },
      "text/plain": [
       "HBox(children=(IntProgress(value=0, description='y loop', max=20), HTML(value='')))"
      ]
     },
     "metadata": {},
     "output_type": "display_data"
    },
    {
     "data": {
      "application/vnd.jupyter.widget-view+json": {
       "model_id": "cc46a10ce3fa4e799478237bcabe27c3",
       "version_major": 2,
       "version_minor": 0
      },
      "text/plain": [
       "HBox(children=(IntProgress(value=0, description='y loop', max=20), HTML(value='')))"
      ]
     },
     "metadata": {},
     "output_type": "display_data"
    },
    {
     "data": {
      "application/vnd.jupyter.widget-view+json": {
       "model_id": "a151d0dfc47f4816b90d2c5f65104846",
       "version_major": 2,
       "version_minor": 0
      },
      "text/plain": [
       "HBox(children=(IntProgress(value=0, description='y loop', max=20), HTML(value='')))"
      ]
     },
     "metadata": {},
     "output_type": "display_data"
    },
    {
     "data": {
      "application/vnd.jupyter.widget-view+json": {
       "model_id": "df5806a5ee2c4653b4618cb5d7377988",
       "version_major": 2,
       "version_minor": 0
      },
      "text/plain": [
       "HBox(children=(IntProgress(value=0, description='y loop', max=20), HTML(value='')))"
      ]
     },
     "metadata": {},
     "output_type": "display_data"
    },
    {
     "data": {
      "application/vnd.jupyter.widget-view+json": {
       "model_id": "7a27bbfa59724c5cbfe0de1fd08f341b",
       "version_major": 2,
       "version_minor": 0
      },
      "text/plain": [
       "HBox(children=(IntProgress(value=0, description='y loop', max=20), HTML(value='')))"
      ]
     },
     "metadata": {},
     "output_type": "display_data"
    },
    {
     "data": {
      "application/vnd.jupyter.widget-view+json": {
       "model_id": "570611757bf44bc3895248f8f084d4db",
       "version_major": 2,
       "version_minor": 0
      },
      "text/plain": [
       "HBox(children=(IntProgress(value=0, description='y loop', max=20), HTML(value='')))"
      ]
     },
     "metadata": {},
     "output_type": "display_data"
    },
    {
     "data": {
      "application/vnd.jupyter.widget-view+json": {
       "model_id": "46f9d7d1c8ed41ddb3430ff2dc075222",
       "version_major": 2,
       "version_minor": 0
      },
      "text/plain": [
       "HBox(children=(IntProgress(value=0, description='y loop', max=20), HTML(value='')))"
      ]
     },
     "metadata": {},
     "output_type": "display_data"
    },
    {
     "data": {
      "application/vnd.jupyter.widget-view+json": {
       "model_id": "2044942b82314e808fb5c7c2ea7d2ba7",
       "version_major": 2,
       "version_minor": 0
      },
      "text/plain": [
       "HBox(children=(IntProgress(value=0, description='y loop', max=20), HTML(value='')))"
      ]
     },
     "metadata": {},
     "output_type": "display_data"
    },
    {
     "data": {
      "application/vnd.jupyter.widget-view+json": {
       "model_id": "952e0fe8797b425ab3eab1ab92f92f93",
       "version_major": 2,
       "version_minor": 0
      },
      "text/plain": [
       "HBox(children=(IntProgress(value=0, description='y loop', max=20), HTML(value='')))"
      ]
     },
     "metadata": {},
     "output_type": "display_data"
    },
    {
     "data": {
      "application/vnd.jupyter.widget-view+json": {
       "model_id": "26d428cd0655413692f3cc5a22821b1c",
       "version_major": 2,
       "version_minor": 0
      },
      "text/plain": [
       "HBox(children=(IntProgress(value=0, description='y loop', max=20), HTML(value='')))"
      ]
     },
     "metadata": {},
     "output_type": "display_data"
    },
    {
     "data": {
      "application/vnd.jupyter.widget-view+json": {
       "model_id": "99f25209fe514914b296150f6455fec1",
       "version_major": 2,
       "version_minor": 0
      },
      "text/plain": [
       "HBox(children=(IntProgress(value=0, description='y loop', max=20), HTML(value='')))"
      ]
     },
     "metadata": {},
     "output_type": "display_data"
    },
    {
     "data": {
      "application/vnd.jupyter.widget-view+json": {
       "model_id": "982f44d0eeda4918bf003dd81a05780e",
       "version_major": 2,
       "version_minor": 0
      },
      "text/plain": [
       "HBox(children=(IntProgress(value=0, description='y loop', max=20), HTML(value='')))"
      ]
     },
     "metadata": {},
     "output_type": "display_data"
    },
    {
     "data": {
      "application/vnd.jupyter.widget-view+json": {
       "model_id": "8a9be754b7364cb5ae43a247ebc8e37b",
       "version_major": 2,
       "version_minor": 0
      },
      "text/plain": [
       "HBox(children=(IntProgress(value=0, description='y loop', max=20), HTML(value='')))"
      ]
     },
     "metadata": {},
     "output_type": "display_data"
    },
    {
     "data": {
      "application/vnd.jupyter.widget-view+json": {
       "model_id": "5b0d1f5496d143bca2119fbd4328ef6d",
       "version_major": 2,
       "version_minor": 0
      },
      "text/plain": [
       "HBox(children=(IntProgress(value=0, description='y loop', max=20), HTML(value='')))"
      ]
     },
     "metadata": {},
     "output_type": "display_data"
    },
    {
     "data": {
      "application/vnd.jupyter.widget-view+json": {
       "model_id": "e0006255f42148f98e3833db43eb0bde",
       "version_major": 2,
       "version_minor": 0
      },
      "text/plain": [
       "HBox(children=(IntProgress(value=0, description='y loop', max=20), HTML(value='')))"
      ]
     },
     "metadata": {},
     "output_type": "display_data"
    },
    {
     "data": {
      "application/vnd.jupyter.widget-view+json": {
       "model_id": "cb6bc4d8818a418c9a5ea7ddfb58fc15",
       "version_major": 2,
       "version_minor": 0
      },
      "text/plain": [
       "HBox(children=(IntProgress(value=0, description='y loop', max=20), HTML(value='')))"
      ]
     },
     "metadata": {},
     "output_type": "display_data"
    },
    {
     "data": {
      "application/vnd.jupyter.widget-view+json": {
       "model_id": "9c0632df44294c8d87fe7ba8b371434a",
       "version_major": 2,
       "version_minor": 0
      },
      "text/plain": [
       "HBox(children=(IntProgress(value=0, description='y loop', max=20), HTML(value='')))"
      ]
     },
     "metadata": {},
     "output_type": "display_data"
    },
    {
     "data": {
      "application/vnd.jupyter.widget-view+json": {
       "model_id": "b94272a331c242889b9aebc20a4dff25",
       "version_major": 2,
       "version_minor": 0
      },
      "text/plain": [
       "HBox(children=(IntProgress(value=0, description='y loop', max=20), HTML(value='')))"
      ]
     },
     "metadata": {},
     "output_type": "display_data"
    },
    {
     "data": {
      "application/vnd.jupyter.widget-view+json": {
       "model_id": "07ddbf979ea54046b4dc96ffe9ff22c3",
       "version_major": 2,
       "version_minor": 0
      },
      "text/plain": [
       "HBox(children=(IntProgress(value=0, description='y loop', max=20), HTML(value='')))"
      ]
     },
     "metadata": {},
     "output_type": "display_data"
    },
    {
     "name": "stdout",
     "output_type": "stream",
     "text": [
      "\n"
     ]
    }
   ],
   "source": [
    "# DEPRECATED\n",
    "granularity = 50\n",
    "patch_chaos = []\n",
    "for x in tqdm_notebook(np.arange(0,1000,granularity), desc=\"x loop\", leave=True):\n",
    "    acc = []\n",
    "    for y in tqdm_notebook(np.arange(0,1000,granularity), desc=\"y loop\", leave=True):\n",
    "        temp = df[(df.x_coordinate>=x) & (df.x_coordinate<x+granularity) & (df.y_coordinate>=y) & (df.y_coordinate<y+granularity)]\n",
    "        acc.append((temp.local_agreement).mean())\n",
    "    patch_chaos.append(acc)"
   ]
  },
  {
   "cell_type": "code",
   "execution_count": 19,
   "metadata": {},
   "outputs": [
    {
     "data": {
      "image/png": "[encoded data removed]",
      "text/plain": [
       "<matplotlib.figure.Figure at 0x1141cefd0>"
      ]
     },
     "metadata": {},
     "output_type": "display_data"
    }
   ],
   "source": [
    "plt.imshow(patch_chaos)\n",
    "plt.xticks([])\n",
    "plt.yticks([])\n",
    "plt.colorbar()\n",
    "plt.title(\"Average local agreemeent in the canvas by zone\")\n",
    "#plt.tight_layout()\n",
    "plt.savefig(\"figures/canvas_agreement.pdf\")\n",
    "plt.show()"
   ]
  },
  {
   "cell_type": "code",
   "execution_count": 5,
   "metadata": {
    "collapsed": true
   },
   "outputs": [],
   "source": [
    "df[\"x_category\"] = pd.cut(df.x_coordinate, bins=np.arange(-1,1001,granularity), labels=False)\n",
    "df[\"y_category\"] = pd.cut(df.y_coordinate, bins=np.arange(-1,1001,granularity), labels=False)"
   ]
  },
  {
   "cell_type": "code",
   "execution_count": 28,
   "metadata": {
    "collapsed": true,
    "scrolled": true
   },
   "outputs": [],
   "source": [
    "map_avg_local = active_df.groupby(['x_category','y_category'])['local_agreement'].mean()"
   ]
  },
  {
   "cell_type": "code",
   "execution_count": 29,
   "metadata": {},
   "outputs": [
    {
     "data": {
      "image/png": "[encoded data removed]",
      "text/plain": [
       "<matplotlib.figure.Figure at 0x164ff9860>"
      ]
     },
     "metadata": {},
     "output_type": "display_data"
    }
   ],
   "source": [
    "plt.imshow(map_avg_local.values.reshape(20,20))\n",
    "plt.xticks([])\n",
    "plt.yticks([])\n",
    "plt.colorbar()\n",
    "plt.title(\"Average local agreemeent in the canvas by zone\")\n",
    "#plt.tight_layout()\n",
    "plt.savefig(\"figures/canvas_agreement.pdf\")\n",
    "plt.show()"
   ]
  },
  {
   "cell_type": "code",
   "execution_count": 60,
   "metadata": {
    "collapsed": true
   },
   "outputs": [],
   "source": [
    "def show_canvas(data, savefile=None):\n",
    "    last_frame = data.groupby('pixel').last()\n",
    "    x_min = last_frame.x_coordinate.min()\n",
    "    x_max = last_frame.x_coordinate.max()\n",
    "    y_min = last_frame.y_coordinate.min()\n",
    "    y_max = last_frame.y_coordinate.max()\n",
    "\n",
    "    OFFSET = 1001\n",
    "    IMAGE_WIDTH = x_max - x_min + 1\n",
    "    IMAGE_HEIGHT = y_max - y_min + 1\n",
    "    COLORMAP = np.array([\"#FFFFFF\",\"#E4E4E4\",\"#888888\",\"#222222\",\"#FFA7D1\",\"#E50000\",\"#E59500\",\"#A06A42\",\"#E5D900\",\"#94E044\",\"#02BE01\",\"#00E5F0\",\"#0083C7\",\"#0000EA\",\"#E04AFF\",\"#820080\"])\n",
    "\n",
    "    squared_range = np.concatenate([ np.arange(x_min + i*OFFSET, x_max + i*OFFSET + 1) for i in np.arange(y_min, y_max + 1) ])\n",
    "\n",
    "    image = last_frame.reindex(squared_range, fill_value=0).color.values.reshape((IMAGE_HEIGHT,IMAGE_WIDTH))\n",
    "\n",
    "    plt.figure(figsize=(20,20))\n",
    "    plt.imshow(image, cmap=ListedColormap(COLORMAP[image.min():image.max()+1]))\n",
    "    if savefile is not None:\n",
    "        plt.tight_layout()\n",
    "        plt.savefig(savefile)\n",
    "    plt.show()"
   ]
  },
  {
   "cell_type": "code",
   "execution_count": 58,
   "metadata": {
    "collapsed": true,
    "scrolled": true
   },
   "outputs": [],
   "source": [
    "collab_zone = df[df.y_category.isin(np.arange(11,13)) & df.x_category.isin(np.arange(2))]"
   ]
  },
  {
   "cell_type": "code",
   "execution_count": 61,
   "metadata": {},
   "outputs": [
    {
     "data": {
      "image/png": "[encoded data removed]",
      "text/plain": [
       "<matplotlib.figure.Figure at 0x114ce05f8>"
      ]
     },
     "metadata": {},
     "output_type": "display_data"
    }
   ],
   "source": [
    "show_canvas(collab_zone, savefile=\"figures/collab_zone.pdf\")"
   ]
  },
  {
   "cell_type": "code",
   "execution_count": 51,
   "metadata": {
    "collapsed": true,
    "scrolled": true
   },
   "outputs": [],
   "source": [
    "conflict_zone = df[df.y_category.isin(np.arange(17,20)) & df.x_category.isin(np.arange(4,8))]"
   ]
  },
  {
   "cell_type": "code",
   "execution_count": 62,
   "metadata": {},
   "outputs": [
    {
     "data": {
      "image/png": "[encoded data removed]",
      "text/plain": [
       "<matplotlib.figure.Figure at 0x165d0edd8>"
      ]
     },
     "metadata": {},
     "output_type": "display_data"
    }
   ],
   "source": [
    "show_canvas(conflict_zone, savefile=\"figures/conflict_zone.pdf\")"
   ]
  },
  {
   "cell_type": "code",
   "execution_count": 6,
   "metadata": {
    "collapsed": true,
    "scrolled": true
   },
   "outputs": [],
   "source": [
    "nb_time_bins = (3*24+16)*6       # 10 min slices over 3 day and 16 hours\n",
    "df[\"time_category\"] = pd.cut(df.ts, bins=nb_time_bins, labels=False)"
   ]
  },
  {
   "cell_type": "code",
   "execution_count": 16,
   "metadata": {},
   "outputs": [
    {
     "data": {
      "image/png": "[encoded data removed]",
      "text/plain": [
       "<matplotlib.figure.Figure at 0x10c1b24a8>"
      ]
     },
     "metadata": {},
     "output_type": "display_data"
    }
   ],
   "source": [
    "plt.bar(np.arange(df.time_category.nunique()),df.groupby('time_category').size())\n",
    "plt.show()"
   ]
  },
  {
   "cell_type": "code",
   "execution_count": 17,
   "metadata": {
    "scrolled": true
   },
   "outputs": [
    {
     "data": {
      "text/plain": [
       "{2,\n",
       " 7,\n",
       " 10,\n",
       " 12,\n",
       " 18,\n",
       " 19,\n",
       " 24,\n",
       " 27,\n",
       " 30,\n",
       " 33,\n",
       " 34,\n",
       " 35,\n",
       " 36,\n",
       " 37,\n",
       " 38,\n",
       " 39,\n",
       " 40,\n",
       " 41,\n",
       " 42,\n",
       " 43,\n",
       " 44,\n",
       " 45,\n",
       " 48,\n",
       " 49,\n",
       " 51,\n",
       " 52,\n",
       " 53,\n",
       " 54,\n",
       " 55,\n",
       " 56,\n",
       " 57,\n",
       " 58,\n",
       " 59,\n",
       " 60,\n",
       " 61,\n",
       " 62,\n",
       " 63,\n",
       " 64,\n",
       " 65,\n",
       " 66,\n",
       " 67,\n",
       " 68,\n",
       " 69,\n",
       " 70,\n",
       " 71,\n",
       " 72,\n",
       " 73,\n",
       " 74,\n",
       " 75,\n",
       " 76,\n",
       " 77,\n",
       " 78,\n",
       " 79,\n",
       " 80,\n",
       " 81,\n",
       " 82,\n",
       " 83,\n",
       " 84,\n",
       " 85,\n",
       " 86,\n",
       " 91,\n",
       " 97,\n",
       " 98,\n",
       " 99}"
      ]
     },
     "execution_count": 17,
     "metadata": {},
     "output_type": "execute_result"
    }
   ],
   "source": [
    "set(range(nb_time_bins))-set(df.time_category)"
   ]
  },
  {
   "cell_type": "code",
   "execution_count": 7,
   "metadata": {
    "collapsed": true
   },
   "outputs": [],
   "source": [
    "active_df = df[df['time_category']>=100]"
   ]
  },
  {
   "cell_type": "code",
   "execution_count": 8,
   "metadata": {
    "collapsed": true,
    "scrolled": true
   },
   "outputs": [],
   "source": [
    "local_agreement_by_zone = active_df.groupby(['x_category','y_category','time_category'])['local_agreement'].sum()"
   ]
  },
  {
   "cell_type": "code",
   "execution_count": 11,
   "metadata": {},
   "outputs": [
    {
     "data": {
      "image/png": "[encoded data removed]",
      "text/plain": [
       "<matplotlib.figure.Figure at 0x164239668>"
      ]
     },
     "metadata": {},
     "output_type": "display_data"
    }
   ],
   "source": [
    "local_agreement_by_zone.unstack(level=[0,1]).plot(alpha=0.1, legend=None)\n",
    "plt.xlabel('Time')\n",
    "plt.ylabel('Sum of local agreement')\n",
    "plt.tight_layout()\n",
    "plt.savefig('figures/sum_local_agreement_on_patches_over_time.pdf')\n",
    "plt.show()"
   ]
  },
  {
   "cell_type": "code",
   "execution_count": 12,
   "metadata": {},
   "outputs": [
    {
     "data": {
      "image/png": "[encoded data removed]",
      "text/plain": [
       "<matplotlib.figure.Figure at 0x164e746d8>"
      ]
     },
     "metadata": {},
     "output_type": "display_data"
    }
   ],
   "source": [
    "local_agreement_by_zone.unstack(level=[0,1]).cumsum().plot(alpha=0.2, legend=None)\n",
    "plt.xlabel('Time')\n",
    "plt.ylabel('Cumulative sum of local agreement')\n",
    "plt.tight_layout()\n",
    "plt.savefig('figures/cumsum_local_agreement_on_patches.pdf')\n",
    "plt.show()"
   ]
  },
  {
   "cell_type": "code",
   "execution_count": null,
   "metadata": {
    "collapsed": true
   },
   "outputs": [],
   "source": []
  }
 ],
 "metadata": {
  "kernelspec": {
   "display_name": "Python 3",
   "language": "python",
   "name": "python3"
  },
  "language_info": {
   "codemirror_mode": {
    "name": "ipython",
    "version": 3
   },
   "file_extension": ".py",
   "mimetype": "text/x-python",
   "name": "python",
   "nbconvert_exporter": "python",
   "pygments_lexer": "ipython3",
   "version": "3.6.3"
  }
 },
 "nbformat": 4,
 "nbformat_minor": 2
}
